{
  "nbformat": 4,
  "nbformat_minor": 0,
  "metadata": {
    "colab": {
      "provenance": [],
      "gpuType": "T4"
    },
    "kernelspec": {
      "name": "python3",
      "display_name": "Python 3"
    },
    "language_info": {
      "name": "python"
    },
    "accelerator": "GPU"
  },
  "cells": [
    {
      "cell_type": "code",
      "source": [
        "import pandas as pd\n",
        "import numpy as np\n",
        "import math\n",
        "from scipy.spatial import distance_matrix\n",
        "import random\n",
        "from sklearn.neighbors import NearestNeighbors\n"
      ],
      "metadata": {
        "id": "JY1dXaAcTgqk"
      },
      "execution_count": null,
      "outputs": []
    },
    {
      "cell_type": "code",
      "source": [
        "data_path = 'content/abalone9-18.csv'\n",
        "data = pd.read_csv(data_path)"
      ],
      "metadata": {
        "id": "jxFgVv2XTj3p"
      },
      "execution_count": null,
      "outputs": []
    },
    {
      "cell_type": "code",
      "source": [
        "np.random.seed(42)"
      ],
      "metadata": {
        "id": "7RsFHmEWsbeu"
      },
      "execution_count": null,
      "outputs": []
    },
    {
      "cell_type": "code",
      "source": [
        "data.shape"
      ],
      "metadata": {
        "colab": {
          "base_uri": "https://localhost:8080/"
        },
        "id": "isixpRSsMeAy",
        "outputId": "2116c6ec-a4a3-4d22-f7e9-f0ea9a323c2e"
      },
      "execution_count": null,
      "outputs": [
        {
          "output_type": "execute_result",
          "data": {
            "text/plain": [
              "(731, 9)"
            ]
          },
          "metadata": {},
          "execution_count": 4
        }
      ]
    },
    {
      "cell_type": "code",
      "source": [
        "data.head()"
      ],
      "metadata": {
        "colab": {
          "base_uri": "https://localhost:8080/",
          "height": 206
        },
        "id": "JArJj3JXToLo",
        "outputId": "38798fba-9480-4a86-8a2b-7cd57dc531d1"
      },
      "execution_count": null,
      "outputs": [
        {
          "output_type": "execute_result",
          "data": {
            "text/plain": [
              "   1      2      3      4       5       6       7      8  label\n",
              "0  1  0.530  0.420  0.135  0.6770  0.2565  0.1415  0.210      0\n",
              "1  2  0.475  0.370  0.125  0.5095  0.2165  0.1125  0.165      0\n",
              "2  2  0.450  0.320  0.100  0.3810  0.1705  0.0750  0.115      0\n",
              "3  1  0.550  0.415  0.135  0.7635  0.3180  0.2100  0.200      0\n",
              "4  2  0.665  0.525  0.165  1.3380  0.5515  0.3575  0.350      1"
            ],
            "text/html": [
              "\n",
              "  <div id=\"df-f69e9fab-76d0-496d-b16e-399d51027684\" class=\"colab-df-container\">\n",
              "    <div>\n",
              "<style scoped>\n",
              "    .dataframe tbody tr th:only-of-type {\n",
              "        vertical-align: middle;\n",
              "    }\n",
              "\n",
              "    .dataframe tbody tr th {\n",
              "        vertical-align: top;\n",
              "    }\n",
              "\n",
              "    .dataframe thead th {\n",
              "        text-align: right;\n",
              "    }\n",
              "</style>\n",
              "<table border=\"1\" class=\"dataframe\">\n",
              "  <thead>\n",
              "    <tr style=\"text-align: right;\">\n",
              "      <th></th>\n",
              "      <th>1</th>\n",
              "      <th>2</th>\n",
              "      <th>3</th>\n",
              "      <th>4</th>\n",
              "      <th>5</th>\n",
              "      <th>6</th>\n",
              "      <th>7</th>\n",
              "      <th>8</th>\n",
              "      <th>label</th>\n",
              "    </tr>\n",
              "  </thead>\n",
              "  <tbody>\n",
              "    <tr>\n",
              "      <th>0</th>\n",
              "      <td>1</td>\n",
              "      <td>0.530</td>\n",
              "      <td>0.420</td>\n",
              "      <td>0.135</td>\n",
              "      <td>0.6770</td>\n",
              "      <td>0.2565</td>\n",
              "      <td>0.1415</td>\n",
              "      <td>0.210</td>\n",
              "      <td>0</td>\n",
              "    </tr>\n",
              "    <tr>\n",
              "      <th>1</th>\n",
              "      <td>2</td>\n",
              "      <td>0.475</td>\n",
              "      <td>0.370</td>\n",
              "      <td>0.125</td>\n",
              "      <td>0.5095</td>\n",
              "      <td>0.2165</td>\n",
              "      <td>0.1125</td>\n",
              "      <td>0.165</td>\n",
              "      <td>0</td>\n",
              "    </tr>\n",
              "    <tr>\n",
              "      <th>2</th>\n",
              "      <td>2</td>\n",
              "      <td>0.450</td>\n",
              "      <td>0.320</td>\n",
              "      <td>0.100</td>\n",
              "      <td>0.3810</td>\n",
              "      <td>0.1705</td>\n",
              "      <td>0.0750</td>\n",
              "      <td>0.115</td>\n",
              "      <td>0</td>\n",
              "    </tr>\n",
              "    <tr>\n",
              "      <th>3</th>\n",
              "      <td>1</td>\n",
              "      <td>0.550</td>\n",
              "      <td>0.415</td>\n",
              "      <td>0.135</td>\n",
              "      <td>0.7635</td>\n",
              "      <td>0.3180</td>\n",
              "      <td>0.2100</td>\n",
              "      <td>0.200</td>\n",
              "      <td>0</td>\n",
              "    </tr>\n",
              "    <tr>\n",
              "      <th>4</th>\n",
              "      <td>2</td>\n",
              "      <td>0.665</td>\n",
              "      <td>0.525</td>\n",
              "      <td>0.165</td>\n",
              "      <td>1.3380</td>\n",
              "      <td>0.5515</td>\n",
              "      <td>0.3575</td>\n",
              "      <td>0.350</td>\n",
              "      <td>1</td>\n",
              "    </tr>\n",
              "  </tbody>\n",
              "</table>\n",
              "</div>\n",
              "    <div class=\"colab-df-buttons\">\n",
              "\n",
              "  <div class=\"colab-df-container\">\n",
              "    <button class=\"colab-df-convert\" onclick=\"convertToInteractive('df-f69e9fab-76d0-496d-b16e-399d51027684')\"\n",
              "            title=\"Convert this dataframe to an interactive table.\"\n",
              "            style=\"display:none;\">\n",
              "\n",
              "  <svg xmlns=\"http://www.w3.org/2000/svg\" height=\"24px\" viewBox=\"0 -960 960 960\">\n",
              "    <path d=\"M120-120v-720h720v720H120Zm60-500h600v-160H180v160Zm220 220h160v-160H400v160Zm0 220h160v-160H400v160ZM180-400h160v-160H180v160Zm440 0h160v-160H620v160ZM180-180h160v-160H180v160Zm440 0h160v-160H620v160Z\"/>\n",
              "  </svg>\n",
              "    </button>\n",
              "\n",
              "  <style>\n",
              "    .colab-df-container {\n",
              "      display:flex;\n",
              "      gap: 12px;\n",
              "    }\n",
              "\n",
              "    .colab-df-convert {\n",
              "      background-color: #E8F0FE;\n",
              "      border: none;\n",
              "      border-radius: 50%;\n",
              "      cursor: pointer;\n",
              "      display: none;\n",
              "      fill: #1967D2;\n",
              "      height: 32px;\n",
              "      padding: 0 0 0 0;\n",
              "      width: 32px;\n",
              "    }\n",
              "\n",
              "    .colab-df-convert:hover {\n",
              "      background-color: #E2EBFA;\n",
              "      box-shadow: 0px 1px 2px rgba(60, 64, 67, 0.3), 0px 1px 3px 1px rgba(60, 64, 67, 0.15);\n",
              "      fill: #174EA6;\n",
              "    }\n",
              "\n",
              "    .colab-df-buttons div {\n",
              "      margin-bottom: 4px;\n",
              "    }\n",
              "\n",
              "    [theme=dark] .colab-df-convert {\n",
              "      background-color: #3B4455;\n",
              "      fill: #D2E3FC;\n",
              "    }\n",
              "\n",
              "    [theme=dark] .colab-df-convert:hover {\n",
              "      background-color: #434B5C;\n",
              "      box-shadow: 0px 1px 3px 1px rgba(0, 0, 0, 0.15);\n",
              "      filter: drop-shadow(0px 1px 2px rgba(0, 0, 0, 0.3));\n",
              "      fill: #FFFFFF;\n",
              "    }\n",
              "  </style>\n",
              "\n",
              "    <script>\n",
              "      const buttonEl =\n",
              "        document.querySelector('#df-f69e9fab-76d0-496d-b16e-399d51027684 button.colab-df-convert');\n",
              "      buttonEl.style.display =\n",
              "        google.colab.kernel.accessAllowed ? 'block' : 'none';\n",
              "\n",
              "      async function convertToInteractive(key) {\n",
              "        const element = document.querySelector('#df-f69e9fab-76d0-496d-b16e-399d51027684');\n",
              "        const dataTable =\n",
              "          await google.colab.kernel.invokeFunction('convertToInteractive',\n",
              "                                                    [key], {});\n",
              "        if (!dataTable) return;\n",
              "\n",
              "        const docLinkHtml = 'Like what you see? Visit the ' +\n",
              "          '<a target=\"_blank\" href=https://colab.research.google.com/notebooks/data_table.ipynb>data table notebook</a>'\n",
              "          + ' to learn more about interactive tables.';\n",
              "        element.innerHTML = '';\n",
              "        dataTable['output_type'] = 'display_data';\n",
              "        await google.colab.output.renderOutput(dataTable, element);\n",
              "        const docLink = document.createElement('div');\n",
              "        docLink.innerHTML = docLinkHtml;\n",
              "        element.appendChild(docLink);\n",
              "      }\n",
              "    </script>\n",
              "  </div>\n",
              "\n",
              "\n",
              "<div id=\"df-0039d510-7a9e-40f9-8cb8-5fa442d6e2aa\">\n",
              "  <button class=\"colab-df-quickchart\" onclick=\"quickchart('df-0039d510-7a9e-40f9-8cb8-5fa442d6e2aa')\"\n",
              "            title=\"Suggest charts\"\n",
              "            style=\"display:none;\">\n",
              "\n",
              "<svg xmlns=\"http://www.w3.org/2000/svg\" height=\"24px\"viewBox=\"0 0 24 24\"\n",
              "     width=\"24px\">\n",
              "    <g>\n",
              "        <path d=\"M19 3H5c-1.1 0-2 .9-2 2v14c0 1.1.9 2 2 2h14c1.1 0 2-.9 2-2V5c0-1.1-.9-2-2-2zM9 17H7v-7h2v7zm4 0h-2V7h2v10zm4 0h-2v-4h2v4z\"/>\n",
              "    </g>\n",
              "</svg>\n",
              "  </button>\n",
              "\n",
              "<style>\n",
              "  .colab-df-quickchart {\n",
              "      --bg-color: #E8F0FE;\n",
              "      --fill-color: #1967D2;\n",
              "      --hover-bg-color: #E2EBFA;\n",
              "      --hover-fill-color: #174EA6;\n",
              "      --disabled-fill-color: #AAA;\n",
              "      --disabled-bg-color: #DDD;\n",
              "  }\n",
              "\n",
              "  [theme=dark] .colab-df-quickchart {\n",
              "      --bg-color: #3B4455;\n",
              "      --fill-color: #D2E3FC;\n",
              "      --hover-bg-color: #434B5C;\n",
              "      --hover-fill-color: #FFFFFF;\n",
              "      --disabled-bg-color: #3B4455;\n",
              "      --disabled-fill-color: #666;\n",
              "  }\n",
              "\n",
              "  .colab-df-quickchart {\n",
              "    background-color: var(--bg-color);\n",
              "    border: none;\n",
              "    border-radius: 50%;\n",
              "    cursor: pointer;\n",
              "    display: none;\n",
              "    fill: var(--fill-color);\n",
              "    height: 32px;\n",
              "    padding: 0;\n",
              "    width: 32px;\n",
              "  }\n",
              "\n",
              "  .colab-df-quickchart:hover {\n",
              "    background-color: var(--hover-bg-color);\n",
              "    box-shadow: 0 1px 2px rgba(60, 64, 67, 0.3), 0 1px 3px 1px rgba(60, 64, 67, 0.15);\n",
              "    fill: var(--button-hover-fill-color);\n",
              "  }\n",
              "\n",
              "  .colab-df-quickchart-complete:disabled,\n",
              "  .colab-df-quickchart-complete:disabled:hover {\n",
              "    background-color: var(--disabled-bg-color);\n",
              "    fill: var(--disabled-fill-color);\n",
              "    box-shadow: none;\n",
              "  }\n",
              "\n",
              "  .colab-df-spinner {\n",
              "    border: 2px solid var(--fill-color);\n",
              "    border-color: transparent;\n",
              "    border-bottom-color: var(--fill-color);\n",
              "    animation:\n",
              "      spin 1s steps(1) infinite;\n",
              "  }\n",
              "\n",
              "  @keyframes spin {\n",
              "    0% {\n",
              "      border-color: transparent;\n",
              "      border-bottom-color: var(--fill-color);\n",
              "      border-left-color: var(--fill-color);\n",
              "    }\n",
              "    20% {\n",
              "      border-color: transparent;\n",
              "      border-left-color: var(--fill-color);\n",
              "      border-top-color: var(--fill-color);\n",
              "    }\n",
              "    30% {\n",
              "      border-color: transparent;\n",
              "      border-left-color: var(--fill-color);\n",
              "      border-top-color: var(--fill-color);\n",
              "      border-right-color: var(--fill-color);\n",
              "    }\n",
              "    40% {\n",
              "      border-color: transparent;\n",
              "      border-right-color: var(--fill-color);\n",
              "      border-top-color: var(--fill-color);\n",
              "    }\n",
              "    60% {\n",
              "      border-color: transparent;\n",
              "      border-right-color: var(--fill-color);\n",
              "    }\n",
              "    80% {\n",
              "      border-color: transparent;\n",
              "      border-right-color: var(--fill-color);\n",
              "      border-bottom-color: var(--fill-color);\n",
              "    }\n",
              "    90% {\n",
              "      border-color: transparent;\n",
              "      border-bottom-color: var(--fill-color);\n",
              "    }\n",
              "  }\n",
              "</style>\n",
              "\n",
              "  <script>\n",
              "    async function quickchart(key) {\n",
              "      const quickchartButtonEl =\n",
              "        document.querySelector('#' + key + ' button');\n",
              "      quickchartButtonEl.disabled = true;  // To prevent multiple clicks.\n",
              "      quickchartButtonEl.classList.add('colab-df-spinner');\n",
              "      try {\n",
              "        const charts = await google.colab.kernel.invokeFunction(\n",
              "            'suggestCharts', [key], {});\n",
              "      } catch (error) {\n",
              "        console.error('Error during call to suggestCharts:', error);\n",
              "      }\n",
              "      quickchartButtonEl.classList.remove('colab-df-spinner');\n",
              "      quickchartButtonEl.classList.add('colab-df-quickchart-complete');\n",
              "    }\n",
              "    (() => {\n",
              "      let quickchartButtonEl =\n",
              "        document.querySelector('#df-0039d510-7a9e-40f9-8cb8-5fa442d6e2aa button');\n",
              "      quickchartButtonEl.style.display =\n",
              "        google.colab.kernel.accessAllowed ? 'block' : 'none';\n",
              "    })();\n",
              "  </script>\n",
              "</div>\n",
              "    </div>\n",
              "  </div>\n"
            ],
            "application/vnd.google.colaboratory.intrinsic+json": {
              "type": "dataframe",
              "variable_name": "data",
              "summary": "{\n  \"name\": \"data\",\n  \"rows\": 731,\n  \"fields\": [\n    {\n      \"column\": \"1\",\n      \"properties\": {\n        \"dtype\": \"number\",\n        \"std\": 0,\n        \"min\": 1,\n        \"max\": 3,\n        \"num_unique_values\": 3,\n        \"samples\": [\n          1,\n          2,\n          3\n        ],\n        \"semantic_type\": \"\",\n        \"description\": \"\"\n      }\n    },\n    {\n      \"column\": \"2\",\n      \"properties\": {\n        \"dtype\": \"number\",\n        \"std\": 0.08310297083157091,\n        \"min\": 0.28,\n        \"max\": 0.745,\n        \"num_unique_values\": 85,\n        \"samples\": [\n          0.34,\n          0.53,\n          0.7\n        ],\n        \"semantic_type\": \"\",\n        \"description\": \"\"\n      }\n    },\n    {\n      \"column\": \"3\",\n      \"properties\": {\n        \"dtype\": \"number\",\n        \"std\": 0.067992453870507,\n        \"min\": 0.205,\n        \"max\": 0.585,\n        \"num_unique_values\": 69,\n        \"samples\": [\n          0.285,\n          0.42,\n          0.385\n        ],\n        \"semantic_type\": \"\",\n        \"description\": \"\"\n      }\n    },\n    {\n      \"column\": \"4\",\n      \"properties\": {\n        \"dtype\": \"number\",\n        \"std\": 0.02727942151963847,\n        \"min\": 0.015,\n        \"max\": 0.24,\n        \"num_unique_values\": 31,\n        \"samples\": [\n          0.2,\n          0.21,\n          0.115\n        ],\n        \"semantic_type\": \"\",\n        \"description\": \"\"\n      }\n    },\n    {\n      \"column\": \"5\",\n      \"properties\": {\n        \"dtype\": \"number\",\n        \"std\": 0.37371203702968897,\n        \"min\": 0.124,\n        \"max\": 2.3305,\n        \"num_unique_values\": 647,\n        \"samples\": [\n          1.0105,\n          0.5525,\n          1.1\n        ],\n        \"semantic_type\": \"\",\n        \"description\": \"\"\n      }\n    },\n    {\n      \"column\": \"6\",\n      \"properties\": {\n        \"dtype\": \"number\",\n        \"std\": 0.18179182152589987,\n        \"min\": 0.0455,\n        \"max\": 1.253,\n        \"num_unique_values\": 552,\n        \"samples\": [\n          0.531,\n          0.5305,\n          0.401\n        ],\n        \"semantic_type\": \"\",\n        \"description\": \"\"\n      }\n    },\n    {\n      \"column\": \"7\",\n      \"properties\": {\n        \"dtype\": \"number\",\n        \"std\": 0.08516180690608025,\n        \"min\": 0.0295,\n        \"max\": 0.541,\n        \"num_unique_values\": 413,\n        \"samples\": [\n          0.263,\n          0.203,\n          0.3115\n        ],\n        \"semantic_type\": \"\",\n        \"description\": \"\"\n      }\n    },\n    {\n      \"column\": \"8\",\n      \"properties\": {\n        \"dtype\": \"number\",\n        \"std\": 0.10365397324574993,\n        \"min\": 0.04,\n        \"max\": 1.005,\n        \"num_unique_values\": 343,\n        \"samples\": [\n          0.199,\n          0.353,\n          0.2885\n        ],\n        \"semantic_type\": \"\",\n        \"description\": \"\"\n      }\n    },\n    {\n      \"column\": \"label\",\n      \"properties\": {\n        \"dtype\": \"number\",\n        \"std\": 0,\n        \"min\": 0,\n        \"max\": 1,\n        \"num_unique_values\": 2,\n        \"samples\": [\n          1,\n          0\n        ],\n        \"semantic_type\": \"\",\n        \"description\": \"\"\n      }\n    }\n  ]\n}"
            }
          },
          "metadata": {},
          "execution_count": 5
        }
      ]
    },
    {
      "cell_type": "code",
      "source": [
        "label_counts = data['label'].value_counts()\n",
        "label_counts"
      ],
      "metadata": {
        "colab": {
          "base_uri": "https://localhost:8080/"
        },
        "id": "pWil5o27Tx-w",
        "outputId": "8dfe3200-ef60-4145-f4ac-920cfb5d70fc"
      },
      "execution_count": null,
      "outputs": [
        {
          "output_type": "execute_result",
          "data": {
            "text/plain": [
              "label\n",
              "0    689\n",
              "1     42\n",
              "Name: count, dtype: int64"
            ]
          },
          "metadata": {},
          "execution_count": 6
        }
      ]
    },
    {
      "cell_type": "code",
      "source": [
        "missing_values = data.isnull().sum()\n",
        "missing_values"
      ],
      "metadata": {
        "colab": {
          "base_uri": "https://localhost:8080/"
        },
        "id": "lprGSfYjULbG",
        "outputId": "a63f24b5-96e4-48a9-e2f4-e21150678491"
      },
      "execution_count": null,
      "outputs": [
        {
          "output_type": "execute_result",
          "data": {
            "text/plain": [
              "1        0\n",
              "2        0\n",
              "3        0\n",
              "4        0\n",
              "5        0\n",
              "6        0\n",
              "7        0\n",
              "8        0\n",
              "label    0\n",
              "dtype: int64"
            ]
          },
          "metadata": {},
          "execution_count": 7
        }
      ]
    },
    {
      "cell_type": "code",
      "source": [
        "majority_label = label_counts.idxmax()\n",
        "minority_label = label_counts.idxmin()"
      ],
      "metadata": {
        "id": "WRhu3HcxUR4q"
      },
      "execution_count": null,
      "outputs": []
    },
    {
      "cell_type": "code",
      "source": [
        "majority_label"
      ],
      "metadata": {
        "colab": {
          "base_uri": "https://localhost:8080/"
        },
        "id": "2yO7PVSXUXax",
        "outputId": "a2401765-ce55-49d2-8633-5f29b8eff634"
      },
      "execution_count": null,
      "outputs": [
        {
          "output_type": "execute_result",
          "data": {
            "text/plain": [
              "0"
            ]
          },
          "metadata": {},
          "execution_count": 9
        }
      ]
    },
    {
      "cell_type": "code",
      "source": [
        "minority_label"
      ],
      "metadata": {
        "colab": {
          "base_uri": "https://localhost:8080/"
        },
        "id": "j0KDGowKUg4h",
        "outputId": "8f0362fb-4688-448a-870e-e4f711eed86d"
      },
      "execution_count": null,
      "outputs": [
        {
          "output_type": "execute_result",
          "data": {
            "text/plain": [
              "1"
            ]
          },
          "metadata": {},
          "execution_count": 10
        }
      ]
    },
    {
      "cell_type": "code",
      "source": [
        "majority_class = data[data['label'] == majority_label].iloc[:, :-1].values\n",
        "minority_class = data[data['label'] == minority_label].iloc[:, :-1].values\n",
        "labels_majority = data[data['label'] == majority_label]['label'].values\n",
        "labels_minority = data[data['label'] == minority_label]['label'].values"
      ],
      "metadata": {
        "id": "9o8D43R9Um-F"
      },
      "execution_count": null,
      "outputs": []
    },
    {
      "cell_type": "code",
      "source": [
        "majority_class[:25]"
      ],
      "metadata": {
        "colab": {
          "base_uri": "https://localhost:8080/"
        },
        "id": "cvLhlWa9Utp6",
        "outputId": "f37f72a7-26be-4276-b497-78e1b3f1106b"
      },
      "execution_count": null,
      "outputs": [
        {
          "output_type": "execute_result",
          "data": {
            "text/plain": [
              "array([[1.    , 0.53  , 0.42  , 0.135 , 0.677 , 0.2565, 0.1415, 0.21  ],\n",
              "       [2.    , 0.475 , 0.37  , 0.125 , 0.5095, 0.2165, 0.1125, 0.165 ],\n",
              "       [2.    , 0.45  , 0.32  , 0.1   , 0.381 , 0.1705, 0.075 , 0.115 ],\n",
              "       [1.    , 0.55  , 0.415 , 0.135 , 0.7635, 0.318 , 0.21  , 0.2   ],\n",
              "       [2.    , 0.355 , 0.29  , 0.09  , 0.3275, 0.134 , 0.086 , 0.09  ],\n",
              "       [1.    , 0.45  , 0.335 , 0.105 , 0.425 , 0.1865, 0.091 , 0.115 ],\n",
              "       [2.    , 0.47  , 0.37  , 0.12  , 0.5795, 0.293 , 0.227 , 0.14  ],\n",
              "       [1.    , 0.525 , 0.425 , 0.16  , 0.8355, 0.3545, 0.2135, 0.245 ],\n",
              "       [2.    , 0.505 , 0.405 , 0.11  , 0.625 , 0.305 , 0.16  , 0.175 ],\n",
              "       [2.    , 0.595 , 0.475 , 0.14  , 0.944 , 0.3625, 0.189 , 0.315 ],\n",
              "       [1.    , 0.575 , 0.445 , 0.14  , 0.941 , 0.3845, 0.252 , 0.285 ],\n",
              "       [1.    , 0.46  , 0.355 , 0.13  , 0.517 , 0.2205, 0.114 , 0.165 ],\n",
              "       [2.    , 0.535 , 0.435 , 0.15  , 0.725 , 0.269 , 0.1385, 0.25  ],\n",
              "       [1.    , 0.51  , 0.39  , 0.135 , 0.6335, 0.231 , 0.179 , 0.2   ],\n",
              "       [1.    , 0.435 , 0.395 , 0.105 , 0.3635, 0.136 , 0.098 , 0.13  ],\n",
              "       [2.    , 0.495 , 0.395 , 0.125 , 0.5415, 0.2375, 0.1345, 0.155 ],\n",
              "       [2.    , 0.465 , 0.36  , 0.105 , 0.431 , 0.172 , 0.107 , 0.175 ],\n",
              "       [3.    , 0.435 , 0.32  , 0.08  , 0.3325, 0.1485, 0.0635, 0.105 ],\n",
              "       [2.    , 0.425 , 0.35  , 0.105 , 0.393 , 0.13  , 0.063 , 0.165 ],\n",
              "       [1.    , 0.56  , 0.43  , 0.15  , 0.8825, 0.3465, 0.172 , 0.31  ],\n",
              "       [1.    , 0.47  , 0.365 , 0.105 , 0.4205, 0.163 , 0.1035, 0.14  ],\n",
              "       [1.    , 0.44  , 0.35  , 0.125 , 0.4035, 0.175 , 0.063 , 0.129 ],\n",
              "       [2.    , 0.345 , 0.255 , 0.09  , 0.2005, 0.094 , 0.0295, 0.063 ],\n",
              "       [1.    , 0.405 , 0.325 , 0.11  , 0.3555, 0.151 , 0.063 , 0.117 ],\n",
              "       [2.    , 0.375 , 0.285 , 0.095 , 0.253 , 0.096 , 0.0575, 0.0925]])"
            ]
          },
          "metadata": {},
          "execution_count": 12
        }
      ]
    },
    {
      "cell_type": "code",
      "source": [
        "minority_class"
      ],
      "metadata": {
        "colab": {
          "base_uri": "https://localhost:8080/"
        },
        "id": "HeEUA_V3Uxm3",
        "outputId": "c48ad35d-c57b-4294-f235-35421ca4f05a"
      },
      "execution_count": null,
      "outputs": [
        {
          "output_type": "execute_result",
          "data": {
            "text/plain": [
              "array([[2.    , 0.665 , 0.525 , 0.165 , 1.338 , 0.5515, 0.3575, 0.35  ],\n",
              "       [2.    , 0.71  , 0.54  , 0.165 , 1.959 , 0.7665, 0.261 , 0.78  ],\n",
              "       [1.    , 0.725 , 0.56  , 0.21  , 2.141 , 0.65  , 0.398 , 1.005 ],\n",
              "       [2.    , 0.61  , 0.5   , 0.24  , 1.642 , 0.532 , 0.3345, 0.69  ],\n",
              "       [1.    , 0.58  , 0.455 , 0.155 , 0.8365, 0.315 , 0.1385, 0.32  ],\n",
              "       [1.    , 0.645 , 0.525 , 0.19  , 1.8085, 0.7035, 0.3885, 0.395 ],\n",
              "       [2.    , 0.605 , 0.49  , 0.18  , 1.227 , 0.48  , 0.287 , 0.35  ],\n",
              "       [1.    , 0.61  , 0.485 , 0.165 , 1.0915, 0.3935, 0.2435, 0.33  ],\n",
              "       [1.    , 0.575 , 0.45  , 0.17  , 1.0475, 0.3775, 0.1705, 0.385 ],\n",
              "       [1.    , 0.57  , 0.45  , 0.175 , 0.9555, 0.38  , 0.1665, 0.295 ],\n",
              "       [2.    , 0.565 , 0.455 , 0.17  , 0.9065, 0.342 , 0.156 , 0.32  ],\n",
              "       [1.    , 0.565 , 0.455 , 0.15  , 0.8205, 0.365 , 0.159 , 0.26  ],\n",
              "       [3.    , 0.525 , 0.41  , 0.175 , 0.874 , 0.3585, 0.207 , 0.205 ],\n",
              "       [3.    , 0.495 , 0.37  , 0.125 , 0.4775, 0.185 , 0.0705, 0.169 ],\n",
              "       [3.    , 0.485 , 0.38  , 0.14  , 0.673 , 0.2175, 0.13  , 0.195 ],\n",
              "       [3.    , 0.58  , 0.49  , 0.195 , 1.3165, 0.5305, 0.254 , 0.41  ],\n",
              "       [3.    , 0.65  , 0.525 , 0.18  , 1.626 , 0.597 , 0.3445, 0.53  ],\n",
              "       [2.    , 0.525 , 0.425 , 0.12  , 0.8665, 0.2825, 0.176 , 0.29  ],\n",
              "       [1.    , 0.745 , 0.585 , 0.19  , 1.966 , 0.8435, 0.437 , 0.5855],\n",
              "       [2.    , 0.615 , 0.48  , 0.19  , 1.36  , 0.5305, 0.2375, 0.47  ],\n",
              "       [2.    , 0.66  , 0.505 , 0.2   , 1.6305, 0.4865, 0.297 , 0.61  ],\n",
              "       [1.    , 0.6   , 0.475 , 0.18  , 1.162 , 0.511 , 0.2675, 0.32  ],\n",
              "       [1.    , 0.565 , 0.48  , 0.175 , 0.957 , 0.3885, 0.215 , 0.275 ],\n",
              "       [2.    , 0.7   , 0.53  , 0.19  , 1.3185, 0.548 , 0.233 , 0.42  ],\n",
              "       [1.    , 0.66  , 0.525 , 0.205 , 1.3665, 0.5005, 0.291 , 0.41  ],\n",
              "       [2.    , 0.57  , 0.475 , 0.195 , 1.0295, 0.4635, 0.1905, 0.305 ],\n",
              "       [2.    , 0.425 , 0.315 , 0.125 , 0.3525, 0.1135, 0.0565, 0.13  ],\n",
              "       [1.    , 0.465 , 0.35  , 0.13  , 0.494 , 0.1945, 0.103 , 0.155 ],\n",
              "       [1.    , 0.635 , 0.5   , 0.18  , 1.312 , 0.529 , 0.2485, 0.485 ],\n",
              "       [2.    , 0.645 , 0.485 , 0.155 , 1.489 , 0.5915, 0.312 , 0.38  ],\n",
              "       [1.    , 0.64  , 0.54  , 0.175 , 1.571 , 0.627 , 0.271 , 0.475 ],\n",
              "       [1.    , 0.545 , 0.405 , 0.175 , 0.98  , 0.2585, 0.207 , 0.38  ],\n",
              "       [2.    , 0.52  , 0.435 , 0.195 , 0.973 , 0.2985, 0.2135, 0.355 ],\n",
              "       [2.    , 0.635 , 0.51  , 0.155 , 1.156 , 0.428 , 0.289 , 0.315 ],\n",
              "       [2.    , 0.64  , 0.505 , 0.165 , 1.4435, 0.6145, 0.3035, 0.39  ],\n",
              "       [1.    , 0.5   , 0.405 , 0.14  , 0.6735, 0.265 , 0.124 , 0.25  ],\n",
              "       [1.    , 0.655 , 0.53  , 0.19  , 1.428 , 0.493 , 0.318 , 0.565 ],\n",
              "       [2.    , 0.545 , 0.41  , 0.145 , 0.873 , 0.3035, 0.196 , 0.31  ],\n",
              "       [2.    , 0.605 , 0.475 , 0.16  , 1.616 , 0.5495, 0.332 , 0.34  ],\n",
              "       [2.    , 0.48  , 0.395 , 0.15  , 0.6815, 0.2145, 0.1405, 0.2495],\n",
              "       [1.    , 0.655 , 0.5   , 0.18  , 1.4155, 0.508 , 0.314 , 0.445 ],\n",
              "       [1.    , 0.645 , 0.49  , 0.19  , 1.3065, 0.479 , 0.3565, 0.345 ]])"
            ]
          },
          "metadata": {},
          "execution_count": 13
        }
      ]
    },
    {
      "cell_type": "code",
      "source": [
        "features = data.drop('label', axis=1).values\n",
        "labels = data['label'].values"
      ],
      "metadata": {
        "id": "r49MwwTnKoYm"
      },
      "execution_count": null,
      "outputs": []
    },
    {
      "cell_type": "code",
      "source": [
        "labels=np.reshape(labels, newshape=(len(data),1))"
      ],
      "metadata": {
        "id": "qMKi3T4AIbLT"
      },
      "execution_count": null,
      "outputs": []
    },
    {
      "cell_type": "code",
      "source": [
        "features.shape"
      ],
      "metadata": {
        "colab": {
          "base_uri": "https://localhost:8080/"
        },
        "id": "ns59-Ro-MWbE",
        "outputId": "88199281-84c2-4e7d-90a7-2674d8a6cf58"
      },
      "execution_count": null,
      "outputs": [
        {
          "output_type": "execute_result",
          "data": {
            "text/plain": [
              "(731, 8)"
            ]
          },
          "metadata": {},
          "execution_count": 16
        }
      ]
    },
    {
      "cell_type": "code",
      "source": [
        "majority_count = len(labels_majority)\n",
        "minority_count = len(labels_minority)"
      ],
      "metadata": {
        "id": "F8LH2aJcB2KG"
      },
      "execution_count": null,
      "outputs": []
    },
    {
      "cell_type": "code",
      "source": [
        "majority_count"
      ],
      "metadata": {
        "colab": {
          "base_uri": "https://localhost:8080/"
        },
        "id": "ikdgR4hqDQ2d",
        "outputId": "ae14f0ef-c389-405e-975c-835ed6a2fdc0"
      },
      "execution_count": null,
      "outputs": [
        {
          "output_type": "execute_result",
          "data": {
            "text/plain": [
              "689"
            ]
          },
          "metadata": {},
          "execution_count": 18
        }
      ]
    },
    {
      "cell_type": "code",
      "source": [
        "if minority_count > 0:\n",
        "    imbalance_ratio = majority_count / minority_count\n",
        "else:\n",
        "    imbalance_ratio = 0  # To handle cases with no majority class instances\n",
        "print(f\"Imbalance Ratio: {imbalance_ratio:.4f}\")"
      ],
      "metadata": {
        "colab": {
          "base_uri": "https://localhost:8080/"
        },
        "id": "rwDYqjRaB-D3",
        "outputId": "a273286f-0df2-4674-ff67-3eab6df4cc27"
      },
      "execution_count": null,
      "outputs": [
        {
          "output_type": "stream",
          "name": "stdout",
          "text": [
            "Imbalance Ratio: 16.4048\n"
          ]
        }
      ]
    },
    {
      "cell_type": "code",
      "source": [
        "def sample_size(N, num_min):\n",
        "    p = num_min / N\n",
        "    if p == 0 and N >= 9:\n",
        "        size1 = 0\n",
        "    elif p == 0 or p == 1:\n",
        "        size1 = 1\n",
        "    else:\n",
        "        Z = 1.64\n",
        "        epsilon = 0.05\n",
        "        e = epsilon + np.log(N) / N\n",
        "        x = (Z**2 * p * (1-p)) / (e**2)\n",
        "        size1 = (N * x) / (x + N - 1)\n",
        "    return math.ceil(size1)"
      ],
      "metadata": {
        "id": "rPG52fkfBjZW"
      },
      "execution_count": null,
      "outputs": []
    },
    {
      "cell_type": "code",
      "source": [
        "calculated_sample_size = sample_size(majority_count, minority_count)\n",
        "calculated_sample_size"
      ],
      "metadata": {
        "colab": {
          "base_uri": "https://localhost:8080/"
        },
        "id": "Gs-3lcoLCDmh",
        "outputId": "67f09e0a-6151-4419-b515-12406b0ca330"
      },
      "execution_count": null,
      "outputs": [
        {
          "output_type": "execute_result",
          "data": {
            "text/plain": [
              "41"
            ]
          },
          "metadata": {},
          "execution_count": 21
        }
      ]
    },
    {
      "cell_type": "code",
      "source": [
        "\n",
        "def calculate_weights(data, labels, k=5):\n",
        "    labels = np.array(labels).flatten()\n",
        "    nbrs = NearestNeighbors(n_neighbors=k+1, algorithm='ball_tree').fit(data)\n",
        "    distances, indices = nbrs.kneighbors(data)\n",
        "\n",
        "    weights = np.zeros(data.shape[0])\n",
        "    for i in range(data.shape[0]):\n",
        "        distances_i = distances[i, 1:]  # ignore the first one because it's the distance to itself\n",
        "        indices_i = indices[i, 1:]\n",
        "        inverse_distances = 1 / (distances_i + 1e-5)\n",
        "\n",
        "        same_class_mask = (labels[indices_i] == labels[i])\n",
        "        different_class_mask = ~same_class_mask\n",
        "\n",
        "        same_class_weights = inverse_distances * same_class_mask\n",
        "        different_class_weights = inverse_distances * different_class_mask\n",
        "\n",
        "        total_same_class_weight = np.sum(same_class_weights)\n",
        "        total_different_class_weight = np.sum(different_class_weights)\n",
        "        total_weight = total_same_class_weight + total_different_class_weight\n",
        "\n",
        "        if total_weight > 0:\n",
        "            complexity_score = total_same_class_weight / total_weight\n",
        "        else:\n",
        "            complexity_score = 0  # Handle cases with no effective neighbors\n",
        "\n",
        "        weights[i] = complexity_score\n",
        "\n",
        "    return weights\n"
      ],
      "metadata": {
        "id": "MzedsmoTDmL_"
      },
      "execution_count": null,
      "outputs": []
    },
    {
      "cell_type": "code",
      "source": [
        "weights = calculate_weights(features, labels, k=5)"
      ],
      "metadata": {
        "id": "qFr6743_EzCX"
      },
      "execution_count": null,
      "outputs": []
    },
    {
      "cell_type": "code",
      "source": [
        "weights.shape"
      ],
      "metadata": {
        "colab": {
          "base_uri": "https://localhost:8080/"
        },
        "id": "v_EvivFUSA0Z",
        "outputId": "21c15e48-6789-4342-9419-b0ed78239fac"
      },
      "execution_count": null,
      "outputs": [
        {
          "output_type": "execute_result",
          "data": {
            "text/plain": [
              "(731,)"
            ]
          },
          "metadata": {},
          "execution_count": 24
        }
      ]
    },
    {
      "cell_type": "code",
      "source": [
        "majority_weights = weights[labels.flatten() == majority_label]\n",
        "minority_weights = weights[labels.flatten() == minority_label]"
      ],
      "metadata": {
        "id": "gJbN5LasNn7b"
      },
      "execution_count": null,
      "outputs": []
    },
    {
      "cell_type": "code",
      "source": [
        "minority_weights"
      ],
      "metadata": {
        "colab": {
          "base_uri": "https://localhost:8080/"
        },
        "id": "F3XaQWfoTwf1",
        "outputId": "fdf4f174-f8dd-4933-ddb7-124e84ebe709"
      },
      "execution_count": null,
      "outputs": [
        {
          "output_type": "execute_result",
          "data": {
            "text/plain": [
              "array([0.        , 0.38575041, 0.24992685, 0.63869948, 0.19180826,\n",
              "       0.        , 0.        , 0.        , 0.17828388, 0.204649  ,\n",
              "       0.19191533, 0.        , 0.        , 0.        , 0.        ,\n",
              "       0.10555741, 0.2451499 , 0.48755938, 0.16867578, 0.21849434,\n",
              "       0.61722834, 0.        , 0.17785492, 0.18408574, 0.39801757,\n",
              "       0.        , 0.        , 0.        , 0.37936736, 0.28115806,\n",
              "       0.        , 0.19131505, 0.42076677, 0.        , 0.2111699 ,\n",
              "       0.        , 0.66808429, 0.48648307, 0.44073223, 0.        ,\n",
              "       0.60966803, 0.        ])"
            ]
          },
          "metadata": {},
          "execution_count": 26
        }
      ]
    },
    {
      "cell_type": "code",
      "source": [
        "majority_weights"
      ],
      "metadata": {
        "colab": {
          "base_uri": "https://localhost:8080/"
        },
        "id": "ek2B8T98T3cg",
        "outputId": "b3f91b25-ce1b-470a-8481-6ce6d517d6d1"
      },
      "execution_count": null,
      "outputs": [
        {
          "output_type": "execute_result",
          "data": {
            "text/plain": [
              "array([0.80798585, 1.        , 1.        , 1.        , 1.        ,\n",
              "       1.        , 1.        , 1.        , 1.        , 0.80393099,\n",
              "       1.        , 0.73915717, 1.        , 1.        , 1.        ,\n",
              "       1.        , 1.        , 1.        , 1.        , 1.        ,\n",
              "       1.        , 1.        , 1.        , 1.        , 1.        ,\n",
              "       1.        , 1.        , 1.        , 1.        , 0.75767657,\n",
              "       1.        , 1.        , 1.        , 1.        , 0.83537961,\n",
              "       1.        , 1.        , 0.73113932, 1.        , 1.        ,\n",
              "       1.        , 1.        , 1.        , 1.        , 0.79299798,\n",
              "       1.        , 1.        , 1.        , 1.        , 1.        ,\n",
              "       0.81851137, 1.        , 1.        , 1.        , 1.        ,\n",
              "       1.        , 1.        , 1.        , 1.        , 1.        ,\n",
              "       1.        , 1.        , 1.        , 1.        , 1.        ,\n",
              "       1.        , 1.        , 1.        , 1.        , 0.79895233,\n",
              "       1.        , 1.        , 1.        , 1.        , 1.        ,\n",
              "       1.        , 1.        , 1.        , 1.        , 1.        ,\n",
              "       1.        , 1.        , 1.        , 1.        , 1.        ,\n",
              "       1.        , 1.        , 1.        , 1.        , 1.        ,\n",
              "       1.        , 1.        , 1.        , 1.        , 1.        ,\n",
              "       1.        , 1.        , 1.        , 0.75169023, 1.        ,\n",
              "       1.        , 1.        , 1.        , 1.        , 0.76520986,\n",
              "       1.        , 1.        , 1.        , 1.        , 1.        ,\n",
              "       1.        , 1.        , 0.81743366, 1.        , 1.        ,\n",
              "       1.        , 1.        , 1.        , 0.81817586, 1.        ,\n",
              "       1.        , 1.        , 1.        , 1.        , 1.        ,\n",
              "       1.        , 1.        , 1.        , 1.        , 1.        ,\n",
              "       1.        , 1.        , 1.        , 1.        , 1.        ,\n",
              "       1.        , 1.        , 1.        , 1.        , 1.        ,\n",
              "       1.        , 1.        , 1.        , 1.        , 0.81754295,\n",
              "       1.        , 1.        , 1.        , 1.        , 1.        ,\n",
              "       1.        , 1.        , 0.74768174, 1.        , 1.        ,\n",
              "       1.        , 1.        , 1.        , 1.        , 1.        ,\n",
              "       1.        , 1.        , 1.        , 1.        , 1.        ,\n",
              "       1.        , 1.        , 1.        , 1.        , 1.        ,\n",
              "       1.        , 1.        , 1.        , 1.        , 1.        ,\n",
              "       1.        , 1.        , 1.        , 1.        , 1.        ,\n",
              "       1.        , 1.        , 1.        , 1.        , 1.        ,\n",
              "       1.        , 1.        , 1.        , 1.        , 1.        ,\n",
              "       1.        , 1.        , 1.        , 1.        , 1.        ,\n",
              "       1.        , 1.        , 1.        , 0.80453171, 1.        ,\n",
              "       1.        , 1.        , 1.        , 1.        , 1.        ,\n",
              "       1.        , 0.80564098, 1.        , 1.        , 1.        ,\n",
              "       1.        , 1.        , 1.        , 1.        , 1.        ,\n",
              "       1.        , 1.        , 1.        , 1.        , 1.        ,\n",
              "       1.        , 1.        , 1.        , 1.        , 1.        ,\n",
              "       1.        , 1.        , 1.        , 1.        , 1.        ,\n",
              "       0.80296554, 1.        , 1.        , 1.        , 1.        ,\n",
              "       1.        , 1.        , 1.        , 1.        , 1.        ,\n",
              "       1.        , 1.        , 1.        , 1.        , 1.        ,\n",
              "       1.        , 1.        , 1.        , 1.        , 1.        ,\n",
              "       1.        , 1.        , 1.        , 1.        , 1.        ,\n",
              "       1.        , 1.        , 1.        , 1.        , 0.8303374 ,\n",
              "       1.        , 1.        , 1.        , 1.        , 1.        ,\n",
              "       1.        , 1.        , 1.        , 1.        , 1.        ,\n",
              "       0.58114543, 1.        , 1.        , 1.        , 1.        ,\n",
              "       0.85790323, 1.        , 1.        , 1.        , 1.        ,\n",
              "       0.798468  , 1.        , 1.        , 1.        , 0.79047469,\n",
              "       1.        , 1.        , 1.        , 1.        , 0.80369453,\n",
              "       1.        , 0.76685777, 1.        , 1.        , 1.        ,\n",
              "       1.        , 1.        , 1.        , 1.        , 1.        ,\n",
              "       1.        , 1.        , 1.        , 0.78862282, 1.        ,\n",
              "       1.        , 1.        , 1.        , 1.        , 1.        ,\n",
              "       1.        , 1.        , 0.82772902, 1.        , 1.        ,\n",
              "       1.        , 1.        , 1.        , 1.        , 1.        ,\n",
              "       1.        , 1.        , 0.61973245, 0.78518149, 1.        ,\n",
              "       1.        , 1.        , 1.        , 1.        , 1.        ,\n",
              "       1.        , 1.        , 1.        , 1.        , 1.        ,\n",
              "       1.        , 1.        , 1.        , 1.        , 1.        ,\n",
              "       1.        , 1.        , 1.        , 1.        , 1.        ,\n",
              "       0.82916327, 1.        , 1.        , 1.        , 1.        ,\n",
              "       1.        , 1.        , 1.        , 1.        , 1.        ,\n",
              "       1.        , 1.        , 1.        , 1.        , 1.        ,\n",
              "       1.        , 1.        , 1.        , 1.        , 1.        ,\n",
              "       0.80177495, 1.        , 1.        , 1.        , 1.        ,\n",
              "       1.        , 1.        , 1.        , 1.        , 1.        ,\n",
              "       1.        , 1.        , 0.81689828, 0.79528683, 1.        ,\n",
              "       1.        , 1.        , 1.        , 1.        , 1.        ,\n",
              "       1.        , 1.        , 1.        , 1.        , 1.        ,\n",
              "       1.        , 1.        , 1.        , 1.        , 1.        ,\n",
              "       1.        , 1.        , 1.        , 1.        , 1.        ,\n",
              "       1.        , 1.        , 1.        , 0.74640662, 1.        ,\n",
              "       1.        , 1.        , 1.        , 1.        , 0.85474095,\n",
              "       1.        , 1.        , 1.        , 1.        , 1.        ,\n",
              "       1.        , 1.        , 1.        , 1.        , 1.        ,\n",
              "       1.        , 0.82671296, 1.        , 1.        , 1.        ,\n",
              "       1.        , 1.        , 1.        , 1.        , 0.84436361,\n",
              "       1.        , 1.        , 1.        , 1.        , 1.        ,\n",
              "       1.        , 1.        , 1.        , 1.        , 1.        ,\n",
              "       1.        , 1.        , 1.        , 1.        , 1.        ,\n",
              "       1.        , 0.79220707, 1.        , 1.        , 1.        ,\n",
              "       1.        , 1.        , 1.        , 1.        , 1.        ,\n",
              "       0.83365632, 0.80252602, 1.        , 1.        , 1.        ,\n",
              "       1.        , 1.        , 1.        , 1.        , 1.        ,\n",
              "       1.        , 1.        , 1.        , 0.8781213 , 1.        ,\n",
              "       1.        , 1.        , 1.        , 1.        , 1.        ,\n",
              "       1.        , 1.        , 1.        , 1.        , 1.        ,\n",
              "       1.        , 1.        , 1.        , 0.81681234, 1.        ,\n",
              "       1.        , 1.        , 0.75168179, 1.        , 0.78705654,\n",
              "       0.83108177, 1.        , 1.        , 1.        , 1.        ,\n",
              "       1.        , 1.        , 1.        , 1.        , 1.        ,\n",
              "       1.        , 0.88258822, 1.        , 1.        , 1.        ,\n",
              "       1.        , 1.        , 1.        , 1.        , 1.        ,\n",
              "       1.        , 0.86857871, 1.        , 1.        , 1.        ,\n",
              "       1.        , 1.        , 1.        , 1.        , 1.        ,\n",
              "       1.        , 0.79757009, 1.        , 1.        , 1.        ,\n",
              "       1.        , 1.        , 1.        , 1.        , 1.        ,\n",
              "       1.        , 1.        , 1.        , 1.        , 1.        ,\n",
              "       1.        , 1.        , 1.        , 1.        , 1.        ,\n",
              "       1.        , 1.        , 1.        , 1.        , 1.        ,\n",
              "       1.        , 1.        , 1.        , 1.        , 1.        ,\n",
              "       1.        , 1.        , 1.        , 1.        , 1.        ,\n",
              "       0.82410463, 0.58994713, 1.        , 1.        , 1.        ,\n",
              "       1.        , 1.        , 1.        , 1.        , 0.80108464,\n",
              "       1.        , 1.        , 1.        , 1.        , 1.        ,\n",
              "       1.        , 1.        , 1.        , 1.        , 1.        ,\n",
              "       1.        , 1.        , 0.81563636, 1.        , 1.        ,\n",
              "       0.78777599, 1.        , 1.        , 1.        , 1.        ,\n",
              "       1.        , 1.        , 1.        , 1.        , 1.        ,\n",
              "       1.        , 1.        , 1.        , 1.        , 1.        ,\n",
              "       1.        , 1.        , 1.        , 1.        , 1.        ,\n",
              "       1.        , 1.        , 1.        , 1.        , 1.        ,\n",
              "       0.77805816, 1.        , 1.        , 1.        , 1.        ,\n",
              "       1.        , 1.        , 1.        , 1.        , 0.78683396,\n",
              "       1.        , 1.        , 1.        , 1.        , 1.        ,\n",
              "       1.        , 1.        , 1.        , 1.        , 1.        ,\n",
              "       1.        , 1.        , 1.        , 1.        , 1.        ,\n",
              "       1.        , 1.        , 1.        , 1.        , 1.        ,\n",
              "       1.        , 0.80441743, 1.        , 0.81268751, 1.        ,\n",
              "       0.83594873, 1.        , 1.        , 1.        , 1.        ,\n",
              "       0.84367845, 1.        , 1.        , 1.        , 1.        ,\n",
              "       1.        , 1.        , 1.        , 0.81182929, 0.55481291,\n",
              "       1.        , 1.        , 1.        , 1.        , 1.        ,\n",
              "       1.        , 1.        , 1.        , 1.        , 1.        ,\n",
              "       1.        , 1.        , 1.        , 0.79027446, 1.        ,\n",
              "       1.        , 1.        , 1.        , 1.        , 1.        ,\n",
              "       0.84823875, 1.        , 1.        , 1.        , 1.        ,\n",
              "       1.        , 1.        , 1.        , 1.        , 1.        ,\n",
              "       1.        , 0.75054294, 1.        , 0.8120368 ])"
            ]
          },
          "metadata": {},
          "execution_count": 27
        }
      ]
    },
    {
      "cell_type": "code",
      "source": [
        "minority_complexity = sum(minority_weights)/len(minority_weights)\n",
        "majority_complexity = sum(majority_weights)/len(majority_weights)\n",
        "print(f\"Minority Class Complexity: {minority_complexity:.4f}\")\n",
        "print(f\"Majority Class Complexity: {majority_complexity:.4f}\")"
      ],
      "metadata": {
        "colab": {
          "base_uri": "https://localhost:8080/"
        },
        "id": "1ey9OVY0SUDy",
        "outputId": "74c86f40-4f3d-41d0-befd-eb027bd0e09b"
      },
      "execution_count": null,
      "outputs": [
        {
          "output_type": "stream",
          "name": "stdout",
          "text": [
            "Minority Class Complexity: 0.1984\n",
            "Majority Class Complexity: 0.9804\n"
          ]
        }
      ]
    },
    {
      "cell_type": "code",
      "source": [
        "print(\"Data Shape:\", data.shape)\n",
        "print(\"Labels Shape:\", labels.shape)\n",
        "print(\"Weights Shape:\", weights.shape)\n",
        "print(\"Majority weights shape: \", majority_weights.shape)\n",
        "print(\"Majority weights shape: \", minority_weights.shape)\n",
        "print(\"Adjusted Labels Shape:\", labels.shape)\n",
        "print(\"Minority class shape: \", minority_class.shape)\n",
        "print(\"Majority class shape: \", majority_class.shape)"
      ],
      "metadata": {
        "colab": {
          "base_uri": "https://localhost:8080/"
        },
        "id": "EFm1vzKgR2t4",
        "outputId": "b11f7442-8787-4ab7-9c33-a01f09fd8d43"
      },
      "execution_count": null,
      "outputs": [
        {
          "output_type": "stream",
          "name": "stdout",
          "text": [
            "Data Shape: (731, 9)\n",
            "Labels Shape: (731, 1)\n",
            "Weights Shape: (731,)\n",
            "Majority weights shape:  (689,)\n",
            "Majority weights shape:  (42,)\n",
            "Adjusted Labels Shape: (731, 1)\n",
            "Minority class shape:  (42, 8)\n",
            "Majority class shape:  (689, 8)\n"
          ]
        }
      ]
    },
    {
      "cell_type": "code",
      "source": [
        "from sklearn.neighbors import NearestNeighbors\n",
        "from sklearn.metrics import pairwise_distances\n",
        "\n",
        "def initialize_population(valid_indices, population_size, individual_size):\n",
        "    \"\"\"Initialize the population with random selections of valid indices.\"\"\"\n",
        "    return [np.random.choice(valid_indices, size=individual_size, replace=False) for _ in range(population_size)]\n",
        "\n",
        "def concatenate_samples(P, N, SetN):\n",
        "    \"\"\"Concatenate samples as described.\"\"\"\n",
        "    P = np.atleast_2d(P)\n",
        "    N = np.atleast_2d(N)\n",
        "    SetN = np.atleast_2d(SetN)\n",
        "\n",
        "    P_cartesian = np.array([np.concatenate([p1, p2]) for p1 in P for p2 in P])\n",
        "    N_cartesian = np.array([np.concatenate([n, sn]) for n in N for sn in SetN])\n",
        "\n",
        "    return P_cartesian, N_cartesian\n",
        "\n",
        "def calculate_weights(data, labels, k=5):\n",
        "    labels = np.array(labels).flatten()\n",
        "    nbrs = NearestNeighbors(n_neighbors=k+1, algorithm='ball_tree').fit(data)\n",
        "    distances, indices = nbrs.kneighbors(data)\n",
        "\n",
        "    weights = np.zeros(data.shape[0])\n",
        "    for i in range(data.shape[0]):\n",
        "        distances_i = distances[i, 1:]  # ignore the first one because it's the distance to itself\n",
        "        indices_i = indices[i, 1:]\n",
        "        inverse_distances = 1 / (distances_i + 1e-5)\n",
        "\n",
        "        same_class_mask = (labels[indices_i] == labels[i])\n",
        "        different_class_mask = ~same_class_mask\n",
        "\n",
        "        same_class_weights = inverse_distances * same_class_mask\n",
        "        different_class_weights = inverse_distances * different_class_mask\n",
        "\n",
        "        total_same_class_weight = np.sum(same_class_weights)\n",
        "        total_different_class_weight = np.sum(different_class_weights)\n",
        "        total_weight = total_same_class_weight + total_different_class_weight\n",
        "\n",
        "        if total_weight > 0:\n",
        "            complexity_score = total_same_class_weight / total_weight\n",
        "        else:\n",
        "            complexity_score = 0  # Handle cases with no effective neighbors\n",
        "\n",
        "        weights[i] = complexity_score\n",
        "\n",
        "    return weights\n",
        "\n",
        "def calculate_class_complexity(P_cartesian, N_cartesian, weights):\n",
        "    \"\"\"Calculate complexities for concatenated minority and majority classes.\"\"\"\n",
        "    if len(P_cartesian) > 0:\n",
        "        minority_weights_new = weights[:len(P_cartesian)]\n",
        "        minority_complexity = np.mean(minority_weights_new) if len(minority_weights_new) > 0 else 0\n",
        "    else:\n",
        "        minority_complexity = 0\n",
        "\n",
        "    if len(N_cartesian) > 0:\n",
        "        majority_weights_new = weights[len(P_cartesian):]\n",
        "        majority_complexity = np.mean(majority_weights_new) if len(majority_weights_new) > 0 else 0\n",
        "    else:\n",
        "        majority_complexity = 0\n",
        "\n",
        "    return minority_complexity, majority_complexity\n",
        "\n",
        "def calculate_fitness(individual, features, minority_class, majority_class, k=5):\n",
        "    \"\"\"Fitness function considering class complexity after concatenation.\"\"\"\n",
        "    best_samples = features[individual]\n",
        "\n",
        "    # Concatenate the candidate subset with the majority class\n",
        "    P_cartesian, N_cartesian = concatenate_samples(minority_class, majority_class, best_samples)\n",
        "\n",
        "    # Calculate new weights\n",
        "    new_data = np.vstack((P_cartesian, N_cartesian))\n",
        "    new_labels = np.concatenate([np.zeros(len(P_cartesian)), np.ones(len(N_cartesian))])\n",
        "    new_weights = calculate_weights(new_data, new_labels, k=k)\n",
        "\n",
        "    # Calculate class complexities\n",
        "    minority_complexity, majority_complexity = calculate_class_complexity(P_cartesian, N_cartesian, new_weights)\n",
        "\n",
        "    # Combine the complexities into the fitness score\n",
        "    fitness_score = minority_complexity + majority_complexity\n",
        "\n",
        "    return fitness_score, minority_complexity, majority_complexity\n",
        "\n",
        "def select_parents(population, fitnesses, num_parents):\n",
        "    \"\"\"Tournament selection to select parents based on their fitness scores.\"\"\"\n",
        "    parents = []\n",
        "    for _ in range(num_parents):\n",
        "        participants = np.random.choice(len(population), size=3, replace=False)\n",
        "        best = participants[np.argmax(fitnesses[participants])]\n",
        "        parents.append(population[best])\n",
        "    return parents\n",
        "\n",
        "def crossover(parent1, parent2):\n",
        "    \"\"\"Perform one-point crossover between two parents.\"\"\"\n",
        "    crossover_point = np.random.randint(1, len(parent1))\n",
        "    child1 = np.concatenate([parent1[:crossover_point], parent2[crossover_point:]])\n",
        "    child2 = np.concatenate([parent2[:crossover_point], parent1[crossover_point:]])\n",
        "    return child1, child2\n",
        "\n",
        "def mutate(individual, mutation_rate, valid_indices):\n",
        "    \"\"\"Introduce a dynamic mutation based on the generation count.\"\"\"\n",
        "    for i in range(len(individual)):\n",
        "        if np.random.rand() < mutation_rate:\n",
        "            individual[i] = np.random.choice(valid_indices)\n",
        "    return individual\n",
        "\n",
        "def genetic_algorithm(features, population_size, individual_size, generations, initial_mutation_rate, optimal_fitness, minority_class, majority_class, k=5):\n",
        "    valid_indices = np.arange(features.shape[0])\n",
        "    population = initialize_population(valid_indices, population_size, individual_size)\n",
        "\n",
        "    best_overall_fitness = -np.inf\n",
        "    best_overall_individual = None\n",
        "    best_minority_complexity = 0\n",
        "    best_majority_complexity = 0\n",
        "\n",
        "    for generation in range(generations):\n",
        "        fitness_results = [calculate_fitness(ind, features, minority_class, majority_class, k=k) for ind in population]\n",
        "        fitnesses = [result[0] for result in fitness_results]\n",
        "        minority_complexities = [result[1] for result in fitness_results]\n",
        "        majority_complexities = [result[2] for result in fitness_results]\n",
        "\n",
        "        # Handle any NaN values in fitnesses\n",
        "        fitnesses = np.nan_to_num(fitnesses, nan=0.0)\n",
        "\n",
        "        best_index = np.argmax(fitnesses)\n",
        "        if fitnesses[best_index] > best_overall_fitness:\n",
        "            best_overall_fitness = fitnesses[best_index]\n",
        "            best_overall_individual = population[best_index]\n",
        "            best_minority_complexity = minority_complexities[best_index]\n",
        "            best_majority_complexity = majority_complexities[best_index]\n",
        "\n",
        "        if best_overall_fitness >= optimal_fitness:\n",
        "            break\n",
        "\n",
        "        mutation_rate = initial_mutation_rate * (1 - generation / generations)  # Decreasing mutation rate\n",
        "        parents = select_parents(population, fitnesses, len(population) - 1)  # Save one slot for elitism\n",
        "        next_population = [best_overall_individual]  # Elitism: keep the best individual\n",
        "\n",
        "        for i in range(0, len(parents), 2):\n",
        "            if i + 1 < len(parents):\n",
        "                child1, child2 = crossover(parents[i], parents[i + 1])\n",
        "                child1 = mutate(child1, mutation_rate, valid_indices)\n",
        "                child2 = mutate(child2, mutation_rate, valid_indices)\n",
        "                next_population.extend([child1, child2])\n",
        "        population = next_population[:population_size]\n",
        "\n",
        "        # Verbose output to track progress\n",
        "        print(f\"Generation {generation + 1}, Best Fitness: {best_overall_fitness:.4f}, Minority Complexity: {best_minority_complexity:.4f}, Majority Complexity: {best_majority_complexity:.4f}\")\n",
        "\n",
        "    best_samples = features[best_overall_individual]\n",
        "    best_fitness = calculate_fitness(best_overall_individual, features, minority_class, majority_class, k=k)[0]\n",
        "    return best_samples, best_fitness\n",
        "\n",
        "\n",
        "# Parameters for the GA\n",
        "population_size = 10\n",
        "individual_size = calculated_sample_size  # Ensure it’s less than len(valid_indices)\n",
        "generations = 200\n",
        "initial_mutation_rate = 0.1\n",
        "optimal_fitness = 2*0.999  # Set a reasonable upper bound for fitness to ensure it runs enough generations\n",
        "\n",
        "# Run the genetic algorithm\n",
        "best_samples, best_fitness = genetic_algorithm(features, population_size, individual_size, generations, initial_mutation_rate, optimal_fitness, minority_class, majority_class)\n",
        "print(\"Selected Samples (Best Solution):\\n\", best_samples)\n",
        "print(\"Sum of Complexity for the Best Solution:\", best_fitness)\n"
      ],
      "metadata": {
        "id": "wEZshZoiamiT",
        "colab": {
          "base_uri": "https://localhost:8080/"
        },
        "outputId": "c68e3121-99ae-4086-850d-c489525ac776"
      },
      "execution_count": null,
      "outputs": [
        {
          "output_type": "stream",
          "name": "stdout",
          "text": [
            "Generation 1, Best Fitness: 1.7719, Minority Complexity: 0.7727, Majority Complexity: 0.9992\n",
            "Generation 2, Best Fitness: 1.7719, Minority Complexity: 0.7727, Majority Complexity: 0.9992\n",
            "Generation 3, Best Fitness: 1.7719, Minority Complexity: 0.7727, Majority Complexity: 0.9992\n",
            "Generation 4, Best Fitness: 1.7961, Minority Complexity: 0.7973, Majority Complexity: 0.9989\n",
            "Generation 5, Best Fitness: 1.7961, Minority Complexity: 0.7973, Majority Complexity: 0.9989\n",
            "Generation 6, Best Fitness: 1.7970, Minority Complexity: 0.7982, Majority Complexity: 0.9987\n",
            "Generation 7, Best Fitness: 1.7981, Minority Complexity: 0.7988, Majority Complexity: 0.9992\n",
            "Generation 8, Best Fitness: 1.8102, Minority Complexity: 0.8111, Majority Complexity: 0.9991\n",
            "Generation 9, Best Fitness: 1.8169, Minority Complexity: 0.8178, Majority Complexity: 0.9991\n",
            "Generation 10, Best Fitness: 1.8175, Minority Complexity: 0.8183, Majority Complexity: 0.9991\n",
            "Generation 11, Best Fitness: 1.8217, Minority Complexity: 0.8225, Majority Complexity: 0.9992\n",
            "Generation 12, Best Fitness: 1.8217, Minority Complexity: 0.8225, Majority Complexity: 0.9992\n",
            "Generation 13, Best Fitness: 1.8286, Minority Complexity: 0.8292, Majority Complexity: 0.9994\n",
            "Generation 14, Best Fitness: 1.8286, Minority Complexity: 0.8292, Majority Complexity: 0.9994\n",
            "Generation 15, Best Fitness: 1.8316, Minority Complexity: 0.8320, Majority Complexity: 0.9996\n",
            "Generation 16, Best Fitness: 1.8340, Minority Complexity: 0.8344, Majority Complexity: 0.9995\n",
            "Generation 17, Best Fitness: 1.8353, Minority Complexity: 0.8357, Majority Complexity: 0.9996\n",
            "Generation 18, Best Fitness: 1.8353, Minority Complexity: 0.8357, Majority Complexity: 0.9996\n",
            "Generation 19, Best Fitness: 1.8423, Minority Complexity: 0.8425, Majority Complexity: 0.9997\n",
            "Generation 20, Best Fitness: 1.8434, Minority Complexity: 0.8437, Majority Complexity: 0.9997\n",
            "Generation 21, Best Fitness: 1.8604, Minority Complexity: 0.8607, Majority Complexity: 0.9997\n",
            "Generation 22, Best Fitness: 1.8604, Minority Complexity: 0.8607, Majority Complexity: 0.9997\n",
            "Generation 23, Best Fitness: 1.8604, Minority Complexity: 0.8607, Majority Complexity: 0.9997\n",
            "Generation 24, Best Fitness: 1.8604, Minority Complexity: 0.8607, Majority Complexity: 0.9997\n",
            "Generation 25, Best Fitness: 1.8661, Minority Complexity: 0.8663, Majority Complexity: 0.9998\n",
            "Generation 26, Best Fitness: 1.8668, Minority Complexity: 0.8669, Majority Complexity: 0.9998\n",
            "Generation 27, Best Fitness: 1.8668, Minority Complexity: 0.8669, Majority Complexity: 0.9998\n",
            "Generation 28, Best Fitness: 1.8668, Minority Complexity: 0.8669, Majority Complexity: 0.9998\n",
            "Generation 29, Best Fitness: 1.8668, Minority Complexity: 0.8669, Majority Complexity: 0.9998\n",
            "Generation 30, Best Fitness: 1.8668, Minority Complexity: 0.8669, Majority Complexity: 0.9998\n",
            "Generation 31, Best Fitness: 1.8668, Minority Complexity: 0.8669, Majority Complexity: 0.9998\n",
            "Generation 32, Best Fitness: 1.8668, Minority Complexity: 0.8669, Majority Complexity: 0.9998\n",
            "Generation 33, Best Fitness: 1.8668, Minority Complexity: 0.8669, Majority Complexity: 0.9998\n",
            "Generation 34, Best Fitness: 1.8668, Minority Complexity: 0.8669, Majority Complexity: 0.9998\n",
            "Generation 35, Best Fitness: 1.8668, Minority Complexity: 0.8669, Majority Complexity: 0.9998\n",
            "Generation 36, Best Fitness: 1.8668, Minority Complexity: 0.8669, Majority Complexity: 0.9998\n",
            "Generation 37, Best Fitness: 1.8668, Minority Complexity: 0.8669, Majority Complexity: 0.9998\n",
            "Generation 38, Best Fitness: 1.8668, Minority Complexity: 0.8669, Majority Complexity: 0.9998\n",
            "Generation 39, Best Fitness: 1.8668, Minority Complexity: 0.8669, Majority Complexity: 0.9998\n",
            "Generation 40, Best Fitness: 1.8668, Minority Complexity: 0.8669, Majority Complexity: 0.9998\n",
            "Generation 41, Best Fitness: 1.8668, Minority Complexity: 0.8669, Majority Complexity: 0.9998\n",
            "Generation 42, Best Fitness: 1.8668, Minority Complexity: 0.8669, Majority Complexity: 0.9998\n",
            "Generation 43, Best Fitness: 1.8668, Minority Complexity: 0.8669, Majority Complexity: 0.9998\n",
            "Generation 44, Best Fitness: 1.8668, Minority Complexity: 0.8669, Majority Complexity: 0.9998\n",
            "Generation 45, Best Fitness: 1.8668, Minority Complexity: 0.8669, Majority Complexity: 0.9998\n",
            "Generation 46, Best Fitness: 1.8668, Minority Complexity: 0.8669, Majority Complexity: 0.9998\n",
            "Generation 47, Best Fitness: 1.8668, Minority Complexity: 0.8669, Majority Complexity: 0.9998\n",
            "Generation 48, Best Fitness: 1.8668, Minority Complexity: 0.8669, Majority Complexity: 0.9998\n",
            "Generation 49, Best Fitness: 1.8668, Minority Complexity: 0.8669, Majority Complexity: 0.9998\n",
            "Generation 50, Best Fitness: 1.8668, Minority Complexity: 0.8669, Majority Complexity: 0.9998\n",
            "Generation 51, Best Fitness: 1.8668, Minority Complexity: 0.8669, Majority Complexity: 0.9998\n",
            "Generation 52, Best Fitness: 1.8684, Minority Complexity: 0.8685, Majority Complexity: 0.9999\n",
            "Generation 53, Best Fitness: 1.8684, Minority Complexity: 0.8685, Majority Complexity: 0.9999\n",
            "Generation 54, Best Fitness: 1.8684, Minority Complexity: 0.8685, Majority Complexity: 0.9999\n",
            "Generation 55, Best Fitness: 1.8715, Minority Complexity: 0.8717, Majority Complexity: 0.9998\n",
            "Generation 56, Best Fitness: 1.8716, Minority Complexity: 0.8718, Majority Complexity: 0.9998\n",
            "Generation 57, Best Fitness: 1.8716, Minority Complexity: 0.8718, Majority Complexity: 0.9998\n",
            "Generation 58, Best Fitness: 1.8716, Minority Complexity: 0.8718, Majority Complexity: 0.9998\n",
            "Generation 59, Best Fitness: 1.8716, Minority Complexity: 0.8718, Majority Complexity: 0.9998\n",
            "Generation 60, Best Fitness: 1.8716, Minority Complexity: 0.8718, Majority Complexity: 0.9998\n",
            "Generation 61, Best Fitness: 1.8716, Minority Complexity: 0.8718, Majority Complexity: 0.9998\n",
            "Generation 62, Best Fitness: 1.8784, Minority Complexity: 0.8785, Majority Complexity: 0.9998\n",
            "Generation 63, Best Fitness: 1.8784, Minority Complexity: 0.8785, Majority Complexity: 0.9998\n",
            "Generation 64, Best Fitness: 1.8788, Minority Complexity: 0.8791, Majority Complexity: 0.9997\n",
            "Generation 65, Best Fitness: 1.8788, Minority Complexity: 0.8791, Majority Complexity: 0.9997\n",
            "Generation 66, Best Fitness: 1.8788, Minority Complexity: 0.8791, Majority Complexity: 0.9997\n",
            "Generation 67, Best Fitness: 1.8788, Minority Complexity: 0.8791, Majority Complexity: 0.9997\n",
            "Generation 68, Best Fitness: 1.8788, Minority Complexity: 0.8791, Majority Complexity: 0.9997\n",
            "Generation 69, Best Fitness: 1.8788, Minority Complexity: 0.8791, Majority Complexity: 0.9997\n",
            "Generation 70, Best Fitness: 1.8788, Minority Complexity: 0.8791, Majority Complexity: 0.9997\n",
            "Generation 71, Best Fitness: 1.8844, Minority Complexity: 0.8848, Majority Complexity: 0.9997\n",
            "Generation 72, Best Fitness: 1.8886, Minority Complexity: 0.8889, Majority Complexity: 0.9997\n",
            "Generation 73, Best Fitness: 1.8886, Minority Complexity: 0.8889, Majority Complexity: 0.9997\n",
            "Generation 74, Best Fitness: 1.8891, Minority Complexity: 0.8895, Majority Complexity: 0.9997\n",
            "Generation 75, Best Fitness: 1.8891, Minority Complexity: 0.8895, Majority Complexity: 0.9997\n",
            "Generation 76, Best Fitness: 1.8891, Minority Complexity: 0.8895, Majority Complexity: 0.9997\n",
            "Generation 77, Best Fitness: 1.8970, Minority Complexity: 0.8973, Majority Complexity: 0.9997\n",
            "Generation 78, Best Fitness: 1.8970, Minority Complexity: 0.8973, Majority Complexity: 0.9997\n",
            "Generation 79, Best Fitness: 1.8970, Minority Complexity: 0.8973, Majority Complexity: 0.9997\n",
            "Generation 80, Best Fitness: 1.8970, Minority Complexity: 0.8973, Majority Complexity: 0.9997\n",
            "Generation 81, Best Fitness: 1.8970, Minority Complexity: 0.8973, Majority Complexity: 0.9997\n",
            "Generation 82, Best Fitness: 1.8970, Minority Complexity: 0.8973, Majority Complexity: 0.9997\n",
            "Generation 83, Best Fitness: 1.8970, Minority Complexity: 0.8973, Majority Complexity: 0.9997\n",
            "Generation 84, Best Fitness: 1.8992, Minority Complexity: 0.8994, Majority Complexity: 0.9998\n",
            "Generation 85, Best Fitness: 1.8992, Minority Complexity: 0.8994, Majority Complexity: 0.9998\n",
            "Generation 86, Best Fitness: 1.8992, Minority Complexity: 0.8994, Majority Complexity: 0.9998\n",
            "Generation 87, Best Fitness: 1.8992, Minority Complexity: 0.8994, Majority Complexity: 0.9998\n",
            "Generation 88, Best Fitness: 1.8992, Minority Complexity: 0.8994, Majority Complexity: 0.9998\n",
            "Generation 89, Best Fitness: 1.8992, Minority Complexity: 0.8994, Majority Complexity: 0.9998\n",
            "Generation 90, Best Fitness: 1.8992, Minority Complexity: 0.8994, Majority Complexity: 0.9998\n",
            "Generation 91, Best Fitness: 1.8992, Minority Complexity: 0.8994, Majority Complexity: 0.9998\n",
            "Generation 92, Best Fitness: 1.8992, Minority Complexity: 0.8994, Majority Complexity: 0.9998\n",
            "Generation 93, Best Fitness: 1.8992, Minority Complexity: 0.8994, Majority Complexity: 0.9998\n",
            "Generation 94, Best Fitness: 1.8992, Minority Complexity: 0.8994, Majority Complexity: 0.9998\n",
            "Generation 95, Best Fitness: 1.8992, Minority Complexity: 0.8994, Majority Complexity: 0.9998\n",
            "Generation 96, Best Fitness: 1.8992, Minority Complexity: 0.8994, Majority Complexity: 0.9998\n",
            "Generation 97, Best Fitness: 1.8992, Minority Complexity: 0.8994, Majority Complexity: 0.9998\n",
            "Generation 98, Best Fitness: 1.8992, Minority Complexity: 0.8994, Majority Complexity: 0.9998\n",
            "Generation 99, Best Fitness: 1.8992, Minority Complexity: 0.8994, Majority Complexity: 0.9998\n",
            "Generation 100, Best Fitness: 1.8992, Minority Complexity: 0.8994, Majority Complexity: 0.9998\n",
            "Generation 101, Best Fitness: 1.8992, Minority Complexity: 0.8994, Majority Complexity: 0.9998\n",
            "Generation 102, Best Fitness: 1.8993, Minority Complexity: 0.8996, Majority Complexity: 0.9997\n",
            "Generation 103, Best Fitness: 1.8993, Minority Complexity: 0.8996, Majority Complexity: 0.9997\n",
            "Generation 104, Best Fitness: 1.8993, Minority Complexity: 0.8996, Majority Complexity: 0.9997\n",
            "Generation 105, Best Fitness: 1.8993, Minority Complexity: 0.8996, Majority Complexity: 0.9997\n",
            "Generation 106, Best Fitness: 1.8993, Minority Complexity: 0.8996, Majority Complexity: 0.9997\n",
            "Generation 107, Best Fitness: 1.9086, Minority Complexity: 0.9089, Majority Complexity: 0.9997\n",
            "Generation 108, Best Fitness: 1.9086, Minority Complexity: 0.9089, Majority Complexity: 0.9997\n",
            "Generation 109, Best Fitness: 1.9086, Minority Complexity: 0.9089, Majority Complexity: 0.9997\n",
            "Generation 110, Best Fitness: 1.9086, Minority Complexity: 0.9089, Majority Complexity: 0.9997\n",
            "Generation 111, Best Fitness: 1.9086, Minority Complexity: 0.9089, Majority Complexity: 0.9997\n",
            "Generation 112, Best Fitness: 1.9086, Minority Complexity: 0.9089, Majority Complexity: 0.9997\n",
            "Generation 113, Best Fitness: 1.9086, Minority Complexity: 0.9089, Majority Complexity: 0.9997\n",
            "Generation 114, Best Fitness: 1.9086, Minority Complexity: 0.9089, Majority Complexity: 0.9997\n",
            "Generation 115, Best Fitness: 1.9086, Minority Complexity: 0.9089, Majority Complexity: 0.9997\n",
            "Generation 116, Best Fitness: 1.9086, Minority Complexity: 0.9089, Majority Complexity: 0.9997\n",
            "Generation 117, Best Fitness: 1.9086, Minority Complexity: 0.9089, Majority Complexity: 0.9997\n",
            "Generation 118, Best Fitness: 1.9086, Minority Complexity: 0.9089, Majority Complexity: 0.9997\n",
            "Generation 119, Best Fitness: 1.9086, Minority Complexity: 0.9089, Majority Complexity: 0.9997\n",
            "Generation 120, Best Fitness: 1.9086, Minority Complexity: 0.9089, Majority Complexity: 0.9997\n",
            "Generation 121, Best Fitness: 1.9086, Minority Complexity: 0.9089, Majority Complexity: 0.9997\n",
            "Generation 122, Best Fitness: 1.9115, Minority Complexity: 0.9117, Majority Complexity: 0.9998\n",
            "Generation 123, Best Fitness: 1.9115, Minority Complexity: 0.9117, Majority Complexity: 0.9998\n",
            "Generation 124, Best Fitness: 1.9115, Minority Complexity: 0.9117, Majority Complexity: 0.9998\n",
            "Generation 125, Best Fitness: 1.9115, Minority Complexity: 0.9117, Majority Complexity: 0.9998\n",
            "Generation 126, Best Fitness: 1.9115, Minority Complexity: 0.9117, Majority Complexity: 0.9998\n",
            "Generation 127, Best Fitness: 1.9115, Minority Complexity: 0.9117, Majority Complexity: 0.9998\n",
            "Generation 128, Best Fitness: 1.9115, Minority Complexity: 0.9117, Majority Complexity: 0.9998\n",
            "Generation 129, Best Fitness: 1.9115, Minority Complexity: 0.9117, Majority Complexity: 0.9998\n",
            "Generation 130, Best Fitness: 1.9119, Minority Complexity: 0.9120, Majority Complexity: 0.9998\n",
            "Generation 131, Best Fitness: 1.9119, Minority Complexity: 0.9120, Majority Complexity: 0.9998\n",
            "Generation 132, Best Fitness: 1.9119, Minority Complexity: 0.9120, Majority Complexity: 0.9998\n",
            "Generation 133, Best Fitness: 1.9119, Minority Complexity: 0.9120, Majority Complexity: 0.9998\n",
            "Generation 134, Best Fitness: 1.9136, Minority Complexity: 0.9137, Majority Complexity: 0.9998\n",
            "Generation 135, Best Fitness: 1.9136, Minority Complexity: 0.9137, Majority Complexity: 0.9998\n",
            "Generation 136, Best Fitness: 1.9136, Minority Complexity: 0.9137, Majority Complexity: 0.9998\n",
            "Generation 137, Best Fitness: 1.9136, Minority Complexity: 0.9137, Majority Complexity: 0.9998\n",
            "Generation 138, Best Fitness: 1.9143, Minority Complexity: 0.9145, Majority Complexity: 0.9998\n",
            "Generation 139, Best Fitness: 1.9145, Minority Complexity: 0.9147, Majority Complexity: 0.9999\n",
            "Generation 140, Best Fitness: 1.9145, Minority Complexity: 0.9147, Majority Complexity: 0.9999\n",
            "Generation 141, Best Fitness: 1.9145, Minority Complexity: 0.9147, Majority Complexity: 0.9999\n",
            "Generation 142, Best Fitness: 1.9147, Minority Complexity: 0.9149, Majority Complexity: 0.9998\n",
            "Generation 143, Best Fitness: 1.9149, Minority Complexity: 0.9151, Majority Complexity: 0.9999\n",
            "Generation 144, Best Fitness: 1.9149, Minority Complexity: 0.9151, Majority Complexity: 0.9999\n",
            "Generation 145, Best Fitness: 1.9149, Minority Complexity: 0.9151, Majority Complexity: 0.9999\n",
            "Generation 146, Best Fitness: 1.9149, Minority Complexity: 0.9151, Majority Complexity: 0.9999\n",
            "Generation 147, Best Fitness: 1.9149, Minority Complexity: 0.9151, Majority Complexity: 0.9999\n",
            "Generation 148, Best Fitness: 1.9149, Minority Complexity: 0.9151, Majority Complexity: 0.9999\n",
            "Generation 149, Best Fitness: 1.9150, Minority Complexity: 0.9151, Majority Complexity: 0.9999\n",
            "Generation 150, Best Fitness: 1.9150, Minority Complexity: 0.9151, Majority Complexity: 0.9999\n",
            "Generation 151, Best Fitness: 1.9150, Minority Complexity: 0.9151, Majority Complexity: 0.9999\n",
            "Generation 152, Best Fitness: 1.9158, Minority Complexity: 0.9160, Majority Complexity: 0.9999\n",
            "Generation 153, Best Fitness: 1.9158, Minority Complexity: 0.9160, Majority Complexity: 0.9999\n",
            "Generation 154, Best Fitness: 1.9158, Minority Complexity: 0.9160, Majority Complexity: 0.9999\n",
            "Generation 155, Best Fitness: 1.9158, Minority Complexity: 0.9160, Majority Complexity: 0.9999\n",
            "Generation 156, Best Fitness: 1.9158, Minority Complexity: 0.9160, Majority Complexity: 0.9999\n",
            "Generation 157, Best Fitness: 1.9158, Minority Complexity: 0.9160, Majority Complexity: 0.9999\n",
            "Generation 158, Best Fitness: 1.9158, Minority Complexity: 0.9160, Majority Complexity: 0.9999\n",
            "Generation 159, Best Fitness: 1.9161, Minority Complexity: 0.9163, Majority Complexity: 0.9998\n",
            "Generation 160, Best Fitness: 1.9161, Minority Complexity: 0.9163, Majority Complexity: 0.9998\n",
            "Generation 161, Best Fitness: 1.9163, Minority Complexity: 0.9164, Majority Complexity: 0.9998\n",
            "Generation 162, Best Fitness: 1.9163, Minority Complexity: 0.9164, Majority Complexity: 0.9998\n",
            "Generation 163, Best Fitness: 1.9163, Minority Complexity: 0.9164, Majority Complexity: 0.9998\n",
            "Generation 164, Best Fitness: 1.9163, Minority Complexity: 0.9164, Majority Complexity: 0.9998\n",
            "Generation 165, Best Fitness: 1.9163, Minority Complexity: 0.9164, Majority Complexity: 0.9998\n",
            "Generation 166, Best Fitness: 1.9163, Minority Complexity: 0.9164, Majority Complexity: 0.9998\n",
            "Generation 167, Best Fitness: 1.9163, Minority Complexity: 0.9164, Majority Complexity: 0.9998\n",
            "Generation 168, Best Fitness: 1.9170, Minority Complexity: 0.9172, Majority Complexity: 0.9998\n",
            "Generation 169, Best Fitness: 1.9170, Minority Complexity: 0.9172, Majority Complexity: 0.9998\n",
            "Generation 170, Best Fitness: 1.9171, Minority Complexity: 0.9173, Majority Complexity: 0.9998\n",
            "Generation 171, Best Fitness: 1.9171, Minority Complexity: 0.9173, Majority Complexity: 0.9998\n",
            "Generation 172, Best Fitness: 1.9171, Minority Complexity: 0.9173, Majority Complexity: 0.9998\n",
            "Generation 173, Best Fitness: 1.9171, Minority Complexity: 0.9173, Majority Complexity: 0.9998\n",
            "Generation 174, Best Fitness: 1.9171, Minority Complexity: 0.9173, Majority Complexity: 0.9998\n",
            "Generation 175, Best Fitness: 1.9171, Minority Complexity: 0.9173, Majority Complexity: 0.9998\n",
            "Generation 176, Best Fitness: 1.9171, Minority Complexity: 0.9173, Majority Complexity: 0.9998\n",
            "Generation 177, Best Fitness: 1.9171, Minority Complexity: 0.9173, Majority Complexity: 0.9998\n",
            "Generation 178, Best Fitness: 1.9173, Minority Complexity: 0.9174, Majority Complexity: 0.9999\n",
            "Generation 179, Best Fitness: 1.9173, Minority Complexity: 0.9174, Majority Complexity: 0.9999\n",
            "Generation 180, Best Fitness: 1.9173, Minority Complexity: 0.9174, Majority Complexity: 0.9999\n",
            "Generation 181, Best Fitness: 1.9173, Minority Complexity: 0.9174, Majority Complexity: 0.9999\n",
            "Generation 182, Best Fitness: 1.9173, Minority Complexity: 0.9174, Majority Complexity: 0.9999\n",
            "Generation 183, Best Fitness: 1.9173, Minority Complexity: 0.9174, Majority Complexity: 0.9999\n",
            "Generation 184, Best Fitness: 1.9173, Minority Complexity: 0.9174, Majority Complexity: 0.9999\n",
            "Generation 185, Best Fitness: 1.9173, Minority Complexity: 0.9174, Majority Complexity: 0.9999\n",
            "Generation 186, Best Fitness: 1.9173, Minority Complexity: 0.9174, Majority Complexity: 0.9999\n",
            "Generation 187, Best Fitness: 1.9173, Minority Complexity: 0.9174, Majority Complexity: 0.9999\n",
            "Generation 188, Best Fitness: 1.9173, Minority Complexity: 0.9174, Majority Complexity: 0.9999\n",
            "Generation 189, Best Fitness: 1.9173, Minority Complexity: 0.9174, Majority Complexity: 0.9999\n",
            "Generation 190, Best Fitness: 1.9173, Minority Complexity: 0.9174, Majority Complexity: 0.9999\n",
            "Generation 191, Best Fitness: 1.9173, Minority Complexity: 0.9174, Majority Complexity: 0.9999\n",
            "Generation 192, Best Fitness: 1.9173, Minority Complexity: 0.9174, Majority Complexity: 0.9999\n",
            "Generation 193, Best Fitness: 1.9173, Minority Complexity: 0.9174, Majority Complexity: 0.9999\n",
            "Generation 194, Best Fitness: 1.9173, Minority Complexity: 0.9174, Majority Complexity: 0.9999\n",
            "Generation 195, Best Fitness: 1.9173, Minority Complexity: 0.9174, Majority Complexity: 0.9999\n",
            "Generation 196, Best Fitness: 1.9173, Minority Complexity: 0.9174, Majority Complexity: 0.9999\n",
            "Generation 197, Best Fitness: 1.9173, Minority Complexity: 0.9174, Majority Complexity: 0.9999\n",
            "Generation 198, Best Fitness: 1.9173, Minority Complexity: 0.9174, Majority Complexity: 0.9999\n",
            "Generation 199, Best Fitness: 1.9173, Minority Complexity: 0.9174, Majority Complexity: 0.9999\n",
            "Generation 200, Best Fitness: 1.9173, Minority Complexity: 0.9174, Majority Complexity: 0.9999\n",
            "Selected Samples (Best Solution):\n",
            " [[3.     0.475  0.34   0.105  0.4535 0.203  0.08   0.1465]\n",
            " [3.     0.4    0.3    0.11   0.315  0.109  0.067  0.12  ]\n",
            " [3.     0.28   0.205  0.08   0.127  0.052  0.039  0.042 ]\n",
            " [1.     0.345  0.255  0.1    0.197  0.071  0.051  0.06  ]\n",
            " [2.     0.58   0.46   0.16   1.063  0.513  0.2705 0.2625]\n",
            " [2.     0.555  0.425  0.15   0.873  0.4625 0.1845 0.1965]\n",
            " [3.     0.465  0.36   0.105  0.452  0.22   0.159  0.1035]\n",
            " [1.     0.37   0.285  0.105  0.27   0.1125 0.0585 0.0835]\n",
            " [3.     0.53   0.425  0.13   0.781  0.3905 0.2005 0.215 ]\n",
            " [3.     0.475  0.36   0.11   0.4555 0.177  0.0965 0.145 ]\n",
            " [2.     0.52   0.4    0.105  0.872  0.4515 0.1615 0.1985]\n",
            " [3.     0.48   0.37   0.125  0.474  0.179  0.1035 0.175 ]\n",
            " [3.     0.445  0.36   0.11   0.4235 0.182  0.0765 0.14  ]\n",
            " [3.     0.355  0.27   0.105  0.271  0.1425 0.0525 0.0735]\n",
            " [2.     0.5    0.37   0.15   1.0615 0.494  0.223  0.296 ]\n",
            " [2.     0.31   0.225  0.075  0.1295 0.0455 0.0335 0.044 ]\n",
            " [1.     0.37   0.29   0.115  0.25   0.111  0.057  0.075 ]\n",
            " [2.     0.58   0.46   0.16   1.063  0.513  0.2705 0.2625]\n",
            " [3.     0.455  0.37   0.125  0.433  0.201  0.1265 0.145 ]\n",
            " [3.     0.355  0.27   0.105  0.271  0.1425 0.0525 0.0735]\n",
            " [3.     0.42   0.33   0.1    0.352  0.1635 0.089  0.1   ]\n",
            " [2.     0.61   0.485  0.145  1.3305 0.783  0.2255 0.2865]\n",
            " [3.     0.4    0.265  0.1    0.2775 0.1245 0.0605 0.08  ]\n",
            " [3.     0.43   0.34   0.12   0.3575 0.151  0.0645 0.1045]\n",
            " [2.     0.58   0.46   0.15   1.0165 0.491  0.221  0.265 ]\n",
            " [3.     0.53   0.425  0.13   0.781  0.3905 0.2005 0.215 ]\n",
            " [3.     0.455  0.355  0.08   0.452  0.2165 0.0995 0.125 ]\n",
            " [2.     0.575  0.45   0.155  0.9765 0.495  0.2145 0.235 ]\n",
            " [2.     0.58   0.46   0.16   1.063  0.513  0.2705 0.2625]\n",
            " [3.     0.62   0.47   0.14   0.8565 0.3595 0.16   0.295 ]\n",
            " [1.     0.69   0.53   0.17   1.5535 0.7945 0.3485 0.3695]\n",
            " [2.     0.57   0.45   0.135  1.02   0.546  0.204  0.25  ]\n",
            " [1.     0.655  0.46   0.16   1.494  0.6895 0.331  0.1825]\n",
            " [3.     0.44   0.32   0.105  0.3875 0.1755 0.074  0.12  ]\n",
            " [2.     0.34   0.255  0.095  0.213  0.081  0.034  0.07  ]\n",
            " [2.     0.585  0.465  0.155  0.9145 0.4555 0.1965 0.235 ]\n",
            " [1.     0.6    0.475  0.135  1.4405 0.5885 0.191  0.3175]\n",
            " [3.     0.335  0.255  0.085  0.1785 0.071  0.0405 0.055 ]\n",
            " [1.     0.33   0.26   0.08   0.2    0.0625 0.05   0.07  ]\n",
            " [3.     0.455  0.35   0.13   0.4725 0.215  0.0745 0.15  ]\n",
            " [3.     0.455  0.37   0.125  0.433  0.201  0.1265 0.145 ]]\n",
            "Sum of Complexity for the Best Solution: 1.9172808652222622\n"
          ]
        }
      ]
    },
    {
      "cell_type": "code",
      "source": [
        "def concatenate_samples(P, N, SetN):\n",
        "    # Ensure all inputs are at least 2D\n",
        "    P = np.atleast_2d(P)\n",
        "    N = np.atleast_2d(N)\n",
        "    SetN = np.atleast_2d(SetN)\n",
        "\n",
        "    # Cartesian product for P: all combinations of P with itself\n",
        "    P_cartesian = np.array([np.concatenate([p1, p2]) for p1 in P for p2 in P])\n",
        "\n",
        "    # Cartesian product for N and SetN: all combinations of N with SetN\n",
        "    N_cartesian = np.array([np.concatenate([n, sn]) for n in N for sn in SetN])\n",
        "\n",
        "    return P_cartesian, N_cartesian"
      ],
      "metadata": {
        "id": "Eyd7bUAVc9PT"
      },
      "execution_count": null,
      "outputs": []
    },
    {
      "cell_type": "code",
      "source": [
        "P_cartesian, N_cartesian = concatenate_samples(minority_class,majority_class, best_samples)\n"
      ],
      "metadata": {
        "id": "pagRd1Podt40"
      },
      "execution_count": null,
      "outputs": []
    },
    {
      "cell_type": "code",
      "source": [
        "P_cartesian.shape"
      ],
      "metadata": {
        "id": "vctgroFgeMtm",
        "colab": {
          "base_uri": "https://localhost:8080/"
        },
        "outputId": "e818fbb3-5813-43ea-edfc-71f87ee189ec"
      },
      "execution_count": null,
      "outputs": [
        {
          "output_type": "execute_result",
          "data": {
            "text/plain": [
              "(1764, 16)"
            ]
          },
          "metadata": {},
          "execution_count": 33
        }
      ]
    },
    {
      "cell_type": "code",
      "source": [
        "N_cartesian.shape"
      ],
      "metadata": {
        "id": "wXE3L3w2eRBS",
        "colab": {
          "base_uri": "https://localhost:8080/"
        },
        "outputId": "1ac9a4e7-e68d-4c41-a9d5-5f4a9add801b"
      },
      "execution_count": null,
      "outputs": [
        {
          "output_type": "execute_result",
          "data": {
            "text/plain": [
              "(28249, 16)"
            ]
          },
          "metadata": {},
          "execution_count": 34
        }
      ]
    },
    {
      "cell_type": "code",
      "source": [
        "new_weights = calculate_weights(np.vstack((P_cartesian, N_cartesian)), np.concatenate([np.zeros(len(P_cartesian)), np.ones(len(N_cartesian))]), k=5)"
      ],
      "metadata": {
        "id": "tMKwonqvQYgW"
      },
      "execution_count": null,
      "outputs": []
    },
    {
      "cell_type": "code",
      "source": [
        "minority_weights_new = new_weights[:len(P_cartesian)]\n",
        "majority_weights_new = new_weights[len(P_cartesian):]"
      ],
      "metadata": {
        "id": "OyRZwMGDQbLI"
      },
      "execution_count": null,
      "outputs": []
    },
    {
      "cell_type": "code",
      "source": [
        "minority_weights_new.shape"
      ],
      "metadata": {
        "id": "OcmhiGTNis6a",
        "colab": {
          "base_uri": "https://localhost:8080/"
        },
        "outputId": "7fa1c27c-3f24-4e7a-882b-48b5c6dfacf7"
      },
      "execution_count": null,
      "outputs": [
        {
          "output_type": "execute_result",
          "data": {
            "text/plain": [
              "(1764,)"
            ]
          },
          "metadata": {},
          "execution_count": 37
        }
      ]
    },
    {
      "cell_type": "code",
      "source": [
        "majority_weights_new.shape"
      ],
      "metadata": {
        "id": "piwpKqpViwTA",
        "colab": {
          "base_uri": "https://localhost:8080/"
        },
        "outputId": "81ee8afe-f5e5-4b26-8c76-c4f2b24b0236"
      },
      "execution_count": null,
      "outputs": [
        {
          "output_type": "execute_result",
          "data": {
            "text/plain": [
              "(28249,)"
            ]
          },
          "metadata": {},
          "execution_count": 38
        }
      ]
    },
    {
      "cell_type": "code",
      "source": [
        "# Calculate complexities based on the weights calculated\n",
        "minority_complexity = np.mean(minority_weights_new)  # Complexity for minority class after concatenation\n",
        "majority_complexity = np.mean(majority_weights_new)  # Complexity for majority class after concatenation\n",
        "\n",
        "print(f\"Minority Class Complexity after Concatenation: {minority_complexity:.4f}\")\n",
        "print(f\"Majority Class Complexity after Concatenation: {majority_complexity:.4f}\")\n"
      ],
      "metadata": {
        "id": "JYvAN0Euhe0u",
        "colab": {
          "base_uri": "https://localhost:8080/"
        },
        "outputId": "3e9831b0-a20c-4afa-8b46-0873c3aa3feb"
      },
      "execution_count": null,
      "outputs": [
        {
          "output_type": "stream",
          "name": "stdout",
          "text": [
            "Minority Class Complexity after Concatenation: 0.9174\n",
            "Majority Class Complexity after Concatenation: 0.9999\n"
          ]
        }
      ]
    }
  ]
}