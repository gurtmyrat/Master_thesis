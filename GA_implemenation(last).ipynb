{
  "cells": [
    {
      "cell_type": "code",
      "execution_count": null,
      "metadata": {
        "id": "JY1dXaAcTgqk"
      },
      "outputs": [],
      "source": [
        "import pandas as pd\n",
        "import numpy as np\n",
        "import torch\n",
        "import torch.nn as nn\n",
        "import math\n",
        "import random\n",
        "from scipy.spatial import distance_matrix\n",
        "from sklearn.neighbors import NearestNeighbors\n",
        "import torch.nn.functional as F\n",
        "from torch.utils.data import DataLoader, TensorDataset, SubsetRandomSampler\n",
        "from sklearn.model_selection import train_test_split, StratifiedKFold\n",
        "from sklearn.metrics import accuracy_score, f1_score, recall_score, roc_curve, precision_recall_curve, roc_auc_score, confusion_matrix\n",
        "from imblearn.metrics import geometric_mean_score\n",
        "import matplotlib.pyplot as plt\n",
        "from sklearn.model_selection import RepeatedStratifiedKFold\n"
      ]
    },
    {
      "cell_type": "code",
      "execution_count": null,
      "metadata": {
        "id": "jxFgVv2XTj3p"
      },
      "outputs": [],
      "source": [
        "data_path = '/content/ecoli-0-6-7_vs_5.csv'\n",
        "data = pd.read_csv(data_path)"
      ]
    },
    {
      "cell_type": "code",
      "execution_count": null,
      "metadata": {
        "id": "7RsFHmEWsbeu"
      },
      "outputs": [],
      "source": [
        "np.random.seed(42)"
      ]
    },
    {
      "cell_type": "code",
      "execution_count": null,
      "metadata": {
        "colab": {
          "base_uri": "https://localhost:8080/"
        },
        "id": "isixpRSsMeAy",
        "outputId": "f2174d1a-8a5f-46a9-8b6f-04971db71b0e"
      },
      "outputs": [
        {
          "output_type": "execute_result",
          "data": {
            "text/plain": [
              "(220, 7)"
            ]
          },
          "metadata": {},
          "execution_count": 1226
        }
      ],
      "source": [
        "data.shape"
      ]
    },
    {
      "cell_type": "code",
      "execution_count": null,
      "metadata": {
        "colab": {
          "base_uri": "https://localhost:8080/",
          "height": 206
        },
        "id": "JArJj3JXToLo",
        "outputId": "8b5f5fee-64ea-425a-d877-7a7551c1db80"
      },
      "outputs": [
        {
          "output_type": "execute_result",
          "data": {
            "text/plain": [
              "      1     2     3     4     5     6  label\n",
              "0  49.0  29.0  48.0  56.0  24.0  35.0      0\n",
              "1   7.0   4.0  48.0  54.0  35.0  44.0      0\n",
              "2  56.0   4.0  48.0  49.0  37.0  46.0      0\n",
              "3  59.0  49.0  48.0  52.0  45.0  36.0      0\n",
              "4  23.0  32.0  48.0  55.0  25.0  35.0      0"
            ],
            "text/html": [
              "\n",
              "  <div id=\"df-b55244b3-8f79-4648-b1fa-0c0119a55504\" class=\"colab-df-container\">\n",
              "    <div>\n",
              "<style scoped>\n",
              "    .dataframe tbody tr th:only-of-type {\n",
              "        vertical-align: middle;\n",
              "    }\n",
              "\n",
              "    .dataframe tbody tr th {\n",
              "        vertical-align: top;\n",
              "    }\n",
              "\n",
              "    .dataframe thead th {\n",
              "        text-align: right;\n",
              "    }\n",
              "</style>\n",
              "<table border=\"1\" class=\"dataframe\">\n",
              "  <thead>\n",
              "    <tr style=\"text-align: right;\">\n",
              "      <th></th>\n",
              "      <th>1</th>\n",
              "      <th>2</th>\n",
              "      <th>3</th>\n",
              "      <th>4</th>\n",
              "      <th>5</th>\n",
              "      <th>6</th>\n",
              "      <th>label</th>\n",
              "    </tr>\n",
              "  </thead>\n",
              "  <tbody>\n",
              "    <tr>\n",
              "      <th>0</th>\n",
              "      <td>49.0</td>\n",
              "      <td>29.0</td>\n",
              "      <td>48.0</td>\n",
              "      <td>56.0</td>\n",
              "      <td>24.0</td>\n",
              "      <td>35.0</td>\n",
              "      <td>0</td>\n",
              "    </tr>\n",
              "    <tr>\n",
              "      <th>1</th>\n",
              "      <td>7.0</td>\n",
              "      <td>4.0</td>\n",
              "      <td>48.0</td>\n",
              "      <td>54.0</td>\n",
              "      <td>35.0</td>\n",
              "      <td>44.0</td>\n",
              "      <td>0</td>\n",
              "    </tr>\n",
              "    <tr>\n",
              "      <th>2</th>\n",
              "      <td>56.0</td>\n",
              "      <td>4.0</td>\n",
              "      <td>48.0</td>\n",
              "      <td>49.0</td>\n",
              "      <td>37.0</td>\n",
              "      <td>46.0</td>\n",
              "      <td>0</td>\n",
              "    </tr>\n",
              "    <tr>\n",
              "      <th>3</th>\n",
              "      <td>59.0</td>\n",
              "      <td>49.0</td>\n",
              "      <td>48.0</td>\n",
              "      <td>52.0</td>\n",
              "      <td>45.0</td>\n",
              "      <td>36.0</td>\n",
              "      <td>0</td>\n",
              "    </tr>\n",
              "    <tr>\n",
              "      <th>4</th>\n",
              "      <td>23.0</td>\n",
              "      <td>32.0</td>\n",
              "      <td>48.0</td>\n",
              "      <td>55.0</td>\n",
              "      <td>25.0</td>\n",
              "      <td>35.0</td>\n",
              "      <td>0</td>\n",
              "    </tr>\n",
              "  </tbody>\n",
              "</table>\n",
              "</div>\n",
              "    <div class=\"colab-df-buttons\">\n",
              "\n",
              "  <div class=\"colab-df-container\">\n",
              "    <button class=\"colab-df-convert\" onclick=\"convertToInteractive('df-b55244b3-8f79-4648-b1fa-0c0119a55504')\"\n",
              "            title=\"Convert this dataframe to an interactive table.\"\n",
              "            style=\"display:none;\">\n",
              "\n",
              "  <svg xmlns=\"http://www.w3.org/2000/svg\" height=\"24px\" viewBox=\"0 -960 960 960\">\n",
              "    <path d=\"M120-120v-720h720v720H120Zm60-500h600v-160H180v160Zm220 220h160v-160H400v160Zm0 220h160v-160H400v160ZM180-400h160v-160H180v160Zm440 0h160v-160H620v160ZM180-180h160v-160H180v160Zm440 0h160v-160H620v160Z\"/>\n",
              "  </svg>\n",
              "    </button>\n",
              "\n",
              "  <style>\n",
              "    .colab-df-container {\n",
              "      display:flex;\n",
              "      gap: 12px;\n",
              "    }\n",
              "\n",
              "    .colab-df-convert {\n",
              "      background-color: #E8F0FE;\n",
              "      border: none;\n",
              "      border-radius: 50%;\n",
              "      cursor: pointer;\n",
              "      display: none;\n",
              "      fill: #1967D2;\n",
              "      height: 32px;\n",
              "      padding: 0 0 0 0;\n",
              "      width: 32px;\n",
              "    }\n",
              "\n",
              "    .colab-df-convert:hover {\n",
              "      background-color: #E2EBFA;\n",
              "      box-shadow: 0px 1px 2px rgba(60, 64, 67, 0.3), 0px 1px 3px 1px rgba(60, 64, 67, 0.15);\n",
              "      fill: #174EA6;\n",
              "    }\n",
              "\n",
              "    .colab-df-buttons div {\n",
              "      margin-bottom: 4px;\n",
              "    }\n",
              "\n",
              "    [theme=dark] .colab-df-convert {\n",
              "      background-color: #3B4455;\n",
              "      fill: #D2E3FC;\n",
              "    }\n",
              "\n",
              "    [theme=dark] .colab-df-convert:hover {\n",
              "      background-color: #434B5C;\n",
              "      box-shadow: 0px 1px 3px 1px rgba(0, 0, 0, 0.15);\n",
              "      filter: drop-shadow(0px 1px 2px rgba(0, 0, 0, 0.3));\n",
              "      fill: #FFFFFF;\n",
              "    }\n",
              "  </style>\n",
              "\n",
              "    <script>\n",
              "      const buttonEl =\n",
              "        document.querySelector('#df-b55244b3-8f79-4648-b1fa-0c0119a55504 button.colab-df-convert');\n",
              "      buttonEl.style.display =\n",
              "        google.colab.kernel.accessAllowed ? 'block' : 'none';\n",
              "\n",
              "      async function convertToInteractive(key) {\n",
              "        const element = document.querySelector('#df-b55244b3-8f79-4648-b1fa-0c0119a55504');\n",
              "        const dataTable =\n",
              "          await google.colab.kernel.invokeFunction('convertToInteractive',\n",
              "                                                    [key], {});\n",
              "        if (!dataTable) return;\n",
              "\n",
              "        const docLinkHtml = 'Like what you see? Visit the ' +\n",
              "          '<a target=\"_blank\" href=https://colab.research.google.com/notebooks/data_table.ipynb>data table notebook</a>'\n",
              "          + ' to learn more about interactive tables.';\n",
              "        element.innerHTML = '';\n",
              "        dataTable['output_type'] = 'display_data';\n",
              "        await google.colab.output.renderOutput(dataTable, element);\n",
              "        const docLink = document.createElement('div');\n",
              "        docLink.innerHTML = docLinkHtml;\n",
              "        element.appendChild(docLink);\n",
              "      }\n",
              "    </script>\n",
              "  </div>\n",
              "\n",
              "\n",
              "<div id=\"df-bdfe2d8a-a7a6-4ef9-834e-23b23b3e3d2a\">\n",
              "  <button class=\"colab-df-quickchart\" onclick=\"quickchart('df-bdfe2d8a-a7a6-4ef9-834e-23b23b3e3d2a')\"\n",
              "            title=\"Suggest charts\"\n",
              "            style=\"display:none;\">\n",
              "\n",
              "<svg xmlns=\"http://www.w3.org/2000/svg\" height=\"24px\"viewBox=\"0 0 24 24\"\n",
              "     width=\"24px\">\n",
              "    <g>\n",
              "        <path d=\"M19 3H5c-1.1 0-2 .9-2 2v14c0 1.1.9 2 2 2h14c1.1 0 2-.9 2-2V5c0-1.1-.9-2-2-2zM9 17H7v-7h2v7zm4 0h-2V7h2v10zm4 0h-2v-4h2v4z\"/>\n",
              "    </g>\n",
              "</svg>\n",
              "  </button>\n",
              "\n",
              "<style>\n",
              "  .colab-df-quickchart {\n",
              "      --bg-color: #E8F0FE;\n",
              "      --fill-color: #1967D2;\n",
              "      --hover-bg-color: #E2EBFA;\n",
              "      --hover-fill-color: #174EA6;\n",
              "      --disabled-fill-color: #AAA;\n",
              "      --disabled-bg-color: #DDD;\n",
              "  }\n",
              "\n",
              "  [theme=dark] .colab-df-quickchart {\n",
              "      --bg-color: #3B4455;\n",
              "      --fill-color: #D2E3FC;\n",
              "      --hover-bg-color: #434B5C;\n",
              "      --hover-fill-color: #FFFFFF;\n",
              "      --disabled-bg-color: #3B4455;\n",
              "      --disabled-fill-color: #666;\n",
              "  }\n",
              "\n",
              "  .colab-df-quickchart {\n",
              "    background-color: var(--bg-color);\n",
              "    border: none;\n",
              "    border-radius: 50%;\n",
              "    cursor: pointer;\n",
              "    display: none;\n",
              "    fill: var(--fill-color);\n",
              "    height: 32px;\n",
              "    padding: 0;\n",
              "    width: 32px;\n",
              "  }\n",
              "\n",
              "  .colab-df-quickchart:hover {\n",
              "    background-color: var(--hover-bg-color);\n",
              "    box-shadow: 0 1px 2px rgba(60, 64, 67, 0.3), 0 1px 3px 1px rgba(60, 64, 67, 0.15);\n",
              "    fill: var(--button-hover-fill-color);\n",
              "  }\n",
              "\n",
              "  .colab-df-quickchart-complete:disabled,\n",
              "  .colab-df-quickchart-complete:disabled:hover {\n",
              "    background-color: var(--disabled-bg-color);\n",
              "    fill: var(--disabled-fill-color);\n",
              "    box-shadow: none;\n",
              "  }\n",
              "\n",
              "  .colab-df-spinner {\n",
              "    border: 2px solid var(--fill-color);\n",
              "    border-color: transparent;\n",
              "    border-bottom-color: var(--fill-color);\n",
              "    animation:\n",
              "      spin 1s steps(1) infinite;\n",
              "  }\n",
              "\n",
              "  @keyframes spin {\n",
              "    0% {\n",
              "      border-color: transparent;\n",
              "      border-bottom-color: var(--fill-color);\n",
              "      border-left-color: var(--fill-color);\n",
              "    }\n",
              "    20% {\n",
              "      border-color: transparent;\n",
              "      border-left-color: var(--fill-color);\n",
              "      border-top-color: var(--fill-color);\n",
              "    }\n",
              "    30% {\n",
              "      border-color: transparent;\n",
              "      border-left-color: var(--fill-color);\n",
              "      border-top-color: var(--fill-color);\n",
              "      border-right-color: var(--fill-color);\n",
              "    }\n",
              "    40% {\n",
              "      border-color: transparent;\n",
              "      border-right-color: var(--fill-color);\n",
              "      border-top-color: var(--fill-color);\n",
              "    }\n",
              "    60% {\n",
              "      border-color: transparent;\n",
              "      border-right-color: var(--fill-color);\n",
              "    }\n",
              "    80% {\n",
              "      border-color: transparent;\n",
              "      border-right-color: var(--fill-color);\n",
              "      border-bottom-color: var(--fill-color);\n",
              "    }\n",
              "    90% {\n",
              "      border-color: transparent;\n",
              "      border-bottom-color: var(--fill-color);\n",
              "    }\n",
              "  }\n",
              "</style>\n",
              "\n",
              "  <script>\n",
              "    async function quickchart(key) {\n",
              "      const quickchartButtonEl =\n",
              "        document.querySelector('#' + key + ' button');\n",
              "      quickchartButtonEl.disabled = true;  // To prevent multiple clicks.\n",
              "      quickchartButtonEl.classList.add('colab-df-spinner');\n",
              "      try {\n",
              "        const charts = await google.colab.kernel.invokeFunction(\n",
              "            'suggestCharts', [key], {});\n",
              "      } catch (error) {\n",
              "        console.error('Error during call to suggestCharts:', error);\n",
              "      }\n",
              "      quickchartButtonEl.classList.remove('colab-df-spinner');\n",
              "      quickchartButtonEl.classList.add('colab-df-quickchart-complete');\n",
              "    }\n",
              "    (() => {\n",
              "      let quickchartButtonEl =\n",
              "        document.querySelector('#df-bdfe2d8a-a7a6-4ef9-834e-23b23b3e3d2a button');\n",
              "      quickchartButtonEl.style.display =\n",
              "        google.colab.kernel.accessAllowed ? 'block' : 'none';\n",
              "    })();\n",
              "  </script>\n",
              "</div>\n",
              "    </div>\n",
              "  </div>\n"
            ],
            "application/vnd.google.colaboratory.intrinsic+json": {
              "type": "dataframe",
              "variable_name": "data",
              "summary": "{\n  \"name\": \"data\",\n  \"rows\": 220,\n  \"fields\": [\n    {\n      \"column\": \"1\",\n      \"properties\": {\n        \"dtype\": \"number\",\n        \"std\": 21.391185438068366,\n        \"min\": 0.0,\n        \"max\": 78.0,\n        \"num_unique_values\": 59,\n        \"samples\": [\n          49.0,\n          67.0,\n          52.0\n        ],\n        \"semantic_type\": \"\",\n        \"description\": \"\"\n      }\n    },\n    {\n      \"column\": \"2\",\n      \"properties\": {\n        \"dtype\": \"number\",\n        \"std\": 21.423424988354018,\n        \"min\": 1.0,\n        \"max\": 88.0,\n        \"num_unique_values\": 62,\n        \"samples\": [\n          65.0,\n          68.0,\n          29.0\n        ],\n        \"semantic_type\": \"\",\n        \"description\": \"\"\n      }\n    },\n    {\n      \"column\": \"3\",\n      \"properties\": {\n        \"dtype\": \"number\",\n        \"std\": 7.67267799055192,\n        \"min\": 1.0,\n        \"max\": 48.0,\n        \"num_unique_values\": 2,\n        \"samples\": [\n          1.0,\n          48.0\n        ],\n        \"semantic_type\": \"\",\n        \"description\": \"\"\n      }\n    },\n    {\n      \"column\": \"4\",\n      \"properties\": {\n        \"dtype\": \"number\",\n        \"std\": 16.294345246344108,\n        \"min\": 3.0,\n        \"max\": 88.0,\n        \"num_unique_values\": 54,\n        \"samples\": [\n          42.0,\n          77.0\n        ],\n        \"semantic_type\": \"\",\n        \"description\": \"\"\n      }\n    },\n    {\n      \"column\": \"5\",\n      \"properties\": {\n        \"dtype\": \"number\",\n        \"std\": 15.000940194693865,\n        \"min\": 2.0,\n        \"max\": 84.0,\n        \"num_unique_values\": 52,\n        \"samples\": [\n          34.0,\n          48.0\n        ],\n        \"semantic_type\": \"\",\n        \"description\": \"\"\n      }\n    },\n    {\n      \"column\": \"6\",\n      \"properties\": {\n        \"dtype\": \"number\",\n        \"std\": 14.453931196171556,\n        \"min\": 0.0,\n        \"max\": 85.0,\n        \"num_unique_values\": 48,\n        \"samples\": [\n          27.0,\n          55.0\n        ],\n        \"semantic_type\": \"\",\n        \"description\": \"\"\n      }\n    },\n    {\n      \"column\": \"label\",\n      \"properties\": {\n        \"dtype\": \"number\",\n        \"std\": 0,\n        \"min\": 0,\n        \"max\": 1,\n        \"num_unique_values\": 2,\n        \"samples\": [\n          1,\n          0\n        ],\n        \"semantic_type\": \"\",\n        \"description\": \"\"\n      }\n    }\n  ]\n}"
            }
          },
          "metadata": {},
          "execution_count": 1227
        }
      ],
      "source": [
        "data.head()"
      ]
    },
    {
      "cell_type": "code",
      "execution_count": null,
      "metadata": {
        "colab": {
          "base_uri": "https://localhost:8080/"
        },
        "id": "pWil5o27Tx-w",
        "outputId": "cff11fb6-d832-4e20-a42a-64fd4b15fe7c"
      },
      "outputs": [
        {
          "output_type": "execute_result",
          "data": {
            "text/plain": [
              "label\n",
              "0    200\n",
              "1     20\n",
              "Name: count, dtype: int64"
            ]
          },
          "metadata": {},
          "execution_count": 1228
        }
      ],
      "source": [
        "label_counts = data['label'].value_counts()\n",
        "label_counts"
      ]
    },
    {
      "cell_type": "code",
      "execution_count": null,
      "metadata": {
        "colab": {
          "base_uri": "https://localhost:8080/"
        },
        "id": "lprGSfYjULbG",
        "outputId": "7ccdeccf-b259-443f-ab2b-c149d980dfdd"
      },
      "outputs": [
        {
          "output_type": "execute_result",
          "data": {
            "text/plain": [
              "1        0\n",
              "2        0\n",
              "3        0\n",
              "4        0\n",
              "5        0\n",
              "6        0\n",
              "label    0\n",
              "dtype: int64"
            ]
          },
          "metadata": {},
          "execution_count": 1229
        }
      ],
      "source": [
        "missing_values = data.isnull().sum()\n",
        "missing_values"
      ]
    },
    {
      "cell_type": "code",
      "execution_count": null,
      "metadata": {
        "id": "WRhu3HcxUR4q"
      },
      "outputs": [],
      "source": [
        "majority_label = label_counts.idxmax()\n",
        "minority_label = label_counts.idxmin()"
      ]
    },
    {
      "cell_type": "code",
      "execution_count": null,
      "metadata": {
        "colab": {
          "base_uri": "https://localhost:8080/"
        },
        "id": "2yO7PVSXUXax",
        "outputId": "ffae2127-c442-4e5f-bcfa-913afe9a7d17"
      },
      "outputs": [
        {
          "output_type": "execute_result",
          "data": {
            "text/plain": [
              "0"
            ]
          },
          "metadata": {},
          "execution_count": 1231
        }
      ],
      "source": [
        "majority_label"
      ]
    },
    {
      "cell_type": "code",
      "execution_count": null,
      "metadata": {
        "colab": {
          "base_uri": "https://localhost:8080/"
        },
        "id": "j0KDGowKUg4h",
        "outputId": "4b85e44f-a03c-47ee-da72-cb487bf9fe52"
      },
      "outputs": [
        {
          "output_type": "execute_result",
          "data": {
            "text/plain": [
              "1"
            ]
          },
          "metadata": {},
          "execution_count": 1232
        }
      ],
      "source": [
        "minority_label"
      ]
    },
    {
      "cell_type": "code",
      "execution_count": null,
      "metadata": {
        "id": "9o8D43R9Um-F"
      },
      "outputs": [],
      "source": [
        "majority_class = data[data['label'] == majority_label].iloc[:, :-1].values\n",
        "minority_class = data[data['label'] == minority_label].iloc[:, :-1].values\n",
        "labels_majority = data[data['label'] == majority_label]['label'].values\n",
        "labels_minority = data[data['label'] == minority_label]['label'].values"
      ]
    },
    {
      "cell_type": "code",
      "execution_count": null,
      "metadata": {
        "colab": {
          "base_uri": "https://localhost:8080/"
        },
        "id": "cvLhlWa9Utp6",
        "outputId": "da1d416a-7c44-4e2a-fe42-3f9cf64f7ae0"
      },
      "outputs": [
        {
          "output_type": "execute_result",
          "data": {
            "text/plain": [
              "array([[49., 29., 48., 56., 24., 35.],\n",
              "       [ 7.,  4., 48., 54., 35., 44.],\n",
              "       [56.,  4., 48., 49., 37., 46.],\n",
              "       [59., 49., 48., 52., 45., 36.],\n",
              "       [23., 32., 48., 55., 25., 35.],\n",
              "       [67., 39., 48., 36., 38., 46.],\n",
              "       [29., 28., 48., 44., 23., 34.],\n",
              "       [21., 34., 48., 51., 28., 39.],\n",
              "       [ 2., 44., 48., 46., 51., 57.],\n",
              "       [42.,  4., 48., 56., 18.,  3.],\n",
              "       [42., 24., 48., 57., 27., 37.],\n",
              "       [25., 48., 48., 44., 17., 29.],\n",
              "       [39., 32., 48., 46., 24., 35.],\n",
              "       [51.,  5., 48., 46., 32., 35.],\n",
              "       [22., 43., 48., 48., 16., 28.],\n",
              "       [25.,  4., 48., 46., 44., 52.],\n",
              "       [34., 45., 48., 38., 24., 35.],\n",
              "       [44., 27., 48., 55., 52., 58.],\n",
              "       [23.,  4., 48., 39., 28., 38.],\n",
              "       [41., 57., 48., 39., 21., 32.],\n",
              "       [ 4., 45., 48., 38., 22.,  0.],\n",
              "       [31., 23., 48., 73.,  5., 14.],\n",
              "       [51., 54., 48., 41., 34., 43.],\n",
              "       [ 3., 16., 48., 56., 11., 23.],\n",
              "       [36., 39., 48., 48., 22., 23.]])"
            ]
          },
          "metadata": {},
          "execution_count": 1234
        }
      ],
      "source": [
        "majority_class[:25]"
      ]
    },
    {
      "cell_type": "code",
      "execution_count": null,
      "metadata": {
        "colab": {
          "base_uri": "https://localhost:8080/"
        },
        "id": "HeEUA_V3Uxm3",
        "outputId": "bebd4331-c9f1-4e8d-93f1-407ba6aeef4b"
      },
      "outputs": [
        {
          "output_type": "execute_result",
          "data": {
            "text/plain": [
              "array([[78., 68., 48., 83.,  4., 29.],\n",
              "       [63., 69., 48., 65., 41., 28.],\n",
              "       [67., 88., 48., 73.,  5., 25.],\n",
              "       [61., 75., 48., 51., 33., 33.],\n",
              "       [67., 84., 48., 74., 54., 37.],\n",
              "       [74.,  9., 48., 57., 53., 29.],\n",
              "       [73., 84., 48., 86., 58., 29.],\n",
              "       [75., 76., 48., 83., 57.,  3.],\n",
              "       [77., 57., 48., 88., 53.,  2.],\n",
              "       [74., 78., 48., 75., 54., 15.],\n",
              "       [68., 76., 48., 84., 45., 27.],\n",
              "       [56., 68., 48., 77., 36., 45.],\n",
              "       [65., 51., 48., 66., 54., 33.],\n",
              "       [52., 81., 48., 72., 38., 38.],\n",
              "       [64., 57., 48.,  7., 33., 26.],\n",
              "       [ 6., 76.,  1., 77., 59., 52.],\n",
              "       [69., 59., 48., 77., 39., 21.],\n",
              "       [63., 49., 48., 79., 45., 28.],\n",
              "       [71., 71., 48., 68., 43., 36.],\n",
              "       [68., 63., 48., 73.,  4.,  3.]])"
            ]
          },
          "metadata": {},
          "execution_count": 1235
        }
      ],
      "source": [
        "minority_class"
      ]
    },
    {
      "cell_type": "code",
      "execution_count": null,
      "metadata": {
        "id": "r49MwwTnKoYm"
      },
      "outputs": [],
      "source": [
        "features = data.drop('label', axis=1).values\n",
        "labels = data['label'].values"
      ]
    },
    {
      "cell_type": "code",
      "execution_count": null,
      "metadata": {
        "id": "qMKi3T4AIbLT"
      },
      "outputs": [],
      "source": [
        "labels=np.reshape(labels, newshape=(len(data),1))"
      ]
    },
    {
      "cell_type": "code",
      "execution_count": null,
      "metadata": {
        "colab": {
          "base_uri": "https://localhost:8080/"
        },
        "id": "ns59-Ro-MWbE",
        "outputId": "7747460a-c2b2-4641-fe81-ee9b2095cc07"
      },
      "outputs": [
        {
          "output_type": "execute_result",
          "data": {
            "text/plain": [
              "(220, 6)"
            ]
          },
          "metadata": {},
          "execution_count": 1238
        }
      ],
      "source": [
        "features.shape"
      ]
    },
    {
      "cell_type": "code",
      "execution_count": null,
      "metadata": {
        "id": "F8LH2aJcB2KG"
      },
      "outputs": [],
      "source": [
        "majority_count = len(labels_majority)\n",
        "minority_count = len(labels_minority)"
      ]
    },
    {
      "cell_type": "code",
      "execution_count": null,
      "metadata": {
        "colab": {
          "base_uri": "https://localhost:8080/"
        },
        "id": "ikdgR4hqDQ2d",
        "outputId": "41a65d08-00af-49c9-f384-4f77f8dbed52"
      },
      "outputs": [
        {
          "output_type": "execute_result",
          "data": {
            "text/plain": [
              "200"
            ]
          },
          "metadata": {},
          "execution_count": 1240
        }
      ],
      "source": [
        "majority_count"
      ]
    },
    {
      "cell_type": "code",
      "execution_count": null,
      "metadata": {
        "colab": {
          "base_uri": "https://localhost:8080/"
        },
        "id": "rwDYqjRaB-D3",
        "outputId": "c2f738f8-16f9-412e-d6be-9b86c3b7eafc"
      },
      "outputs": [
        {
          "output_type": "stream",
          "name": "stdout",
          "text": [
            "Imbalance Ratio: 10.0000\n"
          ]
        }
      ],
      "source": [
        "if minority_count > 0:\n",
        "    imbalance_ratio = majority_count / minority_count\n",
        "else:\n",
        "    imbalance_ratio = 0  # To handle cases with no majority class instances\n",
        "print(f\"Imbalance Ratio: {imbalance_ratio:.4f}\")"
      ]
    },
    {
      "cell_type": "code",
      "execution_count": null,
      "metadata": {
        "id": "rPG52fkfBjZW"
      },
      "outputs": [],
      "source": [
        "def sample_size(N, num_min):\n",
        "    p = num_min / N\n",
        "    if p == 0 and N >= 9:\n",
        "        size1 = 0\n",
        "    elif p == 0 or p == 1:\n",
        "        size1 = 1\n",
        "    else:\n",
        "        Z = 1.64\n",
        "        epsilon = 0.05\n",
        "        e = epsilon + np.log(N) / N\n",
        "        x = (Z**2 * p * (1-p)) / (e**2)\n",
        "        size1 = (N * x) / (x + N - 1)\n",
        "    return math.ceil(size1)"
      ]
    },
    {
      "cell_type": "code",
      "execution_count": null,
      "metadata": {
        "colab": {
          "base_uri": "https://localhost:8080/"
        },
        "id": "Gs-3lcoLCDmh",
        "outputId": "1777b8b9-59b9-451c-8ee6-f6b29696df7d"
      },
      "outputs": [
        {
          "output_type": "execute_result",
          "data": {
            "text/plain": [
              "35"
            ]
          },
          "metadata": {},
          "execution_count": 1243
        }
      ],
      "source": [
        "calculated_sample_size = sample_size(majority_count, minority_count)\n",
        "calculated_sample_size"
      ]
    },
    {
      "cell_type": "code",
      "execution_count": null,
      "metadata": {
        "id": "MzedsmoTDmL_"
      },
      "outputs": [],
      "source": [
        "\n",
        "def calculate_weights(data, labels, k=5):\n",
        "    labels = np.array(labels).flatten()\n",
        "    nbrs = NearestNeighbors(n_neighbors=k+1, algorithm='ball_tree').fit(data)\n",
        "    distances, indices = nbrs.kneighbors(data)\n",
        "\n",
        "    weights = np.zeros(data.shape[0])\n",
        "    for i in range(data.shape[0]):\n",
        "        distances_i = distances[i, 1:]  # ignore the first one because it's the distance to itself\n",
        "        indices_i = indices[i, 1:]\n",
        "        inverse_distances = 1 / (distances_i + 1e-5)\n",
        "\n",
        "        same_class_mask = (labels[indices_i] == labels[i])\n",
        "        different_class_mask = ~same_class_mask\n",
        "\n",
        "        same_class_weights = inverse_distances * same_class_mask\n",
        "        different_class_weights = inverse_distances * different_class_mask\n",
        "\n",
        "        total_same_class_weight = np.sum(same_class_weights)\n",
        "        total_different_class_weight = np.sum(different_class_weights)\n",
        "        total_weight = total_same_class_weight + total_different_class_weight\n",
        "\n",
        "        if total_weight > 0:\n",
        "            complexity_score = total_same_class_weight / total_weight\n",
        "        else:\n",
        "            complexity_score = 0  # Handle cases with no effective neighbors\n",
        "\n",
        "        weights[i] = complexity_score\n",
        "\n",
        "    return weights\n"
      ]
    },
    {
      "cell_type": "code",
      "execution_count": null,
      "metadata": {
        "id": "qFr6743_EzCX"
      },
      "outputs": [],
      "source": [
        "weights = calculate_weights(features, labels, k=5)"
      ]
    },
    {
      "cell_type": "code",
      "execution_count": null,
      "metadata": {
        "colab": {
          "base_uri": "https://localhost:8080/"
        },
        "id": "v_EvivFUSA0Z",
        "outputId": "d0f77bc2-0338-49d2-c2ea-c926dd65404b"
      },
      "outputs": [
        {
          "output_type": "execute_result",
          "data": {
            "text/plain": [
              "(220,)"
            ]
          },
          "metadata": {},
          "execution_count": 1246
        }
      ],
      "source": [
        "weights.shape"
      ]
    },
    {
      "cell_type": "code",
      "execution_count": null,
      "metadata": {
        "id": "gJbN5LasNn7b"
      },
      "outputs": [],
      "source": [
        "majority_weights = weights[labels.flatten() == majority_label]\n",
        "minority_weights = weights[labels.flatten() == minority_label]"
      ]
    },
    {
      "cell_type": "code",
      "execution_count": null,
      "metadata": {
        "colab": {
          "base_uri": "https://localhost:8080/"
        },
        "id": "F3XaQWfoTwf1",
        "outputId": "eef7fbee-fabb-4bdf-93f9-a9e936670fe0"
      },
      "outputs": [
        {
          "output_type": "execute_result",
          "data": {
            "text/plain": [
              "array([0.81422376, 0.62756528, 0.45767952, 0.16085269, 0.80570897,\n",
              "       0.        , 1.        , 1.        , 1.        , 0.83496027,\n",
              "       1.        , 0.81630406, 0.56606049, 1.        , 0.        ,\n",
              "       0.        , 1.        , 0.84567045, 0.54498283, 0.35887012])"
            ]
          },
          "metadata": {},
          "execution_count": 1248
        }
      ],
      "source": [
        "minority_weights"
      ]
    },
    {
      "cell_type": "code",
      "execution_count": null,
      "metadata": {
        "colab": {
          "base_uri": "https://localhost:8080/"
        },
        "id": "ek2B8T98T3cg",
        "outputId": "c5923339-d458-432c-dc2c-f29e2ec4b9d6"
      },
      "outputs": [
        {
          "output_type": "execute_result",
          "data": {
            "text/plain": [
              "array([1.        , 1.        , 1.        , 0.82481837, 1.        ,\n",
              "       1.        , 1.        , 1.        , 1.        , 1.        ,\n",
              "       1.        , 1.        , 1.        , 1.        , 1.        ,\n",
              "       1.        , 1.        , 1.        , 1.        , 1.        ,\n",
              "       1.        , 1.        , 1.        , 1.        , 1.        ,\n",
              "       1.        , 1.        , 1.        , 1.        , 1.        ,\n",
              "       1.        , 1.        , 1.        , 1.        , 1.        ,\n",
              "       1.        , 1.        , 0.79731293, 1.        , 1.        ,\n",
              "       1.        , 1.        , 1.        , 1.        , 1.        ,\n",
              "       1.        , 1.        , 1.        , 1.        , 1.        ,\n",
              "       1.        , 1.        , 1.        , 1.        , 1.        ,\n",
              "       1.        , 1.        , 1.        , 1.        , 1.        ,\n",
              "       1.        , 1.        , 1.        , 1.        , 1.        ,\n",
              "       1.        , 1.        , 1.        , 1.        , 1.        ,\n",
              "       1.        , 1.        , 1.        , 1.        , 1.        ,\n",
              "       1.        , 1.        , 1.        , 1.        , 1.        ,\n",
              "       1.        , 1.        , 1.        , 1.        , 1.        ,\n",
              "       1.        , 1.        , 1.        , 1.        , 1.        ,\n",
              "       1.        , 1.        , 1.        , 1.        , 1.        ,\n",
              "       0.73263811, 1.        , 1.        , 1.        , 1.        ,\n",
              "       1.        , 1.        , 1.        , 1.        , 1.        ,\n",
              "       1.        , 1.        , 1.        , 1.        , 1.        ,\n",
              "       1.        , 1.        , 1.        , 1.        , 1.        ,\n",
              "       1.        , 1.        , 1.        , 1.        , 1.        ,\n",
              "       1.        , 1.        , 1.        , 1.        , 1.        ,\n",
              "       1.        , 1.        , 1.        , 1.        , 1.        ,\n",
              "       1.        , 1.        , 1.        , 1.        , 1.        ,\n",
              "       1.        , 1.        , 1.        , 1.        , 1.        ,\n",
              "       1.        , 1.        , 1.        , 1.        , 0.89858058,\n",
              "       1.        , 0.90375065, 0.91225488, 1.        , 1.        ,\n",
              "       1.        , 0.6438472 , 1.        , 1.        , 0.82111364,\n",
              "       0.83506651, 0.83812683, 1.        , 1.        , 1.        ,\n",
              "       1.        , 1.        , 0.61092244, 1.        , 1.        ,\n",
              "       1.        , 0.8269169 , 1.        , 1.        , 1.        ,\n",
              "       0.7948015 , 1.        , 1.        , 1.        , 0.80271223,\n",
              "       1.        , 1.        , 0.72330391, 1.        , 0.71074466,\n",
              "       1.        , 1.        , 0.8877911 , 1.        , 0.8883742 ,\n",
              "       0.82864983, 1.        , 1.        , 1.        , 1.        ,\n",
              "       1.        , 1.        , 1.        , 0.35304137, 1.        ,\n",
              "       1.        , 1.        , 1.        , 1.        , 1.        ])"
            ]
          },
          "metadata": {},
          "execution_count": 1249
        }
      ],
      "source": [
        "majority_weights"
      ]
    },
    {
      "cell_type": "code",
      "execution_count": null,
      "metadata": {
        "colab": {
          "base_uri": "https://localhost:8080/"
        },
        "id": "1ey9OVY0SUDy",
        "outputId": "5b5d7639-329d-4cee-9192-145e7e7bacf0"
      },
      "outputs": [
        {
          "output_type": "stream",
          "name": "stdout",
          "text": [
            "Minority Class Complexity: 0.6416\n",
            "Majority Class Complexity: 0.9782\n"
          ]
        }
      ],
      "source": [
        "minority_complexity = sum(minority_weights)/len(minority_weights)\n",
        "majority_complexity = sum(majority_weights)/len(majority_weights)\n",
        "print(f\"Minority Class Complexity: {minority_complexity:.4f}\")\n",
        "print(f\"Majority Class Complexity: {majority_complexity:.4f}\")"
      ]
    },
    {
      "cell_type": "code",
      "execution_count": null,
      "metadata": {
        "colab": {
          "base_uri": "https://localhost:8080/"
        },
        "id": "EFm1vzKgR2t4",
        "outputId": "545f0213-3cd0-4e7e-ca67-8b78ee33f013"
      },
      "outputs": [
        {
          "output_type": "stream",
          "name": "stdout",
          "text": [
            "Data Shape: (220, 7)\n",
            "Labels Shape: (220, 1)\n",
            "Weights Shape: (220,)\n",
            "Majority weights shape:  (200,)\n",
            "Majority weights shape:  (20,)\n",
            "Adjusted Labels Shape: (220, 1)\n",
            "Minority class shape:  (20, 6)\n",
            "Majority class shape:  (200, 6)\n"
          ]
        }
      ],
      "source": [
        "print(\"Data Shape:\", data.shape)\n",
        "print(\"Labels Shape:\", labels.shape)\n",
        "print(\"Weights Shape:\", weights.shape)\n",
        "print(\"Majority weights shape: \", majority_weights.shape)\n",
        "print(\"Majority weights shape: \", minority_weights.shape)\n",
        "print(\"Adjusted Labels Shape:\", labels.shape)\n",
        "print(\"Minority class shape: \", minority_class.shape)\n",
        "print(\"Majority class shape: \", majority_class.shape)"
      ]
    },
    {
      "cell_type": "code",
      "source": [
        "import random\n",
        "\n",
        "# Setting random seeds for reproducibility\n",
        "random_seed = 42\n",
        "np.random.seed(random_seed)\n",
        "torch.manual_seed(random_seed)\n",
        "random.seed(random_seed)\n",
        "\n",
        "# For CUDA\n",
        "if torch.cuda.is_available():\n",
        "    torch.cuda.manual_seed_all(random_seed)\n"
      ],
      "metadata": {
        "id": "NjwOQWYfPOqJ"
      },
      "execution_count": null,
      "outputs": []
    },
    {
      "cell_type": "code",
      "source": [
        "# Define the MLP model class\n",
        "class MLP(nn.Module):\n",
        "    def __init__(self, input_size, output_size, device):\n",
        "        super(MLP, self).__init__()\n",
        "        h = 2 * (input_size + output_size) // 3\n",
        "        self.device = device\n",
        "        self.hidden = nn.Linear(input_size, h).to(device)\n",
        "        self.output = nn.Linear(h, output_size).to(device)\n",
        "\n",
        "    def forward(self, x):\n",
        "        x = F.relu(self.hidden(x))\n",
        "        x = self.output(x)\n",
        "        return x\n",
        "\n",
        "# Function to load data into DataLoaders\n",
        "def load_data(features, labels, batch_size):\n",
        "    dataset = TensorDataset(torch.tensor(features, dtype=torch.float32), torch.tensor(labels, dtype=torch.int64))\n",
        "    loader = DataLoader(dataset, batch_size=batch_size, shuffle=True)\n",
        "    return loader\n",
        "\n",
        "# Function to train the model\n",
        "def train_model(model, train_loader, criterion, optimizer, device, num_epochs):\n",
        "    best_recall_score = float('-inf')\n",
        "    best_model_path = \"best_model.pth\"\n",
        "\n",
        "    for epoch in range(num_epochs):\n",
        "        model.train()\n",
        "        for inputs, labels in train_loader:\n",
        "            inputs, labels = inputs.to(device), labels.to(device)\n",
        "            optimizer.zero_grad()\n",
        "            outputs = model(inputs)\n",
        "            loss = criterion(outputs, labels)\n",
        "            loss.backward()\n",
        "            optimizer.step()\n",
        "\n",
        "        # Evaluate on the training set for early stopping (optional)\n",
        "        all_predictions, all_labels = [], []\n",
        "        with torch.no_grad():\n",
        "            for inputs, labels in train_loader:\n",
        "                inputs, labels = inputs.to(device), labels.to(device)\n",
        "                outputs = model(inputs)\n",
        "                _, predicted = torch.max(outputs.data, 1)\n",
        "                all_predictions.extend(predicted.cpu().numpy())\n",
        "                all_labels.extend(labels.cpu().numpy())\n",
        "        fold_recall = recall_score(all_labels, all_predictions)\n",
        "        if fold_recall > best_recall_score:\n",
        "            best_recall_score = fold_recall\n",
        "            torch.save(model.state_dict(), best_model_path)\n",
        "\n",
        "    model.load_state_dict(torch.load(best_model_path))\n",
        "    model.to(device).eval()\n",
        "    return model\n",
        "\n",
        "# Function to evaluate the model\n",
        "def evaluate_model(model, test_loader, criterion, device):\n",
        "    test_loss = 0\n",
        "    all_labels, all_predictions, all_probabilities = [], [], []\n",
        "\n",
        "    model.eval()\n",
        "    with torch.no_grad():\n",
        "        for inputs, labels in test_loader:\n",
        "            inputs, labels = inputs.to(device), labels.to(device)\n",
        "            outputs = model(inputs)\n",
        "            loss = criterion(outputs, labels)\n",
        "            test_loss += loss.item() * inputs.size(0)\n",
        "            probabilities = torch.softmax(outputs, dim=1)\n",
        "            _, predicted = torch.max(outputs, 1)\n",
        "            all_labels.extend(labels.cpu().numpy())\n",
        "            all_predictions.extend(predicted.cpu().numpy())\n",
        "            all_probabilities.extend(probabilities[:, 1].cpu().numpy())  # Assuming binary classification\n",
        "\n",
        "    test_loss /= len(test_loader.dataset)\n",
        "    accuracy = accuracy_score(all_labels, all_predictions)\n",
        "    recall = recall_score(all_labels, all_predictions)\n",
        "    f1 = f1_score(all_labels, all_predictions)\n",
        "    gmean = geometric_mean_score(all_labels, all_predictions)\n",
        "    auc_roc = roc_auc_score(all_labels, all_probabilities)\n",
        "\n",
        "    print(f'Test Loss: {test_loss:.4f},'\n",
        "          f' Accuracy: {accuracy:.4f},'\n",
        "          f' Recall: {recall:.4f},'\n",
        "          f' F1 Score: {f1:.4f},'\n",
        "          f' G-Mean: {gmean:.4f},'\n",
        "          f' ROC AUC: {auc_roc:.4f}')\n",
        "\n",
        "    return auc_roc, recall, gmean, f1\n",
        "\n",
        "# Define GA and related functions\n",
        "def initialize_population(valid_indices, population_size, individual_size):\n",
        "    return [np.random.choice(valid_indices, size=individual_size, replace=False) for _ in range(population_size)]\n",
        "\n",
        "def concatenate_samples(P, N, SetN):\n",
        "    P = np.atleast_2d(P)\n",
        "    N = np.atleast_2d(N)\n",
        "    SetN = np.atleast_2d(SetN)\n",
        "    P_cartesian = np.array([np.concatenate([p1, p2]) for p1 in P for p2 in P])\n",
        "    N_cartesian = np.array([np.concatenate([n, sn]) for n in N for sn in SetN])\n",
        "    return P_cartesian, N_cartesian\n",
        "\n",
        "def calculate_weights(data, labels, k=5):\n",
        "    labels = np.array(labels).flatten()\n",
        "    nbrs = NearestNeighbors(n_neighbors=k+1, algorithm='ball_tree').fit(data)\n",
        "    distances, indices = nbrs.kneighbors(data)\n",
        "    weights = np.zeros(data.shape[0])\n",
        "    for i in range(data.shape[0]):\n",
        "        distances_i = distances[i, 1:]\n",
        "        indices_i = indices[i, 1:]\n",
        "        inverse_distances = 1 / (distances_i + 1e-5)\n",
        "        same_class_mask = (labels[indices_i] == labels[i])\n",
        "        different_class_mask = ~same_class_mask\n",
        "        same_class_weights = inverse_distances * same_class_mask\n",
        "        different_class_weights = inverse_distances * different_class_mask\n",
        "        total_same_class_weight = np.sum(same_class_weights)\n",
        "        total_different_class_weight = np.sum(different_class_weights)\n",
        "        total_weight = total_same_class_weight + total_different_class_weight\n",
        "        if total_weight > 0:\n",
        "            complexity_score = total_same_class_weight / total_weight\n",
        "        else:\n",
        "            complexity_score = 0\n",
        "        weights[i] = complexity_score\n",
        "    return weights\n",
        "\n",
        "def calculate_class_complexity(P_cartesian, N_cartesian, weights):\n",
        "    if len(P_cartesian) > 0:\n",
        "        minority_weights_new = weights[:len(P_cartesian)]\n",
        "        minority_complexity = np.mean(minority_weights_new) if len(minority_weights_new) > 0 else 0\n",
        "    else:\n",
        "        minority_complexity = 0\n",
        "    if len(N_cartesian) > 0:\n",
        "        majority_weights_new = weights[len(P_cartesian):]\n",
        "        majority_complexity = np.mean(majority_weights_new) if len(majority_weights_new) > 0 else 0\n",
        "    else:\n",
        "        majority_complexity = 0\n",
        "    return minority_complexity, majority_complexity\n",
        "\n",
        "def calculate_fitness(individual, features, minority_class, majority_class, k=5):\n",
        "    best_samples = features[individual]\n",
        "    P_cartesian, N_cartesian = concatenate_samples(minority_class, majority_class, best_samples)\n",
        "    new_data = np.vstack((P_cartesian, N_cartesian))\n",
        "    new_labels = np.concatenate([np.zeros(len(P_cartesian)), np.ones(len(N_cartesian))])\n",
        "    new_weights = calculate_weights(new_data, new_labels, k=k)\n",
        "    minority_complexity, majority_complexity = calculate_class_complexity(P_cartesian, N_cartesian, new_weights)\n",
        "    fitness_score = minority_complexity + majority_complexity\n",
        "    return fitness_score, minority_complexity, majority_complexity\n",
        "\n",
        "def select_parents(population, fitnesses, num_parents):\n",
        "    parents = []\n",
        "    for _ in range(num_parents):\n",
        "        participants = np.random.choice(len(population), size=3, replace=False)\n",
        "        best = participants[np.argmax(fitnesses[participants])]\n",
        "        parents.append(population[best])\n",
        "    return parents\n",
        "\n",
        "def crossover(parent1, parent2):\n",
        "    crossover_point = np.random.randint(1, len(parent1))\n",
        "    child1 = np.concatenate([parent1[:crossover_point], parent2[crossover_point:]])\n",
        "    child2 = np.concatenate([parent2[:crossover_point], parent1[crossover_point:]])\n",
        "    return child1, child2\n",
        "\n",
        "def mutate(individual, mutation_rate, valid_indices):\n",
        "    for i in range(len(individual)):\n",
        "        if np.random.rand() < mutation_rate:\n",
        "            individual[i] = np.random.choice(valid_indices)\n",
        "    return individual\n",
        "\n",
        "def genetic_algorithm(features, population_size, individual_size, generations, initial_mutation_rate, optimal_fitness, minority_class, majority_class, k=5):\n",
        "    valid_indices = np.arange(features.shape[0])\n",
        "    population = initialize_population(valid_indices, population_size, individual_size)\n",
        "    best_overall_fitness = -np.inf\n",
        "    best_overall_individual = None\n",
        "    best_minority_complexity = 0\n",
        "    best_majority_complexity = 0\n",
        "    for generation in range(generations):\n",
        "        fitness_results = [calculate_fitness(ind, features, minority_class, majority_class, k=k) for ind in population]\n",
        "        fitnesses = [result[0] for result in fitness_results]\n",
        "        minority_complexities = [result[1] for result in fitness_results]\n",
        "        majority_complexities = [result[2] for result in fitness_results]\n",
        "        fitnesses = np.nan_to_num(fitnesses, nan=0.0)\n",
        "        best_index = np.argmax(fitnesses)\n",
        "        if fitnesses[best_index] > best_overall_fitness:\n",
        "            best_overall_fitness = fitnesses[best_index]\n",
        "            best_overall_individual = population[best_index]\n",
        "            best_minority_complexity = minority_complexities[best_index]\n",
        "            best_majority_complexity = majority_complexities[best_index]\n",
        "        if best_overall_fitness >= optimal_fitness:\n",
        "            break\n",
        "        mutation_rate = initial_mutation_rate * (1 - generation / generations)\n",
        "        parents = select_parents(population, fitnesses, len(population) - 1)\n",
        "        next_population = [best_overall_individual]\n",
        "        for i in range(0, len(parents), 2):\n",
        "            if i + 1 < len(parents):\n",
        "                child1, child2 = crossover(parents[i], parents[i + 1])\n",
        "                child1 = mutate(child1, mutation_rate, valid_indices)\n",
        "                child2 = mutate(child2, mutation_rate, valid_indices)\n",
        "                next_population.extend([child1, child2])\n",
        "        population = next_population[:population_size]\n",
        "        print(f\"Generation {generation + 1}, Best Fitness: {best_overall_fitness:.4f}, Minority Complexity: {best_minority_complexity:.4f}, Majority Complexity: {best_majority_complexity:.4f}\")\n",
        "    best_samples = features[best_overall_individual]\n",
        "    best_fitness = calculate_fitness(best_overall_individual, features, minority_class, majority_class, k=k)[0]\n",
        "    return best_samples, best_fitness\n",
        "\n",
        "def concatenate_with_itself(data):\n",
        "    \"\"\"Concatenate each sample with itself.\"\"\"\n",
        "    return np.hstack([data, data])\n",
        "\n",
        "def main(data_path, config):\n",
        "    device = torch.device(\"cuda\" if torch.cuda.is_available() else \"cpu\")\n",
        "    criterion = nn.CrossEntropyLoss()\n",
        "    data = pd.read_csv(data_path)\n",
        "    train_data, test_data = train_test_split(data, test_size=0.2, random_state=42, stratify=data['label'])\n",
        "    train_features = train_data.drop('label', axis=1).values\n",
        "    train_labels = train_data['label'].values\n",
        "    test_features = test_data.drop('label', axis=1).values\n",
        "    test_labels = test_data['label'].values\n",
        "    X_train, X_test, y_train, y_test = train_test_split(train_features, train_labels, test_size=0.2, random_state=42, stratify=train_labels)\n",
        "    minority_class_train = X_train[y_train == 1]\n",
        "    majority_class_train = X_train[y_train == 0]\n",
        "    best_samples, _ = genetic_algorithm(\n",
        "        majority_class_train, config['population_size'], config['individual_size'], config['generations'],\n",
        "        config['initial_mutation_rate'], config['optimal_fitness'], minority_class_train, majority_class_train\n",
        "    )\n",
        "    X_train_majority_selected = np.array([np.concatenate([x, y]) for x in best_samples for y in best_samples])\n",
        "    X_train_minority_selected = concatenate_with_itself(minority_class_train)\n",
        "    X_train_selected = np.vstack((X_train_minority_selected, X_train_majority_selected))\n",
        "    y_train_selected = np.hstack((np.ones(len(X_train_minority_selected)), np.zeros(len(X_train_majority_selected))))\n",
        "    X_test_majority = X_test[y_test == 0]\n",
        "    X_test_minority = X_test[y_test == 1]\n",
        "    X_test_majority_concatenated = np.array([np.concatenate([x, y]) for x in X_test_majority for y in X_test_majority])\n",
        "    X_test_minority_concatenated = np.array([np.concatenate([x, y]) for x in X_test_minority for y in X_test_minority])\n",
        "    X_test_concatenated = np.vstack((X_test_minority_concatenated, X_test_majority_concatenated))\n",
        "    y_test_concatenated = np.hstack((np.ones(len(X_test_minority_concatenated)), np.zeros(len(X_test_majority_concatenated))))\n",
        "    train_dataset = TensorDataset(torch.tensor(X_train_selected, dtype=torch.float32), torch.tensor(y_train_selected, dtype=torch.int64))\n",
        "    test_dataset = TensorDataset(torch.tensor(X_test_concatenated, dtype=torch.float32), torch.tensor(y_test_concatenated, dtype=torch.int64))\n",
        "    train_loader = DataLoader(train_dataset, batch_size=config['batch_size'], shuffle=True)\n",
        "    test_loader = DataLoader(test_dataset, batch_size=config['batch_size'], shuffle=False)\n",
        "    print(f\"X_train_selected shape: {X_train_selected.shape}\")\n",
        "    print(f\"y_train_selected shape: {y_train_selected.shape}\")\n",
        "    print(f\"X_test_concatenated shape: {X_test_concatenated.shape}\")\n",
        "    print(f\"y_test_concatenated shape: {y_test_concatenated.shape}\")\n",
        "    model = MLP(X_train_selected.shape[1], 2, device)\n",
        "    optimizer = torch.optim.Adam(model.parameters(), lr=config['learning_rate'])\n",
        "    model = train_model(model, train_loader, criterion, optimizer, device, config['num_epochs'])\n",
        "    auc_roc, recall, gmean, f1 = evaluate_model(model, test_loader, criterion, device)\n",
        "    return auc_roc, recall, gmean, f1\n",
        "\n",
        "config = {\n",
        "    'population_size': 15,\n",
        "    'individual_size': calculated_sample_size,\n",
        "    'generations': 20,\n",
        "    'initial_mutation_rate': 0.01,\n",
        "    'optimal_fitness': 2 * 0.999,\n",
        "    'k_folds': 5,\n",
        "    'batch_size': 32,\n",
        "    'num_epochs': 50,\n",
        "    'learning_rate': 0.001,\n",
        "    'random_seed': 42\n",
        "}\n",
        "\n",
        "data_path = '/content/glass0123vs456.csv'\n",
        "\n",
        "auc_roc, recall, gmean, f1 = main(data_path, config)\n",
        "print(f\"AUC: {auc_roc:.4f}, Recall: {recall:.4f}, G-mean: {gmean:.4f}, F1 Score: {f1:.4f}\")\n"
      ],
      "metadata": {
        "colab": {
          "base_uri": "https://localhost:8080/"
        },
        "id": "ePo83BxDK2DV",
        "outputId": "50f936bb-c6f8-4ca6-ee60-24da643c9ce4"
      },
      "execution_count": null,
      "outputs": [
        {
          "output_type": "stream",
          "name": "stdout",
          "text": [
            "Generation 1, Best Fitness: 1.9951, Minority Complexity: 0.9957, Majority Complexity: 0.9994\n",
            "Generation 2, Best Fitness: 1.9961, Minority Complexity: 0.9961, Majority Complexity: 1.0000\n",
            "Generation 3, Best Fitness: 1.9961, Minority Complexity: 0.9961, Majority Complexity: 1.0000\n",
            "Generation 4, Best Fitness: 1.9962, Minority Complexity: 0.9962, Majority Complexity: 1.0000\n",
            "Generation 5, Best Fitness: 1.9962, Minority Complexity: 0.9962, Majority Complexity: 1.0000\n",
            "Generation 6, Best Fitness: 1.9962, Minority Complexity: 0.9962, Majority Complexity: 1.0000\n",
            "Generation 7, Best Fitness: 1.9962, Minority Complexity: 0.9962, Majority Complexity: 1.0000\n",
            "Generation 8, Best Fitness: 1.9962, Minority Complexity: 0.9962, Majority Complexity: 1.0000\n",
            "Generation 9, Best Fitness: 1.9962, Minority Complexity: 0.9962, Majority Complexity: 1.0000\n",
            "Generation 10, Best Fitness: 1.9962, Minority Complexity: 0.9962, Majority Complexity: 1.0000\n",
            "Generation 11, Best Fitness: 1.9962, Minority Complexity: 0.9962, Majority Complexity: 1.0000\n",
            "Generation 12, Best Fitness: 1.9962, Minority Complexity: 0.9962, Majority Complexity: 1.0000\n",
            "Generation 13, Best Fitness: 1.9962, Minority Complexity: 0.9962, Majority Complexity: 1.0000\n",
            "Generation 14, Best Fitness: 1.9962, Minority Complexity: 0.9962, Majority Complexity: 1.0000\n",
            "Generation 15, Best Fitness: 1.9962, Minority Complexity: 0.9962, Majority Complexity: 1.0000\n",
            "Generation 16, Best Fitness: 1.9962, Minority Complexity: 0.9962, Majority Complexity: 1.0000\n",
            "Generation 17, Best Fitness: 1.9962, Minority Complexity: 0.9962, Majority Complexity: 1.0000\n",
            "Generation 18, Best Fitness: 1.9962, Minority Complexity: 0.9962, Majority Complexity: 1.0000\n",
            "Generation 19, Best Fitness: 1.9962, Minority Complexity: 0.9962, Majority Complexity: 1.0000\n",
            "Generation 20, Best Fitness: 1.9962, Minority Complexity: 0.9962, Majority Complexity: 1.0000\n",
            "X_train_selected shape: (1258, 18)\n",
            "y_train_selected shape: (1258,)\n",
            "X_test_concatenated shape: (793, 18)\n",
            "y_test_concatenated shape: (793,)\n",
            "Test Loss: 0.0588, Accuracy: 0.9773, Recall: 0.7188, F1 Score: 0.8364, G-Mean: 0.8478, ROC AUC: 0.9986\n",
            "AUC: 0.9986, Recall: 0.7188, G-mean: 0.8478, F1 Score: 0.8364\n"
          ]
        }
      ]
    }
  ],
  "metadata": {
    "accelerator": "GPU",
    "colab": {
      "gpuType": "T4",
      "provenance": []
    },
    "kernelspec": {
      "display_name": "Python 3",
      "name": "python3"
    },
    "language_info": {
      "name": "python"
    }
  },
  "nbformat": 4,
  "nbformat_minor": 0
}