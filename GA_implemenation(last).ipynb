{
  "cells": [
    {
      "cell_type": "code",
      "execution_count": 199,
      "metadata": {
        "id": "JY1dXaAcTgqk"
      },
      "outputs": [],
      "source": [
        "import pandas as pd\n",
        "import numpy as np\n",
        "import torch\n",
        "import torch.nn as nn\n",
        "import math\n",
        "import random\n",
        "from scipy.spatial import distance_matrix\n",
        "from sklearn.neighbors import NearestNeighbors\n",
        "import torch.nn.functional as F\n",
        "from torch.utils.data import DataLoader, TensorDataset, SubsetRandomSampler\n",
        "from sklearn.model_selection import train_test_split, StratifiedKFold\n",
        "from sklearn.metrics import accuracy_score, f1_score, recall_score, roc_curve, precision_recall_curve, roc_auc_score, confusion_matrix\n",
        "from imblearn.metrics import geometric_mean_score\n",
        "import matplotlib.pyplot as plt\n",
        "from sklearn.model_selection import RepeatedStratifiedKFold\n"
      ]
    },
    {
      "cell_type": "code",
      "execution_count": 200,
      "metadata": {
        "id": "jxFgVv2XTj3p"
      },
      "outputs": [],
      "source": [
        "data_path = '/content/haberman.csv'\n",
        "data = pd.read_csv(data_path)"
      ]
    },
    {
      "cell_type": "code",
      "execution_count": 201,
      "metadata": {
        "colab": {
          "base_uri": "https://localhost:8080/"
        },
        "id": "isixpRSsMeAy",
        "outputId": "5f072ee4-1158-4ab8-9bd7-f27216b46dc9"
      },
      "outputs": [
        {
          "output_type": "execute_result",
          "data": {
            "text/plain": [
              "(306, 4)"
            ]
          },
          "metadata": {},
          "execution_count": 201
        }
      ],
      "source": [
        "data.shape"
      ]
    },
    {
      "cell_type": "code",
      "execution_count": 202,
      "metadata": {
        "colab": {
          "base_uri": "https://localhost:8080/",
          "height": 206
        },
        "id": "JArJj3JXToLo",
        "outputId": "30d42bd7-7dcb-46c1-f2a2-2c2d38b1fa31"
      },
      "outputs": [
        {
          "output_type": "execute_result",
          "data": {
            "text/plain": [
              "    1   2  3  label\n",
              "0  30  64  1      0\n",
              "1  30  62  3      0\n",
              "2  30  65  0      0\n",
              "3  31  59  2      0\n",
              "4  31  65  4      0"
            ],
            "text/html": [
              "\n",
              "  <div id=\"df-1fe43396-33f9-4b1a-8b5b-cf2a5666bba5\" class=\"colab-df-container\">\n",
              "    <div>\n",
              "<style scoped>\n",
              "    .dataframe tbody tr th:only-of-type {\n",
              "        vertical-align: middle;\n",
              "    }\n",
              "\n",
              "    .dataframe tbody tr th {\n",
              "        vertical-align: top;\n",
              "    }\n",
              "\n",
              "    .dataframe thead th {\n",
              "        text-align: right;\n",
              "    }\n",
              "</style>\n",
              "<table border=\"1\" class=\"dataframe\">\n",
              "  <thead>\n",
              "    <tr style=\"text-align: right;\">\n",
              "      <th></th>\n",
              "      <th>1</th>\n",
              "      <th>2</th>\n",
              "      <th>3</th>\n",
              "      <th>label</th>\n",
              "    </tr>\n",
              "  </thead>\n",
              "  <tbody>\n",
              "    <tr>\n",
              "      <th>0</th>\n",
              "      <td>30</td>\n",
              "      <td>64</td>\n",
              "      <td>1</td>\n",
              "      <td>0</td>\n",
              "    </tr>\n",
              "    <tr>\n",
              "      <th>1</th>\n",
              "      <td>30</td>\n",
              "      <td>62</td>\n",
              "      <td>3</td>\n",
              "      <td>0</td>\n",
              "    </tr>\n",
              "    <tr>\n",
              "      <th>2</th>\n",
              "      <td>30</td>\n",
              "      <td>65</td>\n",
              "      <td>0</td>\n",
              "      <td>0</td>\n",
              "    </tr>\n",
              "    <tr>\n",
              "      <th>3</th>\n",
              "      <td>31</td>\n",
              "      <td>59</td>\n",
              "      <td>2</td>\n",
              "      <td>0</td>\n",
              "    </tr>\n",
              "    <tr>\n",
              "      <th>4</th>\n",
              "      <td>31</td>\n",
              "      <td>65</td>\n",
              "      <td>4</td>\n",
              "      <td>0</td>\n",
              "    </tr>\n",
              "  </tbody>\n",
              "</table>\n",
              "</div>\n",
              "    <div class=\"colab-df-buttons\">\n",
              "\n",
              "  <div class=\"colab-df-container\">\n",
              "    <button class=\"colab-df-convert\" onclick=\"convertToInteractive('df-1fe43396-33f9-4b1a-8b5b-cf2a5666bba5')\"\n",
              "            title=\"Convert this dataframe to an interactive table.\"\n",
              "            style=\"display:none;\">\n",
              "\n",
              "  <svg xmlns=\"http://www.w3.org/2000/svg\" height=\"24px\" viewBox=\"0 -960 960 960\">\n",
              "    <path d=\"M120-120v-720h720v720H120Zm60-500h600v-160H180v160Zm220 220h160v-160H400v160Zm0 220h160v-160H400v160ZM180-400h160v-160H180v160Zm440 0h160v-160H620v160ZM180-180h160v-160H180v160Zm440 0h160v-160H620v160Z\"/>\n",
              "  </svg>\n",
              "    </button>\n",
              "\n",
              "  <style>\n",
              "    .colab-df-container {\n",
              "      display:flex;\n",
              "      gap: 12px;\n",
              "    }\n",
              "\n",
              "    .colab-df-convert {\n",
              "      background-color: #E8F0FE;\n",
              "      border: none;\n",
              "      border-radius: 50%;\n",
              "      cursor: pointer;\n",
              "      display: none;\n",
              "      fill: #1967D2;\n",
              "      height: 32px;\n",
              "      padding: 0 0 0 0;\n",
              "      width: 32px;\n",
              "    }\n",
              "\n",
              "    .colab-df-convert:hover {\n",
              "      background-color: #E2EBFA;\n",
              "      box-shadow: 0px 1px 2px rgba(60, 64, 67, 0.3), 0px 1px 3px 1px rgba(60, 64, 67, 0.15);\n",
              "      fill: #174EA6;\n",
              "    }\n",
              "\n",
              "    .colab-df-buttons div {\n",
              "      margin-bottom: 4px;\n",
              "    }\n",
              "\n",
              "    [theme=dark] .colab-df-convert {\n",
              "      background-color: #3B4455;\n",
              "      fill: #D2E3FC;\n",
              "    }\n",
              "\n",
              "    [theme=dark] .colab-df-convert:hover {\n",
              "      background-color: #434B5C;\n",
              "      box-shadow: 0px 1px 3px 1px rgba(0, 0, 0, 0.15);\n",
              "      filter: drop-shadow(0px 1px 2px rgba(0, 0, 0, 0.3));\n",
              "      fill: #FFFFFF;\n",
              "    }\n",
              "  </style>\n",
              "\n",
              "    <script>\n",
              "      const buttonEl =\n",
              "        document.querySelector('#df-1fe43396-33f9-4b1a-8b5b-cf2a5666bba5 button.colab-df-convert');\n",
              "      buttonEl.style.display =\n",
              "        google.colab.kernel.accessAllowed ? 'block' : 'none';\n",
              "\n",
              "      async function convertToInteractive(key) {\n",
              "        const element = document.querySelector('#df-1fe43396-33f9-4b1a-8b5b-cf2a5666bba5');\n",
              "        const dataTable =\n",
              "          await google.colab.kernel.invokeFunction('convertToInteractive',\n",
              "                                                    [key], {});\n",
              "        if (!dataTable) return;\n",
              "\n",
              "        const docLinkHtml = 'Like what you see? Visit the ' +\n",
              "          '<a target=\"_blank\" href=https://colab.research.google.com/notebooks/data_table.ipynb>data table notebook</a>'\n",
              "          + ' to learn more about interactive tables.';\n",
              "        element.innerHTML = '';\n",
              "        dataTable['output_type'] = 'display_data';\n",
              "        await google.colab.output.renderOutput(dataTable, element);\n",
              "        const docLink = document.createElement('div');\n",
              "        docLink.innerHTML = docLinkHtml;\n",
              "        element.appendChild(docLink);\n",
              "      }\n",
              "    </script>\n",
              "  </div>\n",
              "\n",
              "\n",
              "<div id=\"df-f45b9ca3-c483-48bf-8295-a09149baf2d3\">\n",
              "  <button class=\"colab-df-quickchart\" onclick=\"quickchart('df-f45b9ca3-c483-48bf-8295-a09149baf2d3')\"\n",
              "            title=\"Suggest charts\"\n",
              "            style=\"display:none;\">\n",
              "\n",
              "<svg xmlns=\"http://www.w3.org/2000/svg\" height=\"24px\"viewBox=\"0 0 24 24\"\n",
              "     width=\"24px\">\n",
              "    <g>\n",
              "        <path d=\"M19 3H5c-1.1 0-2 .9-2 2v14c0 1.1.9 2 2 2h14c1.1 0 2-.9 2-2V5c0-1.1-.9-2-2-2zM9 17H7v-7h2v7zm4 0h-2V7h2v10zm4 0h-2v-4h2v4z\"/>\n",
              "    </g>\n",
              "</svg>\n",
              "  </button>\n",
              "\n",
              "<style>\n",
              "  .colab-df-quickchart {\n",
              "      --bg-color: #E8F0FE;\n",
              "      --fill-color: #1967D2;\n",
              "      --hover-bg-color: #E2EBFA;\n",
              "      --hover-fill-color: #174EA6;\n",
              "      --disabled-fill-color: #AAA;\n",
              "      --disabled-bg-color: #DDD;\n",
              "  }\n",
              "\n",
              "  [theme=dark] .colab-df-quickchart {\n",
              "      --bg-color: #3B4455;\n",
              "      --fill-color: #D2E3FC;\n",
              "      --hover-bg-color: #434B5C;\n",
              "      --hover-fill-color: #FFFFFF;\n",
              "      --disabled-bg-color: #3B4455;\n",
              "      --disabled-fill-color: #666;\n",
              "  }\n",
              "\n",
              "  .colab-df-quickchart {\n",
              "    background-color: var(--bg-color);\n",
              "    border: none;\n",
              "    border-radius: 50%;\n",
              "    cursor: pointer;\n",
              "    display: none;\n",
              "    fill: var(--fill-color);\n",
              "    height: 32px;\n",
              "    padding: 0;\n",
              "    width: 32px;\n",
              "  }\n",
              "\n",
              "  .colab-df-quickchart:hover {\n",
              "    background-color: var(--hover-bg-color);\n",
              "    box-shadow: 0 1px 2px rgba(60, 64, 67, 0.3), 0 1px 3px 1px rgba(60, 64, 67, 0.15);\n",
              "    fill: var(--button-hover-fill-color);\n",
              "  }\n",
              "\n",
              "  .colab-df-quickchart-complete:disabled,\n",
              "  .colab-df-quickchart-complete:disabled:hover {\n",
              "    background-color: var(--disabled-bg-color);\n",
              "    fill: var(--disabled-fill-color);\n",
              "    box-shadow: none;\n",
              "  }\n",
              "\n",
              "  .colab-df-spinner {\n",
              "    border: 2px solid var(--fill-color);\n",
              "    border-color: transparent;\n",
              "    border-bottom-color: var(--fill-color);\n",
              "    animation:\n",
              "      spin 1s steps(1) infinite;\n",
              "  }\n",
              "\n",
              "  @keyframes spin {\n",
              "    0% {\n",
              "      border-color: transparent;\n",
              "      border-bottom-color: var(--fill-color);\n",
              "      border-left-color: var(--fill-color);\n",
              "    }\n",
              "    20% {\n",
              "      border-color: transparent;\n",
              "      border-left-color: var(--fill-color);\n",
              "      border-top-color: var(--fill-color);\n",
              "    }\n",
              "    30% {\n",
              "      border-color: transparent;\n",
              "      border-left-color: var(--fill-color);\n",
              "      border-top-color: var(--fill-color);\n",
              "      border-right-color: var(--fill-color);\n",
              "    }\n",
              "    40% {\n",
              "      border-color: transparent;\n",
              "      border-right-color: var(--fill-color);\n",
              "      border-top-color: var(--fill-color);\n",
              "    }\n",
              "    60% {\n",
              "      border-color: transparent;\n",
              "      border-right-color: var(--fill-color);\n",
              "    }\n",
              "    80% {\n",
              "      border-color: transparent;\n",
              "      border-right-color: var(--fill-color);\n",
              "      border-bottom-color: var(--fill-color);\n",
              "    }\n",
              "    90% {\n",
              "      border-color: transparent;\n",
              "      border-bottom-color: var(--fill-color);\n",
              "    }\n",
              "  }\n",
              "</style>\n",
              "\n",
              "  <script>\n",
              "    async function quickchart(key) {\n",
              "      const quickchartButtonEl =\n",
              "        document.querySelector('#' + key + ' button');\n",
              "      quickchartButtonEl.disabled = true;  // To prevent multiple clicks.\n",
              "      quickchartButtonEl.classList.add('colab-df-spinner');\n",
              "      try {\n",
              "        const charts = await google.colab.kernel.invokeFunction(\n",
              "            'suggestCharts', [key], {});\n",
              "      } catch (error) {\n",
              "        console.error('Error during call to suggestCharts:', error);\n",
              "      }\n",
              "      quickchartButtonEl.classList.remove('colab-df-spinner');\n",
              "      quickchartButtonEl.classList.add('colab-df-quickchart-complete');\n",
              "    }\n",
              "    (() => {\n",
              "      let quickchartButtonEl =\n",
              "        document.querySelector('#df-f45b9ca3-c483-48bf-8295-a09149baf2d3 button');\n",
              "      quickchartButtonEl.style.display =\n",
              "        google.colab.kernel.accessAllowed ? 'block' : 'none';\n",
              "    })();\n",
              "  </script>\n",
              "</div>\n",
              "    </div>\n",
              "  </div>\n"
            ],
            "application/vnd.google.colaboratory.intrinsic+json": {
              "type": "dataframe",
              "variable_name": "data",
              "summary": "{\n  \"name\": \"data\",\n  \"rows\": 306,\n  \"fields\": [\n    {\n      \"column\": \"1\",\n      \"properties\": {\n        \"dtype\": \"number\",\n        \"std\": 10,\n        \"min\": 30,\n        \"max\": 83,\n        \"num_unique_values\": 49,\n        \"samples\": [\n          44,\n          76,\n          78\n        ],\n        \"semantic_type\": \"\",\n        \"description\": \"\"\n      }\n    },\n    {\n      \"column\": \"2\",\n      \"properties\": {\n        \"dtype\": \"number\",\n        \"std\": 3,\n        \"min\": 58,\n        \"max\": 69,\n        \"num_unique_values\": 12,\n        \"samples\": [\n          69,\n          63,\n          64\n        ],\n        \"semantic_type\": \"\",\n        \"description\": \"\"\n      }\n    },\n    {\n      \"column\": \"3\",\n      \"properties\": {\n        \"dtype\": \"number\",\n        \"std\": 7,\n        \"min\": 0,\n        \"max\": 52,\n        \"num_unique_values\": 31,\n        \"samples\": [\n          35,\n          23,\n          24\n        ],\n        \"semantic_type\": \"\",\n        \"description\": \"\"\n      }\n    },\n    {\n      \"column\": \"label\",\n      \"properties\": {\n        \"dtype\": \"number\",\n        \"std\": 0,\n        \"min\": 0,\n        \"max\": 1,\n        \"num_unique_values\": 2,\n        \"samples\": [\n          1,\n          0\n        ],\n        \"semantic_type\": \"\",\n        \"description\": \"\"\n      }\n    }\n  ]\n}"
            }
          },
          "metadata": {},
          "execution_count": 202
        }
      ],
      "source": [
        "data.head()"
      ]
    },
    {
      "cell_type": "code",
      "execution_count": 203,
      "metadata": {
        "colab": {
          "base_uri": "https://localhost:8080/"
        },
        "id": "pWil5o27Tx-w",
        "outputId": "38a44b96-ef25-4c98-f26d-12ef108215ee"
      },
      "outputs": [
        {
          "output_type": "execute_result",
          "data": {
            "text/plain": [
              "label\n",
              "0    225\n",
              "1     81\n",
              "Name: count, dtype: int64"
            ]
          },
          "metadata": {},
          "execution_count": 203
        }
      ],
      "source": [
        "label_counts = data['label'].value_counts()\n",
        "label_counts"
      ]
    },
    {
      "cell_type": "code",
      "execution_count": 204,
      "metadata": {
        "colab": {
          "base_uri": "https://localhost:8080/"
        },
        "id": "lprGSfYjULbG",
        "outputId": "ca42dc75-e073-499f-e89f-16bdd515e125"
      },
      "outputs": [
        {
          "output_type": "execute_result",
          "data": {
            "text/plain": [
              "1        0\n",
              "2        0\n",
              "3        0\n",
              "label    0\n",
              "dtype: int64"
            ]
          },
          "metadata": {},
          "execution_count": 204
        }
      ],
      "source": [
        "missing_values = data.isnull().sum()\n",
        "missing_values"
      ]
    },
    {
      "cell_type": "code",
      "execution_count": 205,
      "metadata": {
        "id": "WRhu3HcxUR4q"
      },
      "outputs": [],
      "source": [
        "majority_label = label_counts.idxmax()\n",
        "minority_label = label_counts.idxmin()"
      ]
    },
    {
      "cell_type": "code",
      "execution_count": 206,
      "metadata": {
        "colab": {
          "base_uri": "https://localhost:8080/"
        },
        "id": "2yO7PVSXUXax",
        "outputId": "6662ab15-f598-4f57-c2bf-33fcb403f2f9"
      },
      "outputs": [
        {
          "output_type": "execute_result",
          "data": {
            "text/plain": [
              "0"
            ]
          },
          "metadata": {},
          "execution_count": 206
        }
      ],
      "source": [
        "majority_label"
      ]
    },
    {
      "cell_type": "code",
      "execution_count": 207,
      "metadata": {
        "colab": {
          "base_uri": "https://localhost:8080/"
        },
        "id": "j0KDGowKUg4h",
        "outputId": "c052f536-4eaa-49c6-df91-b9d48ee97306"
      },
      "outputs": [
        {
          "output_type": "execute_result",
          "data": {
            "text/plain": [
              "1"
            ]
          },
          "metadata": {},
          "execution_count": 207
        }
      ],
      "source": [
        "minority_label"
      ]
    },
    {
      "cell_type": "code",
      "execution_count": 208,
      "metadata": {
        "id": "9o8D43R9Um-F"
      },
      "outputs": [],
      "source": [
        "majority_class = data[data['label'] == majority_label].iloc[:, :-1].values\n",
        "minority_class = data[data['label'] == minority_label].iloc[:, :-1].values\n",
        "labels_majority = data[data['label'] == majority_label]['label'].values\n",
        "labels_minority = data[data['label'] == minority_label]['label'].values"
      ]
    },
    {
      "cell_type": "code",
      "execution_count": 209,
      "metadata": {
        "colab": {
          "base_uri": "https://localhost:8080/"
        },
        "id": "cvLhlWa9Utp6",
        "outputId": "0870132d-977c-44ca-a33b-bcb0cecff51a"
      },
      "outputs": [
        {
          "output_type": "execute_result",
          "data": {
            "text/plain": [
              "array([[30, 64,  1],\n",
              "       [30, 62,  3],\n",
              "       [30, 65,  0],\n",
              "       [31, 59,  2],\n",
              "       [31, 65,  4],\n",
              "       [33, 58, 10],\n",
              "       [33, 60,  0],\n",
              "       [34, 58, 30],\n",
              "       [34, 60,  1],\n",
              "       [34, 61, 10],\n",
              "       [34, 67,  7],\n",
              "       [34, 60,  0],\n",
              "       [35, 64, 13],\n",
              "       [35, 63,  0],\n",
              "       [36, 60,  1],\n",
              "       [36, 69,  0],\n",
              "       [37, 60,  0],\n",
              "       [37, 63,  0],\n",
              "       [37, 58,  0],\n",
              "       [37, 59,  6],\n",
              "       [37, 60, 15],\n",
              "       [37, 63,  0],\n",
              "       [38, 59,  2],\n",
              "       [38, 60,  0],\n",
              "       [38, 60,  0]])"
            ]
          },
          "metadata": {},
          "execution_count": 209
        }
      ],
      "source": [
        "majority_class[:25]"
      ]
    },
    {
      "cell_type": "code",
      "execution_count": 210,
      "metadata": {
        "colab": {
          "base_uri": "https://localhost:8080/"
        },
        "id": "HeEUA_V3Uxm3",
        "outputId": "d9658e3c-fd4c-44d3-e893-eaa217ffa1f8"
      },
      "outputs": [
        {
          "output_type": "execute_result",
          "data": {
            "text/plain": [
              "array([[34, 59,  0],\n",
              "       [34, 66,  9],\n",
              "       [38, 69, 21],\n",
              "       [39, 66,  0],\n",
              "       [41, 60, 23],\n",
              "       [41, 64,  0],\n",
              "       [41, 67,  0],\n",
              "       [42, 69,  1],\n",
              "       [42, 59,  0],\n",
              "       [43, 58, 52],\n",
              "       [43, 59,  2],\n",
              "       [43, 64,  0],\n",
              "       [43, 64,  0],\n",
              "       [44, 64,  6],\n",
              "       [44, 58,  9],\n",
              "       [44, 63, 19],\n",
              "       [45, 65,  6],\n",
              "       [45, 66,  0],\n",
              "       [45, 67,  1],\n",
              "       [46, 58,  2],\n",
              "       [46, 69,  3],\n",
              "       [46, 62,  5],\n",
              "       [46, 65, 20],\n",
              "       [47, 63, 23],\n",
              "       [47, 62,  0],\n",
              "       [47, 65,  0],\n",
              "       [48, 58, 11],\n",
              "       [48, 58, 11],\n",
              "       [48, 67,  7],\n",
              "       [49, 63,  0],\n",
              "       [49, 64, 10],\n",
              "       [50, 63, 13],\n",
              "       [50, 64,  0],\n",
              "       [51, 59, 13],\n",
              "       [51, 59,  3],\n",
              "       [52, 69,  3],\n",
              "       [52, 59,  2],\n",
              "       [52, 62,  3],\n",
              "       [52, 66,  4],\n",
              "       [53, 58,  4],\n",
              "       [53, 65,  1],\n",
              "       [53, 59,  3],\n",
              "       [53, 60,  9],\n",
              "       [53, 63, 24],\n",
              "       [53, 65, 12],\n",
              "       [54, 60, 11],\n",
              "       [54, 65, 23],\n",
              "       [54, 65,  5],\n",
              "       [54, 68,  7],\n",
              "       [55, 63,  6],\n",
              "       [55, 68, 15],\n",
              "       [56, 65,  9],\n",
              "       [56, 66,  3],\n",
              "       [57, 61,  5],\n",
              "       [57, 62, 14],\n",
              "       [57, 64,  1],\n",
              "       [59, 62, 35],\n",
              "       [60, 59, 17],\n",
              "       [60, 65,  0],\n",
              "       [61, 62,  5],\n",
              "       [61, 65,  0],\n",
              "       [61, 68,  1],\n",
              "       [62, 59, 13],\n",
              "       [62, 58,  0],\n",
              "       [62, 65, 19],\n",
              "       [63, 60,  1],\n",
              "       [65, 58,  0],\n",
              "       [65, 61,  2],\n",
              "       [65, 62, 22],\n",
              "       [65, 66, 15],\n",
              "       [66, 58,  0],\n",
              "       [66, 61, 13],\n",
              "       [67, 64,  8],\n",
              "       [67, 63,  1],\n",
              "       [69, 67,  8],\n",
              "       [70, 58,  0],\n",
              "       [70, 58,  4],\n",
              "       [72, 63,  0],\n",
              "       [74, 65,  3],\n",
              "       [78, 65,  1],\n",
              "       [83, 58,  2]])"
            ]
          },
          "metadata": {},
          "execution_count": 210
        }
      ],
      "source": [
        "minority_class"
      ]
    },
    {
      "cell_type": "code",
      "execution_count": 211,
      "metadata": {
        "id": "r49MwwTnKoYm"
      },
      "outputs": [],
      "source": [
        "features = data.drop('label', axis=1).values\n",
        "labels = data['label'].values"
      ]
    },
    {
      "cell_type": "code",
      "execution_count": 212,
      "metadata": {
        "id": "qMKi3T4AIbLT"
      },
      "outputs": [],
      "source": [
        "labels=np.reshape(labels, newshape=(len(data),1))"
      ]
    },
    {
      "cell_type": "code",
      "execution_count": 213,
      "metadata": {
        "colab": {
          "base_uri": "https://localhost:8080/"
        },
        "id": "ns59-Ro-MWbE",
        "outputId": "7e637bb5-0c54-40b6-a699-bcd6e4af3bec"
      },
      "outputs": [
        {
          "output_type": "execute_result",
          "data": {
            "text/plain": [
              "(306, 3)"
            ]
          },
          "metadata": {},
          "execution_count": 213
        }
      ],
      "source": [
        "features.shape"
      ]
    },
    {
      "cell_type": "code",
      "execution_count": 214,
      "metadata": {
        "id": "F8LH2aJcB2KG"
      },
      "outputs": [],
      "source": [
        "majority_count = len(labels_majority)\n",
        "minority_count = len(labels_minority)"
      ]
    },
    {
      "cell_type": "code",
      "execution_count": 215,
      "metadata": {
        "colab": {
          "base_uri": "https://localhost:8080/"
        },
        "id": "ikdgR4hqDQ2d",
        "outputId": "5e107d72-9af5-4d11-bba1-d2449221a305"
      },
      "outputs": [
        {
          "output_type": "execute_result",
          "data": {
            "text/plain": [
              "225"
            ]
          },
          "metadata": {},
          "execution_count": 215
        }
      ],
      "source": [
        "majority_count"
      ]
    },
    {
      "cell_type": "code",
      "execution_count": 216,
      "metadata": {
        "colab": {
          "base_uri": "https://localhost:8080/"
        },
        "id": "rwDYqjRaB-D3",
        "outputId": "daa7dd45-1258-402c-89a1-e303079e8592"
      },
      "outputs": [
        {
          "output_type": "stream",
          "name": "stdout",
          "text": [
            "Imbalance Ratio: 2.7778\n"
          ]
        }
      ],
      "source": [
        "if minority_count > 0:\n",
        "    imbalance_ratio = majority_count / minority_count\n",
        "else:\n",
        "    imbalance_ratio = 0  # To handle cases with no majority class instances\n",
        "print(f\"Imbalance Ratio: {imbalance_ratio:.4f}\")"
      ]
    },
    {
      "cell_type": "code",
      "execution_count": 217,
      "metadata": {
        "id": "rPG52fkfBjZW"
      },
      "outputs": [],
      "source": [
        "def sample_size(A, num_min):\n",
        "    p = num_min / A\n",
        "    if p == 0 and A >= 9:\n",
        "        size1 = 0\n",
        "    elif p == 0 or p == 1:\n",
        "        size1 = 1\n",
        "    else:\n",
        "        Z = 1.64\n",
        "        epsilon = 0.05\n",
        "        e = epsilon + np.log(A) / A\n",
        "        x = (Z**2 * p * (1-p)) / (e**2)\n",
        "        size1 = (A * x) / (x + A - 1)\n",
        "    return math.ceil(size1)"
      ]
    },
    {
      "cell_type": "code",
      "execution_count": 218,
      "metadata": {
        "colab": {
          "base_uri": "https://localhost:8080/"
        },
        "id": "Gs-3lcoLCDmh",
        "outputId": "9f848ee7-4a56-435f-95e3-027c26e72008"
      },
      "outputs": [
        {
          "output_type": "execute_result",
          "data": {
            "text/plain": [
              "76"
            ]
          },
          "metadata": {},
          "execution_count": 218
        }
      ],
      "source": [
        "calculated_sample_size = sample_size(majority_count, minority_count)\n",
        "calculated_sample_size"
      ]
    },
    {
      "cell_type": "code",
      "execution_count": 219,
      "metadata": {
        "id": "MzedsmoTDmL_"
      },
      "outputs": [],
      "source": [
        "\n",
        "def calculate_weights(data, labels, k=5):\n",
        "    labels = np.array(labels).flatten()\n",
        "    nbrs = NearestNeighbors(n_neighbors=k+1, algorithm='ball_tree').fit(data)\n",
        "    distances, indices = nbrs.kneighbors(data)\n",
        "\n",
        "    weights = np.zeros(data.shape[0])\n",
        "    for i in range(data.shape[0]):\n",
        "        distances_i = distances[i, 1:]  # ignore the first one because it's the distance to itself\n",
        "        indices_i = indices[i, 1:]\n",
        "        inverse_distances = 1 / (distances_i + 1e-5)\n",
        "\n",
        "        same_class_mask = (labels[indices_i] == labels[i])\n",
        "        different_class_mask = ~same_class_mask\n",
        "\n",
        "        same_class_weights = inverse_distances * same_class_mask\n",
        "        different_class_weights = inverse_distances * different_class_mask\n",
        "\n",
        "        total_same_class_weight = np.sum(same_class_weights)\n",
        "        total_different_class_weight = np.sum(different_class_weights)\n",
        "        total_weight = total_same_class_weight + total_different_class_weight\n",
        "\n",
        "        if total_weight > 0:\n",
        "            complexity_score = total_same_class_weight / total_weight\n",
        "        else:\n",
        "            complexity_score = 0  # Handle cases with no effective neighbors\n",
        "\n",
        "        weights[i] = complexity_score\n",
        "\n",
        "    return weights\n"
      ]
    },
    {
      "cell_type": "code",
      "execution_count": 220,
      "metadata": {
        "id": "qFr6743_EzCX"
      },
      "outputs": [],
      "source": [
        "weights = calculate_weights(features, labels, k=5)"
      ]
    },
    {
      "cell_type": "code",
      "execution_count": 221,
      "metadata": {
        "colab": {
          "base_uri": "https://localhost:8080/"
        },
        "id": "v_EvivFUSA0Z",
        "outputId": "38c7d44d-80e9-4a5b-fb90-bd4e7f613449"
      },
      "outputs": [
        {
          "output_type": "execute_result",
          "data": {
            "text/plain": [
              "(306,)"
            ]
          },
          "metadata": {},
          "execution_count": 221
        }
      ],
      "source": [
        "weights.shape"
      ]
    },
    {
      "cell_type": "code",
      "execution_count": 222,
      "metadata": {
        "id": "gJbN5LasNn7b"
      },
      "outputs": [],
      "source": [
        "majority_weights = weights[labels.flatten() == majority_label]\n",
        "minority_weights = weights[labels.flatten() == minority_label]"
      ]
    },
    {
      "cell_type": "code",
      "execution_count": 223,
      "metadata": {
        "colab": {
          "base_uri": "https://localhost:8080/"
        },
        "id": "F3XaQWfoTwf1",
        "outputId": "8c711b5f-431e-4d33-c6f4-bc32a314fa14"
      },
      "outputs": [
        {
          "output_type": "execute_result",
          "data": {
            "text/plain": [
              "array([0.        , 0.        , 0.57102648, 0.12417353, 0.54319856,\n",
              "       0.99996586, 0.        , 0.44759984, 0.        , 0.50764853,\n",
              "       0.15528144, 0.99997138, 0.99997138, 0.51860421, 0.39322704,\n",
              "       0.398695  , 0.51387521, 0.20710683, 0.99997846, 0.11755716,\n",
              "       0.18387879, 0.3345176 , 0.52335907, 0.8220282 , 0.12237986,\n",
              "       0.13304315, 0.99999535, 0.99999535, 0.20835625, 0.18469917,\n",
              "       0.38918181, 0.81293854, 0.99998086, 1.        , 0.40350357,\n",
              "       0.20188401, 0.41523949, 0.        , 0.39779041, 0.64042073,\n",
              "       0.        , 0.41523949, 0.43052398, 0.53902451, 0.82652233,\n",
              "       0.82201316, 0.45567319, 0.81066124, 0.38157007, 0.64941895,\n",
              "       0.54489507, 0.43346403, 0.25890901, 0.20933658, 0.62505379,\n",
              "       0.        , 0.34101377, 0.83978555, 0.25052796, 0.13368864,\n",
              "       0.24264032, 0.        , 0.63808689, 0.        , 0.56373159,\n",
              "       0.        , 0.99997293, 0.197932  , 0.33466314, 0.60327036,\n",
              "       0.999975  , 0.61882992, 0.45176892, 0.        , 0.45767798,\n",
              "       0.29460089, 0.22038848, 0.        , 0.        , 0.15335781,\n",
              "       0.22161144])"
            ]
          },
          "metadata": {},
          "execution_count": 223
        }
      ],
      "source": [
        "minority_weights"
      ]
    },
    {
      "cell_type": "code",
      "execution_count": 224,
      "metadata": {
        "colab": {
          "base_uri": "https://localhost:8080/"
        },
        "id": "ek2B8T98T3cg",
        "outputId": "ce78cf6e-9c84-4e67-9b76-44eb64a67dc5"
      },
      "outputs": [
        {
          "output_type": "execute_result",
          "data": {
            "text/plain": [
              "array([1.00000000e+00, 1.00000000e+00, 1.00000000e+00, 8.12723655e-01,\n",
              "       8.62329051e-01, 8.64036053e-01, 7.69204017e-01, 3.76384181e-01,\n",
              "       7.81111355e-01, 8.21141139e-01, 6.29536107e-01, 7.35488336e-01,\n",
              "       7.90524647e-01, 1.00000000e+00, 1.00000000e+00, 6.36309746e-01,\n",
              "       1.00000000e+00, 1.00000000e+00, 1.00000000e+00, 1.00000000e+00,\n",
              "       1.00000000e+00, 1.00000000e+00, 1.00000000e+00, 1.00000000e+00,\n",
              "       1.00000000e+00, 1.00000000e+00, 1.00000000e+00, 6.57272614e-01,\n",
              "       7.75735964e-01, 1.00000000e+00, 1.00000000e+00, 8.19071970e-01,\n",
              "       5.01309575e-01, 1.00000000e+00, 1.00000000e+00, 1.00000000e+00,\n",
              "       1.00000000e+00, 1.00000000e+00, 6.56853762e-01, 8.31925330e-01,\n",
              "       7.19368350e-01, 7.49472038e-01, 3.41406700e-05, 6.42603865e-01,\n",
              "       9.99990000e-01, 9.99990000e-01, 7.26351833e-01, 6.07921543e-01,\n",
              "       5.16369025e-01, 7.96494733e-01, 1.34427196e-01, 8.39811061e-01,\n",
              "       4.25809109e-01, 8.01070514e-01, 8.63189477e-01, 1.00000000e+00,\n",
              "       7.87555342e-01, 8.74678233e-01, 5.00000625e-01, 6.17908621e-01,\n",
              "       1.00000000e+00, 6.17206073e-01, 1.00000000e+00, 5.82313328e-01,\n",
              "       1.00000000e+00, 5.55555802e-01, 2.15153943e-01, 4.61294966e-01,\n",
              "       6.40894173e-01, 2.15424174e-05, 7.22341075e-01, 5.62814414e-01,\n",
              "       7.86284773e-01, 6.77579888e-01, 3.28710906e-01, 6.24999844e-01,\n",
              "       8.41486936e-01, 7.42355677e-01, 6.15835762e-01, 3.18046332e-01,\n",
              "       3.49531518e-01, 6.33162829e-01, 8.37744526e-01, 3.43146095e-01,\n",
              "       8.22849461e-01, 1.00000000e+00, 7.73459293e-01, 8.66956851e-01,\n",
              "       1.00000000e+00, 8.28426881e-01, 1.00000000e+00, 1.00000000e+00,\n",
              "       1.00000000e+00, 1.00000000e+00, 1.00000000e+00, 1.00000000e+00,\n",
              "       5.84760515e-01, 8.62855543e-01, 7.78937417e-01, 1.00000000e+00,\n",
              "       1.91415089e-05, 7.55186976e-01, 8.69949452e-01, 6.24184399e-01,\n",
              "       6.37333973e-01, 8.15300827e-01, 1.00000000e+00, 1.00000000e+00,\n",
              "       3.33333738e-01, 8.47056199e-01, 3.27961590e-01, 5.34845877e-01,\n",
              "       1.00000000e+00, 8.56797348e-01, 8.34643949e-01, 8.10511807e-01,\n",
              "       1.00000000e+00, 8.12387023e-01, 8.42024938e-01, 6.30601655e-01,\n",
              "       1.00000000e+00, 1.00000000e+00, 3.86759360e-01, 5.89473542e-01,\n",
              "       8.10650488e-01, 3.30418486e-01, 1.00000000e+00, 1.27452944e-01,\n",
              "       2.88646566e-01, 1.00000000e+00, 1.00000000e+00, 1.00000000e+00,\n",
              "       1.00000000e+00, 1.00000000e+00, 4.40703730e-01, 1.00000000e+00,\n",
              "       5.89398900e-01, 3.96930814e-01, 1.00000000e+00, 1.00000000e+00,\n",
              "       7.11963718e-01, 1.00000000e+00, 1.00000000e+00, 1.00000000e+00,\n",
              "       3.34116910e-01, 1.00000000e+00, 1.00000000e+00, 1.00000000e+00,\n",
              "       8.31925330e-01, 9.99990000e-01, 9.99990000e-01, 1.00000000e+00,\n",
              "       1.00000000e+00, 8.29605420e-01, 1.00000000e+00, 8.69489694e-01,\n",
              "       1.00000000e+00, 1.00000000e+00, 1.00000000e+00, 1.00000000e+00,\n",
              "       1.00000000e+00, 6.91441297e-01, 6.16784645e-01, 8.31925330e-01,\n",
              "       8.25158816e-01, 6.73443106e-01, 1.00000000e+00, 6.12092998e-01,\n",
              "       4.71787081e-01, 6.13270354e-01, 9.99996465e-01, 9.99996465e-01,\n",
              "       5.32852792e-01, 8.27340946e-01, 6.23527784e-01, 9.99996465e-01,\n",
              "       6.04012807e-01, 9.99992929e-01, 9.99992929e-01, 1.00000000e+00,\n",
              "       8.09256235e-01, 8.92349280e-01, 1.00000000e+00, 1.00000000e+00,\n",
              "       8.85165269e-01, 4.49528461e-01, 4.95209394e-01, 5.71428776e-01,\n",
              "       2.85778494e-01, 1.00000000e+00, 8.18379359e-01, 1.00000000e+00,\n",
              "       2.70698143e-05, 1.00000000e+00, 1.00000000e+00, 6.02015368e-01,\n",
              "       1.00000000e+00, 1.00000000e+00, 2.49989000e-05, 5.72321499e-01,\n",
              "       1.00000000e+00, 1.00000000e+00, 1.00000000e+00, 4.11346351e-01,\n",
              "       1.00000000e+00, 1.00000000e+00, 1.00000000e+00, 7.46672362e-01,\n",
              "       1.00000000e+00, 1.00000000e+00, 1.41977090e-01, 1.00000000e+00,\n",
              "       1.00000000e+00, 3.19284042e-01, 7.53315971e-01, 1.00000000e+00,\n",
              "       3.60158485e-01, 6.23760026e-01, 8.01042044e-01, 7.30612860e-01,\n",
              "       1.00000000e+00, 6.90177514e-01, 6.94306131e-01, 5.83598293e-01,\n",
              "       4.80862496e-01])"
            ]
          },
          "metadata": {},
          "execution_count": 224
        }
      ],
      "source": [
        "majority_weights"
      ]
    },
    {
      "cell_type": "code",
      "execution_count": 225,
      "metadata": {
        "colab": {
          "base_uri": "https://localhost:8080/"
        },
        "id": "1ey9OVY0SUDy",
        "outputId": "320535e3-bc00-4366-d7a2-464eb4ff0a5a"
      },
      "outputs": [
        {
          "output_type": "stream",
          "name": "stdout",
          "text": [
            "Minority Class Complexity: 0.4227\n",
            "Majority Class Complexity: 0.7805\n"
          ]
        }
      ],
      "source": [
        "minority_complexity = sum(minority_weights)/len(minority_weights)\n",
        "majority_complexity = sum(majority_weights)/len(majority_weights)\n",
        "print(f\"Minority Class Complexity: {minority_complexity:.4f}\")\n",
        "print(f\"Majority Class Complexity: {majority_complexity:.4f}\")"
      ]
    },
    {
      "cell_type": "code",
      "execution_count": 226,
      "metadata": {
        "colab": {
          "base_uri": "https://localhost:8080/"
        },
        "id": "EFm1vzKgR2t4",
        "outputId": "108ba076-c436-44aa-f1f1-79f6263f1d4f"
      },
      "outputs": [
        {
          "output_type": "stream",
          "name": "stdout",
          "text": [
            "Data Shape: (306, 4)\n",
            "Labels Shape: (306, 1)\n",
            "Weights Shape: (306,)\n",
            "Majority weights shape:  (225,)\n",
            "Majority weights shape:  (81,)\n",
            "Adjusted Labels Shape: (306, 1)\n",
            "Minority class shape:  (81, 3)\n",
            "Majority class shape:  (225, 3)\n"
          ]
        }
      ],
      "source": [
        "print(\"Data Shape:\", data.shape)\n",
        "print(\"Labels Shape:\", labels.shape)\n",
        "print(\"Weights Shape:\", weights.shape)\n",
        "print(\"Majority weights shape: \", majority_weights.shape)\n",
        "print(\"Majority weights shape: \", minority_weights.shape)\n",
        "print(\"Adjusted Labels Shape:\", labels.shape)\n",
        "print(\"Minority class shape: \", minority_class.shape)\n",
        "print(\"Majority class shape: \", majority_class.shape)"
      ]
    },
    {
      "cell_type": "code",
      "source": [
        "# Setting random seeds for reproducibility\n",
        "random_seed = 42\n",
        "np.random.seed(random_seed)\n",
        "torch.manual_seed(random_seed)\n",
        "random.seed(random_seed)\n",
        "\n",
        "# For CUDA\n",
        "if torch.cuda.is_available():\n",
        "    torch.cuda.manual_seed_all(random_seed)\n"
      ],
      "metadata": {
        "id": "NjwOQWYfPOqJ"
      },
      "execution_count": 227,
      "outputs": []
    },
    {
      "cell_type": "code",
      "source": [
        "# Define the MLP model class\n",
        "class MLP(nn.Module):\n",
        "    def __init__(self, input_size, output_size, device):\n",
        "        super(MLP, self).__init__()\n",
        "        h = 2 * (input_size + output_size) // 3\n",
        "        self.device = device\n",
        "        self.hidden = nn.Linear(input_size, h).to(device)\n",
        "        self.output = nn.Linear(h, output_size).to(device)\n",
        "\n",
        "    def forward(self, x):\n",
        "        x = F.relu(self.hidden(x))\n",
        "        x = self.output(x)\n",
        "        return x"
      ],
      "metadata": {
        "id": "6vuRGwZy8UaT"
      },
      "execution_count": 228,
      "outputs": []
    },
    {
      "cell_type": "code",
      "source": [
        "# Function to load data into DataLoaders\n",
        "def load_data(features, labels, batch_size):\n",
        "    dataset = TensorDataset(torch.tensor(features, dtype=torch.float32), torch.tensor(labels, dtype=torch.int64))\n",
        "    loader = DataLoader(dataset, batch_size=batch_size, shuffle=True)\n",
        "    return loader"
      ],
      "metadata": {
        "id": "-Z6BbImR8XE7"
      },
      "execution_count": 229,
      "outputs": []
    },
    {
      "cell_type": "code",
      "source": [
        "# Function to train the model\n",
        "def train_model(model, train_loader, criterion, optimizer, device, num_epochs):\n",
        "    best_recall_score = float('-inf')\n",
        "    best_model_path = \"best_fitnes.pth\"\n",
        "\n",
        "    for epoch in range(num_epochs):\n",
        "        model.train()\n",
        "        for inputs, labels in train_loader:\n",
        "            inputs, labels = inputs.to(device), labels.to(device)\n",
        "            optimizer.zero_grad()\n",
        "            outputs = model(inputs)\n",
        "            loss = criterion(outputs, labels)\n",
        "            loss.backward()\n",
        "            optimizer.step()\n",
        "\n",
        "        # Evaluate on the training set for early stopping (optional)\n",
        "        all_predictions, all_labels = [], []\n",
        "        with torch.no_grad():\n",
        "            for inputs, labels in train_loader:\n",
        "                inputs, labels = inputs.to(device), labels.to(device)\n",
        "                outputs = model(inputs)\n",
        "                _, predicted = torch.max(outputs.data, 1)\n",
        "                all_predictions.extend(predicted.cpu().numpy())\n",
        "                all_labels.extend(labels.cpu().numpy())\n",
        "        fold_recall = recall_score(all_labels, all_predictions)\n",
        "        if fold_recall > best_recall_score:\n",
        "            best_recall_score = fold_recall\n",
        "            torch.save(model.state_dict(), best_model_path)\n",
        "\n",
        "    model.load_state_dict(torch.load(best_model_path))\n",
        "    model.to(device).eval()\n",
        "    return model\n"
      ],
      "metadata": {
        "id": "okdPgm-y8Z09"
      },
      "execution_count": 230,
      "outputs": []
    },
    {
      "cell_type": "code",
      "source": [
        "# Function to evaluate the model\n",
        "def evaluate_model(model, test_loader, criterion, device):\n",
        "    test_loss = 0\n",
        "    all_labels, all_predictions, all_probabilities = [], [], []\n",
        "\n",
        "    model.eval()\n",
        "    with torch.no_grad():\n",
        "        for inputs, labels in test_loader:\n",
        "            inputs, labels = inputs.to(device), labels.to(device)\n",
        "            outputs = model(inputs)\n",
        "            loss = criterion(outputs, labels)\n",
        "            test_loss += loss.item() * inputs.size(0)\n",
        "            probabilities = torch.softmax(outputs, dim=1)\n",
        "            _, predicted = torch.max(outputs, 1)\n",
        "            all_labels.extend(labels.cpu().numpy())\n",
        "            all_predictions.extend(predicted.cpu().numpy())\n",
        "            all_probabilities.extend(probabilities[:, 1].cpu().numpy())  # Assuming binary classification\n",
        "\n",
        "    test_loss /= len(test_loader.dataset)\n",
        "    accuracy = accuracy_score(all_labels, all_predictions)\n",
        "    recall = recall_score(all_labels, all_predictions)\n",
        "    f1 = f1_score(all_labels, all_predictions)\n",
        "    gmean = geometric_mean_score(all_labels, all_predictions)\n",
        "    auc_roc = roc_auc_score(all_labels, all_probabilities)\n",
        "\n",
        "    print(f'Test Loss: {test_loss:.4f},'\n",
        "          f' Accuracy: {accuracy:.4f},'\n",
        "          f' Recall: {recall:.4f},'\n",
        "          f' F1 Score: {f1:.4f},'\n",
        "          f' G-Mean: {gmean:.4f},'\n",
        "          f' ROC AUC: {auc_roc:.4f}')\n",
        "\n",
        "    return auc_roc, recall, gmean, f1"
      ],
      "metadata": {
        "id": "_XeVZjxg8j3r"
      },
      "execution_count": 231,
      "outputs": []
    },
    {
      "cell_type": "code",
      "source": [
        "# Define GA and related functions\n",
        "def initialize_population(valid_indices, population_size, individual_size):\n",
        "    return [np.random.choice(valid_indices, size=individual_size, replace=False) for _ in range(population_size)]\n",
        "\n",
        "def concatenate_samples(B, A, SetA):\n",
        "    P = np.atleast_2d(B)\n",
        "    N = np.atleast_2d(A)\n",
        "    SetA = np.atleast_2d(SetA)\n",
        "    P_cartesian = np.array([np.concatenate([p1, p2]) for p1 in P for p2 in B])\n",
        "    N_cartesian = np.array([np.concatenate([n, sn]) for n in N for sn in SetA])\n",
        "    return P_cartesian, N_cartesian\n",
        "\n",
        "def calculate_weights(data, labels, k=5):\n",
        "    labels = np.array(labels).flatten()\n",
        "    nbrs = NearestNeighbors(n_neighbors=k+1, algorithm='ball_tree').fit(data)\n",
        "    distances, indices = nbrs.kneighbors(data)\n",
        "    weights = np.zeros(data.shape[0])\n",
        "    for i in range(data.shape[0]):\n",
        "        distances_i = distances[i, 1:]\n",
        "        indices_i = indices[i, 1:]\n",
        "        inverse_distances = 1 / (distances_i + 1e-5)\n",
        "        same_class_mask = (labels[indices_i] == labels[i])\n",
        "        different_class_mask = ~same_class_mask\n",
        "        same_class_weights = inverse_distances * same_class_mask\n",
        "        different_class_weights = inverse_distances * different_class_mask\n",
        "        total_same_class_weight = np.sum(same_class_weights)\n",
        "        total_different_class_weight = np.sum(different_class_weights)\n",
        "        total_weight = total_same_class_weight + total_different_class_weight\n",
        "        if total_weight > 0:\n",
        "            complexity_score = total_same_class_weight / total_weight\n",
        "        else:\n",
        "            complexity_score = 0\n",
        "        weights[i] = complexity_score\n",
        "    return weights\n",
        "\n",
        "def calculate_class_complexity(B_cartesian, A_cartesian, weights):\n",
        "    if len(B_cartesian) > 0:\n",
        "        minority_weights_new = weights[:len(B_cartesian)]\n",
        "        minority_complexity = np.mean(minority_weights_new) if len(minority_weights_new) > 0 else 0\n",
        "    else:\n",
        "        minority_complexity = 0\n",
        "    if len(A_cartesian) > 0:\n",
        "        majority_weights_new = weights[len(A_cartesian):]\n",
        "        majority_complexity = np.mean(majority_weights_new) if len(majority_weights_new) > 0 else 0\n",
        "    else:\n",
        "        majority_complexity = 0\n",
        "    return minority_complexity, majority_complexity\n",
        "\n",
        "def calculate_fitness(individual, features, minority_class, majority_class, k=5):\n",
        "    best_samples = features[individual]\n",
        "    B_cartesian, A_cartesian = concatenate_samples(minority_class, majority_class, best_samples)\n",
        "    new_data = np.vstack((B_cartesian, A_cartesian))\n",
        "    new_labels = np.concatenate([np.zeros(len(B_cartesian)), np.ones(len(A_cartesian))])\n",
        "    new_weights = calculate_weights(new_data, new_labels, k=k)\n",
        "    minority_complexity, majority_complexity = calculate_class_complexity(B_cartesian, A_cartesian, new_weights)\n",
        "    fitness_score = minority_complexity + majority_complexity\n",
        "    return fitness_score, minority_complexity, majority_complexity\n",
        "\n",
        "def select_parents(population, fitnesses, num_parents):\n",
        "    parents = []\n",
        "    for _ in range(num_parents):\n",
        "        participants = np.random.choice(len(population), size=3, replace=False)\n",
        "        best = participants[np.argmax(fitnesses[participants])]\n",
        "        parents.append(population[best])\n",
        "    return parents\n",
        "\n",
        "def crossover(parent1, parent2):\n",
        "    crossover_point = np.random.randint(1, len(parent1))\n",
        "    child1 = np.concatenate([parent1[:crossover_point], parent2[crossover_point:]])\n",
        "    child2 = np.concatenate([parent2[:crossover_point], parent1[crossover_point:]])\n",
        "    return child1, child2\n",
        "\n",
        "def mutate(individual, mutation_rate, valid_indices):\n",
        "    for i in range(len(individual)):\n",
        "        if np.random.rand() < mutation_rate:\n",
        "            individual[i] = np.random.choice(valid_indices)\n",
        "    return individual\n",
        "\n",
        "def genetic_algorithm(features, population_size, individual_size, generations, initial_mutation_rate, optimal_fitness, minority_class, majority_class, k=5):\n",
        "    valid_indices = np.arange(features.shape[0])\n",
        "    population = initialize_population(valid_indices, population_size, individual_size)\n",
        "    best_overall_fitness = -np.inf\n",
        "    best_overall_individual = None\n",
        "    best_minority_complexity = 0\n",
        "    best_majority_complexity = 0\n",
        "    for generation in range(generations):\n",
        "        fitness_results = [calculate_fitness(ind, features, minority_class, majority_class, k=k) for ind in population]\n",
        "        fitnesses = [result[0] for result in fitness_results]\n",
        "        minority_complexities = [result[1] for result in fitness_results]\n",
        "        majority_complexities = [result[2] for result in fitness_results]\n",
        "        fitnesses = np.nan_to_num(fitnesses, nan=0.0)\n",
        "        best_index = np.argmax(fitnesses)\n",
        "        if fitnesses[best_index] > best_overall_fitness:\n",
        "            best_overall_fitness = fitnesses[best_index]\n",
        "            best_overall_individual = population[best_index]\n",
        "            best_minority_complexity = minority_complexities[best_index]\n",
        "            best_majority_complexity = majority_complexities[best_index]\n",
        "        if best_overall_fitness >= optimal_fitness:\n",
        "            break\n",
        "        mutation_rate = initial_mutation_rate * (1 - generation / generations)\n",
        "        parents = select_parents(population, fitnesses, len(population) - 1)\n",
        "        next_population = [best_overall_individual]\n",
        "        for i in range(0, len(parents), 2):\n",
        "            if i + 1 < len(parents):\n",
        "                child1, child2 = crossover(parents[i], parents[i + 1])\n",
        "                child1 = mutate(child1, mutation_rate, valid_indices)\n",
        "                child2 = mutate(child2, mutation_rate, valid_indices)\n",
        "                next_population.extend([child1, child2])\n",
        "        population = next_population[:population_size]\n",
        "        print(f\"Generation {generation + 1}, Best Fitness: {best_overall_fitness:.4f}, Minority Complexity: {best_minority_complexity:.4f}, Majority Complexity: {best_majority_complexity:.4f}\")\n",
        "    best_samples = features[best_overall_individual]\n",
        "    best_fitness = calculate_fitness(best_overall_individual, features, minority_class, majority_class, k=k)[0]\n",
        "    return best_samples, best_fitness\n",
        "\n",
        "def concatenate_with_itself(data):\n",
        "    \"\"\"Concatenate each sample with itself.\"\"\"\n",
        "    return np.hstack([data, data])"
      ],
      "metadata": {
        "id": "J7hAefSg8rq2"
      },
      "execution_count": 232,
      "outputs": []
    },
    {
      "cell_type": "code",
      "source": [
        "def main(data_path, config):\n",
        "    device = torch.device(\"cuda\" if torch.cuda.is_available() else \"cpu\")\n",
        "    criterion = nn.CrossEntropyLoss()\n",
        "    data = pd.read_csv(data_path)\n",
        "    train_data, test_data = train_test_split(data, test_size=0.2, random_state=42, stratify=data['label'])\n",
        "    train_features = train_data.drop('label', axis=1).values\n",
        "    train_labels = train_data['label'].values\n",
        "    test_features = test_data.drop('label', axis=1).values\n",
        "    test_labels = test_data['label'].values\n",
        "    X_train, X_test, y_train, y_test = train_test_split(train_features, train_labels, test_size=0.2, random_state=42, stratify=train_labels)\n",
        "    minority_class_train = X_train[y_train == 1]\n",
        "    majority_class_train = X_train[y_train == 0]\n",
        "    best_samples, _ = genetic_algorithm(\n",
        "        majority_class_train, config['population_size'], config['individual_size'], config['generations'],\n",
        "        config['initial_mutation_rate'], config['optimal_fitness'], minority_class_train, majority_class_train\n",
        "    )\n",
        "    X_train_majority_selected = np.array([np.concatenate([x, y]) for x in best_samples for y in best_samples])\n",
        "    X_train_minority_selected = concatenate_with_itself(minority_class_train)\n",
        "    X_train_selected = np.vstack((X_train_minority_selected, X_train_majority_selected))\n",
        "    y_train_selected = np.hstack((np.ones(len(X_train_minority_selected)), np.zeros(len(X_train_majority_selected))))\n",
        "    X_test_majority = X_test[y_test == 0]\n",
        "    X_test_minority = X_test[y_test == 1]\n",
        "    X_test_majority_concatenated = np.array([np.concatenate([x, y]) for x in X_test_majority for y in X_test_majority])\n",
        "    X_test_minority_concatenated = np.array([np.concatenate([x, y]) for x in X_test_minority for y in X_test_minority])\n",
        "    X_test_concatenated = np.vstack((X_test_minority_concatenated, X_test_majority_concatenated))\n",
        "    y_test_concatenated = np.hstack((np.ones(len(X_test_minority_concatenated)), np.zeros(len(X_test_majority_concatenated))))\n",
        "    train_dataset = TensorDataset(torch.tensor(X_train_selected, dtype=torch.float32), torch.tensor(y_train_selected, dtype=torch.int64))\n",
        "    test_dataset = TensorDataset(torch.tensor(X_test_concatenated, dtype=torch.float32), torch.tensor(y_test_concatenated, dtype=torch.int64))\n",
        "    train_loader = DataLoader(train_dataset, batch_size=config['batch_size'], shuffle=True)\n",
        "    test_loader = DataLoader(test_dataset, batch_size=config['batch_size'], shuffle=False)\n",
        "    print(f\"X_train_selected shape: {X_train_selected.shape}\")\n",
        "    print(f\"y_train_selected shape: {y_train_selected.shape}\")\n",
        "    print(f\"X_test_concatenated shape: {X_test_concatenated.shape}\")\n",
        "    print(f\"y_test_concatenated shape: {y_test_concatenated.shape}\")\n",
        "    model = MLP(X_train_selected.shape[1], 2, device)\n",
        "    optimizer = torch.optim.Adam(model.parameters(), lr=config['learning_rate'])\n",
        "    model = train_model(model, train_loader, criterion, optimizer, device, config['num_epochs'])\n",
        "    auc_roc, recall, gmean, f1 = evaluate_model(model, test_loader, criterion, device)\n",
        "    return auc_roc, recall, gmean, f1\n",
        "\n",
        "config = {\n",
        "    'population_size': 10,\n",
        "    'individual_size': calculated_sample_size,\n",
        "    'generations': 500,\n",
        "    'initial_mutation_rate': 0.01,\n",
        "    'optimal_fitness': 2 * 0.999,\n",
        "    'k_folds': 5,\n",
        "    'batch_size': 32,\n",
        "    'num_epochs': 50,\n",
        "    'learning_rate': 0.001,\n",
        "    'random_seed': 42\n",
        "}\n",
        "\n",
        "auc_roc, recall, gmean, f1 = main(data_path, config)\n",
        "print(f\"AUC: {auc_roc:.4f}, Recall: {recall:.4f}, G-mean: {gmean:.4f}, F1 Score: {f1:.4f}\")\n"
      ],
      "metadata": {
        "colab": {
          "base_uri": "https://localhost:8080/"
        },
        "id": "ePo83BxDK2DV",
        "outputId": "56ebf7c6-5117-4f6b-caae-4a036627fa6f"
      },
      "execution_count": 233,
      "outputs": [
        {
          "output_type": "stream",
          "name": "stdout",
          "text": [
            "Generation 1, Best Fitness: 1.8388, Minority Complexity: 0.8547, Majority Complexity: 0.9841\n",
            "Generation 2, Best Fitness: 1.8557, Minority Complexity: 0.8660, Majority Complexity: 0.9896\n",
            "Generation 3, Best Fitness: 1.8579, Minority Complexity: 0.8686, Majority Complexity: 0.9893\n",
            "Generation 4, Best Fitness: 1.8666, Minority Complexity: 0.8762, Majority Complexity: 0.9904\n",
            "Generation 5, Best Fitness: 1.8666, Minority Complexity: 0.8762, Majority Complexity: 0.9904\n",
            "Generation 6, Best Fitness: 1.8668, Minority Complexity: 0.8765, Majority Complexity: 0.9904\n",
            "Generation 7, Best Fitness: 1.8701, Minority Complexity: 0.8792, Majority Complexity: 0.9909\n",
            "Generation 8, Best Fitness: 1.8701, Minority Complexity: 0.8792, Majority Complexity: 0.9909\n",
            "Generation 9, Best Fitness: 1.8701, Minority Complexity: 0.8792, Majority Complexity: 0.9909\n",
            "Generation 10, Best Fitness: 1.8701, Minority Complexity: 0.8799, Majority Complexity: 0.9903\n",
            "Generation 11, Best Fitness: 1.8708, Minority Complexity: 0.8799, Majority Complexity: 0.9909\n",
            "Generation 12, Best Fitness: 1.8745, Minority Complexity: 0.8826, Majority Complexity: 0.9919\n",
            "Generation 13, Best Fitness: 1.8745, Minority Complexity: 0.8826, Majority Complexity: 0.9919\n",
            "Generation 14, Best Fitness: 1.8745, Minority Complexity: 0.8826, Majority Complexity: 0.9919\n",
            "Generation 15, Best Fitness: 1.8745, Minority Complexity: 0.8826, Majority Complexity: 0.9919\n",
            "Generation 16, Best Fitness: 1.8790, Minority Complexity: 0.8871, Majority Complexity: 0.9919\n",
            "Generation 17, Best Fitness: 1.8797, Minority Complexity: 0.8881, Majority Complexity: 0.9916\n",
            "Generation 18, Best Fitness: 1.8797, Minority Complexity: 0.8881, Majority Complexity: 0.9916\n",
            "Generation 19, Best Fitness: 1.8859, Minority Complexity: 0.8936, Majority Complexity: 0.9923\n",
            "Generation 20, Best Fitness: 1.8859, Minority Complexity: 0.8936, Majority Complexity: 0.9923\n",
            "Generation 21, Best Fitness: 1.8859, Minority Complexity: 0.8936, Majority Complexity: 0.9923\n",
            "Generation 22, Best Fitness: 1.8859, Minority Complexity: 0.8938, Majority Complexity: 0.9921\n",
            "Generation 23, Best Fitness: 1.8860, Minority Complexity: 0.8934, Majority Complexity: 0.9927\n",
            "Generation 24, Best Fitness: 1.8875, Minority Complexity: 0.8952, Majority Complexity: 0.9924\n",
            "Generation 25, Best Fitness: 1.8883, Minority Complexity: 0.8981, Majority Complexity: 0.9901\n",
            "Generation 26, Best Fitness: 1.8903, Minority Complexity: 0.9004, Majority Complexity: 0.9899\n",
            "Generation 27, Best Fitness: 1.8903, Minority Complexity: 0.9003, Majority Complexity: 0.9900\n",
            "Generation 28, Best Fitness: 1.8903, Minority Complexity: 0.9003, Majority Complexity: 0.9900\n",
            "Generation 29, Best Fitness: 1.8927, Minority Complexity: 0.9027, Majority Complexity: 0.9900\n",
            "Generation 30, Best Fitness: 1.9030, Minority Complexity: 0.9109, Majority Complexity: 0.9920\n",
            "Generation 31, Best Fitness: 1.9030, Minority Complexity: 0.9109, Majority Complexity: 0.9920\n",
            "Generation 32, Best Fitness: 1.9030, Minority Complexity: 0.9109, Majority Complexity: 0.9920\n",
            "Generation 33, Best Fitness: 1.9058, Minority Complexity: 0.9123, Majority Complexity: 0.9935\n",
            "Generation 34, Best Fitness: 1.9062, Minority Complexity: 0.9129, Majority Complexity: 0.9933\n",
            "Generation 35, Best Fitness: 1.9086, Minority Complexity: 0.9151, Majority Complexity: 0.9935\n",
            "Generation 36, Best Fitness: 1.9086, Minority Complexity: 0.9151, Majority Complexity: 0.9935\n",
            "Generation 37, Best Fitness: 1.9087, Minority Complexity: 0.9154, Majority Complexity: 0.9933\n",
            "Generation 38, Best Fitness: 1.9093, Minority Complexity: 0.9151, Majority Complexity: 0.9942\n",
            "Generation 39, Best Fitness: 1.9093, Minority Complexity: 0.9151, Majority Complexity: 0.9942\n",
            "Generation 40, Best Fitness: 1.9093, Minority Complexity: 0.9151, Majority Complexity: 0.9942\n",
            "Generation 41, Best Fitness: 1.9093, Minority Complexity: 0.9151, Majority Complexity: 0.9942\n",
            "Generation 42, Best Fitness: 1.9093, Minority Complexity: 0.9151, Majority Complexity: 0.9942\n",
            "Generation 43, Best Fitness: 1.9124, Minority Complexity: 0.9183, Majority Complexity: 0.9941\n",
            "Generation 44, Best Fitness: 1.9124, Minority Complexity: 0.9183, Majority Complexity: 0.9941\n",
            "Generation 45, Best Fitness: 1.9140, Minority Complexity: 0.9205, Majority Complexity: 0.9935\n",
            "Generation 46, Best Fitness: 1.9140, Minority Complexity: 0.9205, Majority Complexity: 0.9935\n",
            "Generation 47, Best Fitness: 1.9140, Minority Complexity: 0.9205, Majority Complexity: 0.9935\n",
            "Generation 48, Best Fitness: 1.9160, Minority Complexity: 0.9221, Majority Complexity: 0.9939\n",
            "Generation 49, Best Fitness: 1.9160, Minority Complexity: 0.9221, Majority Complexity: 0.9939\n",
            "Generation 50, Best Fitness: 1.9160, Minority Complexity: 0.9221, Majority Complexity: 0.9939\n",
            "Generation 51, Best Fitness: 1.9160, Minority Complexity: 0.9221, Majority Complexity: 0.9939\n",
            "Generation 52, Best Fitness: 1.9166, Minority Complexity: 0.9225, Majority Complexity: 0.9941\n",
            "Generation 53, Best Fitness: 1.9166, Minority Complexity: 0.9225, Majority Complexity: 0.9941\n",
            "Generation 54, Best Fitness: 1.9177, Minority Complexity: 0.9238, Majority Complexity: 0.9939\n",
            "Generation 55, Best Fitness: 1.9180, Minority Complexity: 0.9237, Majority Complexity: 0.9943\n",
            "Generation 56, Best Fitness: 1.9180, Minority Complexity: 0.9237, Majority Complexity: 0.9943\n",
            "Generation 57, Best Fitness: 1.9180, Minority Complexity: 0.9237, Majority Complexity: 0.9943\n",
            "Generation 58, Best Fitness: 1.9180, Minority Complexity: 0.9237, Majority Complexity: 0.9943\n",
            "Generation 59, Best Fitness: 1.9210, Minority Complexity: 0.9257, Majority Complexity: 0.9953\n",
            "Generation 60, Best Fitness: 1.9210, Minority Complexity: 0.9257, Majority Complexity: 0.9953\n",
            "Generation 61, Best Fitness: 1.9210, Minority Complexity: 0.9257, Majority Complexity: 0.9953\n",
            "Generation 62, Best Fitness: 1.9214, Minority Complexity: 0.9252, Majority Complexity: 0.9962\n",
            "Generation 63, Best Fitness: 1.9214, Minority Complexity: 0.9252, Majority Complexity: 0.9962\n",
            "Generation 64, Best Fitness: 1.9237, Minority Complexity: 0.9270, Majority Complexity: 0.9968\n",
            "Generation 65, Best Fitness: 1.9237, Minority Complexity: 0.9270, Majority Complexity: 0.9968\n",
            "Generation 66, Best Fitness: 1.9237, Minority Complexity: 0.9270, Majority Complexity: 0.9968\n",
            "Generation 67, Best Fitness: 1.9237, Minority Complexity: 0.9270, Majority Complexity: 0.9968\n",
            "Generation 68, Best Fitness: 1.9237, Minority Complexity: 0.9270, Majority Complexity: 0.9968\n",
            "Generation 69, Best Fitness: 1.9237, Minority Complexity: 0.9270, Majority Complexity: 0.9968\n",
            "Generation 70, Best Fitness: 1.9277, Minority Complexity: 0.9309, Majority Complexity: 0.9968\n",
            "Generation 71, Best Fitness: 1.9277, Minority Complexity: 0.9309, Majority Complexity: 0.9968\n",
            "Generation 72, Best Fitness: 1.9278, Minority Complexity: 0.9307, Majority Complexity: 0.9970\n",
            "Generation 73, Best Fitness: 1.9278, Minority Complexity: 0.9308, Majority Complexity: 0.9970\n",
            "Generation 74, Best Fitness: 1.9278, Minority Complexity: 0.9308, Majority Complexity: 0.9970\n",
            "Generation 75, Best Fitness: 1.9278, Minority Complexity: 0.9308, Majority Complexity: 0.9970\n",
            "Generation 76, Best Fitness: 1.9279, Minority Complexity: 0.9310, Majority Complexity: 0.9968\n",
            "Generation 77, Best Fitness: 1.9279, Minority Complexity: 0.9310, Majority Complexity: 0.9968\n",
            "Generation 78, Best Fitness: 1.9279, Minority Complexity: 0.9310, Majority Complexity: 0.9968\n",
            "Generation 79, Best Fitness: 1.9279, Minority Complexity: 0.9310, Majority Complexity: 0.9968\n",
            "Generation 80, Best Fitness: 1.9279, Minority Complexity: 0.9310, Majority Complexity: 0.9968\n",
            "Generation 81, Best Fitness: 1.9279, Minority Complexity: 0.9310, Majority Complexity: 0.9968\n",
            "Generation 82, Best Fitness: 1.9279, Minority Complexity: 0.9310, Majority Complexity: 0.9968\n",
            "Generation 83, Best Fitness: 1.9279, Minority Complexity: 0.9310, Majority Complexity: 0.9968\n",
            "Generation 84, Best Fitness: 1.9279, Minority Complexity: 0.9310, Majority Complexity: 0.9968\n",
            "Generation 85, Best Fitness: 1.9279, Minority Complexity: 0.9310, Majority Complexity: 0.9968\n",
            "Generation 86, Best Fitness: 1.9279, Minority Complexity: 0.9310, Majority Complexity: 0.9968\n",
            "Generation 87, Best Fitness: 1.9279, Minority Complexity: 0.9310, Majority Complexity: 0.9968\n",
            "Generation 88, Best Fitness: 1.9343, Minority Complexity: 0.9364, Majority Complexity: 0.9979\n",
            "Generation 89, Best Fitness: 1.9343, Minority Complexity: 0.9364, Majority Complexity: 0.9979\n",
            "Generation 90, Best Fitness: 1.9343, Minority Complexity: 0.9364, Majority Complexity: 0.9979\n",
            "Generation 91, Best Fitness: 1.9343, Minority Complexity: 0.9364, Majority Complexity: 0.9979\n",
            "Generation 92, Best Fitness: 1.9343, Minority Complexity: 0.9364, Majority Complexity: 0.9979\n",
            "Generation 93, Best Fitness: 1.9343, Minority Complexity: 0.9364, Majority Complexity: 0.9979\n",
            "Generation 94, Best Fitness: 1.9343, Minority Complexity: 0.9364, Majority Complexity: 0.9979\n",
            "Generation 95, Best Fitness: 1.9346, Minority Complexity: 0.9368, Majority Complexity: 0.9979\n",
            "Generation 96, Best Fitness: 1.9346, Minority Complexity: 0.9368, Majority Complexity: 0.9979\n",
            "Generation 97, Best Fitness: 1.9374, Minority Complexity: 0.9396, Majority Complexity: 0.9978\n",
            "Generation 98, Best Fitness: 1.9374, Minority Complexity: 0.9396, Majority Complexity: 0.9978\n",
            "Generation 99, Best Fitness: 1.9374, Minority Complexity: 0.9396, Majority Complexity: 0.9978\n",
            "Generation 100, Best Fitness: 1.9452, Minority Complexity: 0.9457, Majority Complexity: 0.9995\n",
            "Generation 101, Best Fitness: 1.9459, Minority Complexity: 0.9464, Majority Complexity: 0.9995\n",
            "Generation 102, Best Fitness: 1.9459, Minority Complexity: 0.9464, Majority Complexity: 0.9995\n",
            "Generation 103, Best Fitness: 1.9459, Minority Complexity: 0.9464, Majority Complexity: 0.9995\n",
            "Generation 104, Best Fitness: 1.9459, Minority Complexity: 0.9464, Majority Complexity: 0.9995\n",
            "Generation 105, Best Fitness: 1.9459, Minority Complexity: 0.9464, Majority Complexity: 0.9995\n",
            "Generation 106, Best Fitness: 1.9459, Minority Complexity: 0.9464, Majority Complexity: 0.9995\n",
            "Generation 107, Best Fitness: 1.9459, Minority Complexity: 0.9464, Majority Complexity: 0.9995\n",
            "Generation 108, Best Fitness: 1.9465, Minority Complexity: 0.9467, Majority Complexity: 0.9998\n",
            "Generation 109, Best Fitness: 1.9467, Minority Complexity: 0.9468, Majority Complexity: 0.9998\n",
            "Generation 110, Best Fitness: 1.9467, Minority Complexity: 0.9468, Majority Complexity: 0.9998\n",
            "Generation 111, Best Fitness: 1.9479, Minority Complexity: 0.9485, Majority Complexity: 0.9995\n",
            "Generation 112, Best Fitness: 1.9479, Minority Complexity: 0.9485, Majority Complexity: 0.9995\n",
            "Generation 113, Best Fitness: 1.9479, Minority Complexity: 0.9485, Majority Complexity: 0.9995\n",
            "Generation 114, Best Fitness: 1.9481, Minority Complexity: 0.9487, Majority Complexity: 0.9994\n",
            "Generation 115, Best Fitness: 1.9481, Minority Complexity: 0.9487, Majority Complexity: 0.9994\n",
            "Generation 116, Best Fitness: 1.9481, Minority Complexity: 0.9487, Majority Complexity: 0.9994\n",
            "Generation 117, Best Fitness: 1.9481, Minority Complexity: 0.9487, Majority Complexity: 0.9994\n",
            "Generation 118, Best Fitness: 1.9481, Minority Complexity: 0.9487, Majority Complexity: 0.9994\n",
            "Generation 119, Best Fitness: 1.9481, Minority Complexity: 0.9487, Majority Complexity: 0.9994\n",
            "Generation 120, Best Fitness: 1.9507, Minority Complexity: 0.9514, Majority Complexity: 0.9993\n",
            "Generation 121, Best Fitness: 1.9509, Minority Complexity: 0.9514, Majority Complexity: 0.9995\n",
            "Generation 122, Best Fitness: 1.9510, Minority Complexity: 0.9516, Majority Complexity: 0.9994\n",
            "Generation 123, Best Fitness: 1.9511, Minority Complexity: 0.9516, Majority Complexity: 0.9995\n",
            "Generation 124, Best Fitness: 1.9511, Minority Complexity: 0.9516, Majority Complexity: 0.9995\n",
            "Generation 125, Best Fitness: 1.9511, Minority Complexity: 0.9516, Majority Complexity: 0.9995\n",
            "Generation 126, Best Fitness: 1.9511, Minority Complexity: 0.9516, Majority Complexity: 0.9995\n",
            "Generation 127, Best Fitness: 1.9511, Minority Complexity: 0.9516, Majority Complexity: 0.9995\n",
            "Generation 128, Best Fitness: 1.9511, Minority Complexity: 0.9516, Majority Complexity: 0.9995\n",
            "Generation 129, Best Fitness: 1.9525, Minority Complexity: 0.9529, Majority Complexity: 0.9996\n",
            "Generation 130, Best Fitness: 1.9525, Minority Complexity: 0.9529, Majority Complexity: 0.9996\n",
            "Generation 131, Best Fitness: 1.9525, Minority Complexity: 0.9529, Majority Complexity: 0.9996\n",
            "Generation 132, Best Fitness: 1.9525, Minority Complexity: 0.9529, Majority Complexity: 0.9996\n",
            "Generation 133, Best Fitness: 1.9525, Minority Complexity: 0.9529, Majority Complexity: 0.9996\n",
            "Generation 134, Best Fitness: 1.9545, Minority Complexity: 0.9549, Majority Complexity: 0.9996\n",
            "Generation 135, Best Fitness: 1.9545, Minority Complexity: 0.9549, Majority Complexity: 0.9996\n",
            "Generation 136, Best Fitness: 1.9545, Minority Complexity: 0.9549, Majority Complexity: 0.9996\n",
            "Generation 137, Best Fitness: 1.9545, Minority Complexity: 0.9549, Majority Complexity: 0.9996\n",
            "Generation 138, Best Fitness: 1.9546, Minority Complexity: 0.9549, Majority Complexity: 0.9996\n",
            "Generation 139, Best Fitness: 1.9546, Minority Complexity: 0.9551, Majority Complexity: 0.9996\n",
            "Generation 140, Best Fitness: 1.9546, Minority Complexity: 0.9551, Majority Complexity: 0.9996\n",
            "Generation 141, Best Fitness: 1.9549, Minority Complexity: 0.9553, Majority Complexity: 0.9996\n",
            "Generation 142, Best Fitness: 1.9549, Minority Complexity: 0.9553, Majority Complexity: 0.9996\n",
            "Generation 143, Best Fitness: 1.9549, Minority Complexity: 0.9553, Majority Complexity: 0.9996\n",
            "Generation 144, Best Fitness: 1.9549, Minority Complexity: 0.9553, Majority Complexity: 0.9996\n",
            "Generation 145, Best Fitness: 1.9550, Minority Complexity: 0.9555, Majority Complexity: 0.9995\n",
            "Generation 146, Best Fitness: 1.9551, Minority Complexity: 0.9557, Majority Complexity: 0.9995\n",
            "Generation 147, Best Fitness: 1.9551, Minority Complexity: 0.9557, Majority Complexity: 0.9995\n",
            "Generation 148, Best Fitness: 1.9551, Minority Complexity: 0.9557, Majority Complexity: 0.9995\n",
            "Generation 149, Best Fitness: 1.9560, Minority Complexity: 0.9565, Majority Complexity: 0.9995\n",
            "Generation 150, Best Fitness: 1.9560, Minority Complexity: 0.9565, Majority Complexity: 0.9995\n",
            "Generation 151, Best Fitness: 1.9560, Minority Complexity: 0.9565, Majority Complexity: 0.9995\n",
            "Generation 152, Best Fitness: 1.9560, Minority Complexity: 0.9565, Majority Complexity: 0.9995\n",
            "Generation 153, Best Fitness: 1.9560, Minority Complexity: 0.9565, Majority Complexity: 0.9995\n",
            "Generation 154, Best Fitness: 1.9564, Minority Complexity: 0.9569, Majority Complexity: 0.9995\n",
            "Generation 155, Best Fitness: 1.9564, Minority Complexity: 0.9569, Majority Complexity: 0.9995\n",
            "Generation 156, Best Fitness: 1.9564, Minority Complexity: 0.9569, Majority Complexity: 0.9995\n",
            "Generation 157, Best Fitness: 1.9564, Minority Complexity: 0.9569, Majority Complexity: 0.9995\n",
            "Generation 158, Best Fitness: 1.9564, Minority Complexity: 0.9569, Majority Complexity: 0.9995\n",
            "Generation 159, Best Fitness: 1.9564, Minority Complexity: 0.9569, Majority Complexity: 0.9995\n",
            "Generation 160, Best Fitness: 1.9565, Minority Complexity: 0.9569, Majority Complexity: 0.9996\n",
            "Generation 161, Best Fitness: 1.9565, Minority Complexity: 0.9569, Majority Complexity: 0.9996\n",
            "Generation 162, Best Fitness: 1.9565, Minority Complexity: 0.9569, Majority Complexity: 0.9996\n",
            "Generation 163, Best Fitness: 1.9565, Minority Complexity: 0.9569, Majority Complexity: 0.9996\n",
            "Generation 164, Best Fitness: 1.9565, Minority Complexity: 0.9569, Majority Complexity: 0.9996\n",
            "Generation 165, Best Fitness: 1.9565, Minority Complexity: 0.9569, Majority Complexity: 0.9996\n",
            "Generation 166, Best Fitness: 1.9567, Minority Complexity: 0.9571, Majority Complexity: 0.9997\n",
            "Generation 167, Best Fitness: 1.9567, Minority Complexity: 0.9571, Majority Complexity: 0.9997\n",
            "Generation 168, Best Fitness: 1.9571, Minority Complexity: 0.9575, Majority Complexity: 0.9996\n",
            "Generation 169, Best Fitness: 1.9571, Minority Complexity: 0.9575, Majority Complexity: 0.9996\n",
            "Generation 170, Best Fitness: 1.9571, Minority Complexity: 0.9575, Majority Complexity: 0.9996\n",
            "Generation 171, Best Fitness: 1.9571, Minority Complexity: 0.9575, Majority Complexity: 0.9996\n",
            "Generation 172, Best Fitness: 1.9571, Minority Complexity: 0.9575, Majority Complexity: 0.9996\n",
            "Generation 173, Best Fitness: 1.9571, Minority Complexity: 0.9575, Majority Complexity: 0.9996\n",
            "Generation 174, Best Fitness: 1.9571, Minority Complexity: 0.9575, Majority Complexity: 0.9996\n",
            "Generation 175, Best Fitness: 1.9571, Minority Complexity: 0.9575, Majority Complexity: 0.9996\n",
            "Generation 176, Best Fitness: 1.9571, Minority Complexity: 0.9575, Majority Complexity: 0.9996\n",
            "Generation 177, Best Fitness: 1.9572, Minority Complexity: 0.9576, Majority Complexity: 0.9996\n",
            "Generation 178, Best Fitness: 1.9572, Minority Complexity: 0.9576, Majority Complexity: 0.9996\n",
            "Generation 179, Best Fitness: 1.9572, Minority Complexity: 0.9576, Majority Complexity: 0.9996\n",
            "Generation 180, Best Fitness: 1.9572, Minority Complexity: 0.9576, Majority Complexity: 0.9996\n",
            "Generation 181, Best Fitness: 1.9572, Minority Complexity: 0.9576, Majority Complexity: 0.9996\n",
            "Generation 182, Best Fitness: 1.9572, Minority Complexity: 0.9576, Majority Complexity: 0.9996\n",
            "Generation 183, Best Fitness: 1.9572, Minority Complexity: 0.9576, Majority Complexity: 0.9996\n",
            "Generation 184, Best Fitness: 1.9572, Minority Complexity: 0.9576, Majority Complexity: 0.9996\n",
            "Generation 185, Best Fitness: 1.9572, Minority Complexity: 0.9576, Majority Complexity: 0.9996\n",
            "Generation 186, Best Fitness: 1.9572, Minority Complexity: 0.9576, Majority Complexity: 0.9996\n",
            "Generation 187, Best Fitness: 1.9572, Minority Complexity: 0.9576, Majority Complexity: 0.9996\n",
            "Generation 188, Best Fitness: 1.9572, Minority Complexity: 0.9576, Majority Complexity: 0.9996\n",
            "Generation 189, Best Fitness: 1.9572, Minority Complexity: 0.9576, Majority Complexity: 0.9996\n",
            "Generation 190, Best Fitness: 1.9572, Minority Complexity: 0.9576, Majority Complexity: 0.9996\n",
            "Generation 191, Best Fitness: 1.9572, Minority Complexity: 0.9576, Majority Complexity: 0.9996\n",
            "Generation 192, Best Fitness: 1.9572, Minority Complexity: 0.9576, Majority Complexity: 0.9996\n",
            "Generation 193, Best Fitness: 1.9572, Minority Complexity: 0.9576, Majority Complexity: 0.9996\n",
            "Generation 194, Best Fitness: 1.9574, Minority Complexity: 0.9578, Majority Complexity: 0.9996\n",
            "Generation 195, Best Fitness: 1.9574, Minority Complexity: 0.9578, Majority Complexity: 0.9996\n",
            "Generation 196, Best Fitness: 1.9574, Minority Complexity: 0.9578, Majority Complexity: 0.9996\n",
            "Generation 197, Best Fitness: 1.9574, Minority Complexity: 0.9578, Majority Complexity: 0.9996\n",
            "Generation 198, Best Fitness: 1.9574, Minority Complexity: 0.9578, Majority Complexity: 0.9996\n",
            "Generation 199, Best Fitness: 1.9574, Minority Complexity: 0.9578, Majority Complexity: 0.9996\n",
            "Generation 200, Best Fitness: 1.9574, Minority Complexity: 0.9578, Majority Complexity: 0.9996\n",
            "Generation 201, Best Fitness: 1.9574, Minority Complexity: 0.9578, Majority Complexity: 0.9996\n",
            "Generation 202, Best Fitness: 1.9574, Minority Complexity: 0.9578, Majority Complexity: 0.9996\n",
            "Generation 203, Best Fitness: 1.9574, Minority Complexity: 0.9578, Majority Complexity: 0.9996\n",
            "Generation 204, Best Fitness: 1.9574, Minority Complexity: 0.9578, Majority Complexity: 0.9996\n",
            "Generation 205, Best Fitness: 1.9574, Minority Complexity: 0.9578, Majority Complexity: 0.9996\n",
            "Generation 206, Best Fitness: 1.9574, Minority Complexity: 0.9578, Majority Complexity: 0.9996\n",
            "Generation 207, Best Fitness: 1.9574, Minority Complexity: 0.9578, Majority Complexity: 0.9996\n",
            "Generation 208, Best Fitness: 1.9574, Minority Complexity: 0.9578, Majority Complexity: 0.9996\n",
            "Generation 209, Best Fitness: 1.9576, Minority Complexity: 0.9580, Majority Complexity: 0.9996\n",
            "Generation 210, Best Fitness: 1.9576, Minority Complexity: 0.9580, Majority Complexity: 0.9996\n",
            "Generation 211, Best Fitness: 1.9584, Minority Complexity: 0.9588, Majority Complexity: 0.9996\n",
            "Generation 212, Best Fitness: 1.9584, Minority Complexity: 0.9588, Majority Complexity: 0.9996\n",
            "Generation 213, Best Fitness: 1.9584, Minority Complexity: 0.9588, Majority Complexity: 0.9996\n",
            "Generation 214, Best Fitness: 1.9584, Minority Complexity: 0.9588, Majority Complexity: 0.9996\n",
            "Generation 215, Best Fitness: 1.9584, Minority Complexity: 0.9588, Majority Complexity: 0.9996\n",
            "Generation 216, Best Fitness: 1.9584, Minority Complexity: 0.9588, Majority Complexity: 0.9996\n",
            "Generation 217, Best Fitness: 1.9584, Minority Complexity: 0.9588, Majority Complexity: 0.9996\n",
            "Generation 218, Best Fitness: 1.9584, Minority Complexity: 0.9588, Majority Complexity: 0.9996\n",
            "Generation 219, Best Fitness: 1.9584, Minority Complexity: 0.9588, Majority Complexity: 0.9996\n",
            "Generation 220, Best Fitness: 1.9584, Minority Complexity: 0.9588, Majority Complexity: 0.9996\n",
            "Generation 221, Best Fitness: 1.9584, Minority Complexity: 0.9588, Majority Complexity: 0.9996\n",
            "Generation 222, Best Fitness: 1.9584, Minority Complexity: 0.9588, Majority Complexity: 0.9996\n",
            "Generation 223, Best Fitness: 1.9584, Minority Complexity: 0.9588, Majority Complexity: 0.9996\n",
            "Generation 224, Best Fitness: 1.9584, Minority Complexity: 0.9588, Majority Complexity: 0.9996\n",
            "Generation 225, Best Fitness: 1.9584, Minority Complexity: 0.9588, Majority Complexity: 0.9996\n",
            "Generation 226, Best Fitness: 1.9584, Minority Complexity: 0.9588, Majority Complexity: 0.9996\n",
            "Generation 227, Best Fitness: 1.9584, Minority Complexity: 0.9588, Majority Complexity: 0.9996\n",
            "Generation 228, Best Fitness: 1.9584, Minority Complexity: 0.9588, Majority Complexity: 0.9996\n",
            "Generation 229, Best Fitness: 1.9584, Minority Complexity: 0.9588, Majority Complexity: 0.9996\n",
            "Generation 230, Best Fitness: 1.9584, Minority Complexity: 0.9588, Majority Complexity: 0.9996\n",
            "Generation 231, Best Fitness: 1.9584, Minority Complexity: 0.9588, Majority Complexity: 0.9996\n",
            "Generation 232, Best Fitness: 1.9584, Minority Complexity: 0.9588, Majority Complexity: 0.9996\n",
            "Generation 233, Best Fitness: 1.9584, Minority Complexity: 0.9588, Majority Complexity: 0.9996\n",
            "Generation 234, Best Fitness: 1.9584, Minority Complexity: 0.9588, Majority Complexity: 0.9996\n",
            "Generation 235, Best Fitness: 1.9584, Minority Complexity: 0.9588, Majority Complexity: 0.9996\n",
            "Generation 236, Best Fitness: 1.9584, Minority Complexity: 0.9588, Majority Complexity: 0.9996\n",
            "Generation 237, Best Fitness: 1.9584, Minority Complexity: 0.9588, Majority Complexity: 0.9996\n",
            "Generation 238, Best Fitness: 1.9584, Minority Complexity: 0.9588, Majority Complexity: 0.9996\n",
            "Generation 239, Best Fitness: 1.9584, Minority Complexity: 0.9588, Majority Complexity: 0.9996\n",
            "Generation 240, Best Fitness: 1.9584, Minority Complexity: 0.9588, Majority Complexity: 0.9996\n",
            "Generation 241, Best Fitness: 1.9585, Minority Complexity: 0.9588, Majority Complexity: 0.9996\n",
            "Generation 242, Best Fitness: 1.9585, Minority Complexity: 0.9588, Majority Complexity: 0.9996\n",
            "Generation 243, Best Fitness: 1.9585, Minority Complexity: 0.9588, Majority Complexity: 0.9996\n",
            "Generation 244, Best Fitness: 1.9585, Minority Complexity: 0.9588, Majority Complexity: 0.9996\n",
            "Generation 245, Best Fitness: 1.9585, Minority Complexity: 0.9588, Majority Complexity: 0.9996\n",
            "Generation 246, Best Fitness: 1.9585, Minority Complexity: 0.9588, Majority Complexity: 0.9996\n",
            "Generation 247, Best Fitness: 1.9585, Minority Complexity: 0.9588, Majority Complexity: 0.9996\n",
            "Generation 248, Best Fitness: 1.9585, Minority Complexity: 0.9588, Majority Complexity: 0.9996\n",
            "Generation 249, Best Fitness: 1.9585, Minority Complexity: 0.9588, Majority Complexity: 0.9996\n",
            "Generation 250, Best Fitness: 1.9585, Minority Complexity: 0.9588, Majority Complexity: 0.9996\n",
            "Generation 251, Best Fitness: 1.9585, Minority Complexity: 0.9588, Majority Complexity: 0.9996\n",
            "Generation 252, Best Fitness: 1.9585, Minority Complexity: 0.9588, Majority Complexity: 0.9996\n",
            "Generation 253, Best Fitness: 1.9585, Minority Complexity: 0.9588, Majority Complexity: 0.9996\n",
            "Generation 254, Best Fitness: 1.9585, Minority Complexity: 0.9588, Majority Complexity: 0.9996\n",
            "Generation 255, Best Fitness: 1.9585, Minority Complexity: 0.9588, Majority Complexity: 0.9996\n",
            "Generation 256, Best Fitness: 1.9585, Minority Complexity: 0.9588, Majority Complexity: 0.9996\n",
            "Generation 257, Best Fitness: 1.9585, Minority Complexity: 0.9588, Majority Complexity: 0.9996\n",
            "Generation 258, Best Fitness: 1.9585, Minority Complexity: 0.9588, Majority Complexity: 0.9996\n",
            "Generation 259, Best Fitness: 1.9586, Minority Complexity: 0.9593, Majority Complexity: 0.9994\n",
            "Generation 260, Best Fitness: 1.9586, Minority Complexity: 0.9593, Majority Complexity: 0.9994\n",
            "Generation 261, Best Fitness: 1.9586, Minority Complexity: 0.9593, Majority Complexity: 0.9994\n",
            "Generation 262, Best Fitness: 1.9586, Minority Complexity: 0.9593, Majority Complexity: 0.9994\n",
            "Generation 263, Best Fitness: 1.9586, Minority Complexity: 0.9593, Majority Complexity: 0.9994\n",
            "Generation 264, Best Fitness: 1.9586, Minority Complexity: 0.9593, Majority Complexity: 0.9994\n",
            "Generation 265, Best Fitness: 1.9586, Minority Complexity: 0.9593, Majority Complexity: 0.9994\n",
            "Generation 266, Best Fitness: 1.9586, Minority Complexity: 0.9593, Majority Complexity: 0.9994\n",
            "Generation 267, Best Fitness: 1.9586, Minority Complexity: 0.9593, Majority Complexity: 0.9994\n",
            "Generation 268, Best Fitness: 1.9589, Minority Complexity: 0.9596, Majority Complexity: 0.9993\n",
            "Generation 269, Best Fitness: 1.9589, Minority Complexity: 0.9596, Majority Complexity: 0.9993\n",
            "Generation 270, Best Fitness: 1.9589, Minority Complexity: 0.9596, Majority Complexity: 0.9993\n",
            "Generation 271, Best Fitness: 1.9589, Minority Complexity: 0.9596, Majority Complexity: 0.9993\n",
            "Generation 272, Best Fitness: 1.9589, Minority Complexity: 0.9596, Majority Complexity: 0.9993\n",
            "Generation 273, Best Fitness: 1.9589, Minority Complexity: 0.9596, Majority Complexity: 0.9993\n",
            "Generation 274, Best Fitness: 1.9589, Minority Complexity: 0.9596, Majority Complexity: 0.9993\n",
            "Generation 275, Best Fitness: 1.9589, Minority Complexity: 0.9596, Majority Complexity: 0.9993\n",
            "Generation 276, Best Fitness: 1.9589, Minority Complexity: 0.9596, Majority Complexity: 0.9993\n",
            "Generation 277, Best Fitness: 1.9589, Minority Complexity: 0.9596, Majority Complexity: 0.9993\n",
            "Generation 278, Best Fitness: 1.9589, Minority Complexity: 0.9596, Majority Complexity: 0.9993\n",
            "Generation 279, Best Fitness: 1.9589, Minority Complexity: 0.9596, Majority Complexity: 0.9993\n",
            "Generation 280, Best Fitness: 1.9589, Minority Complexity: 0.9596, Majority Complexity: 0.9993\n",
            "Generation 281, Best Fitness: 1.9589, Minority Complexity: 0.9596, Majority Complexity: 0.9993\n",
            "Generation 282, Best Fitness: 1.9589, Minority Complexity: 0.9596, Majority Complexity: 0.9993\n",
            "Generation 283, Best Fitness: 1.9589, Minority Complexity: 0.9596, Majority Complexity: 0.9993\n",
            "Generation 284, Best Fitness: 1.9589, Minority Complexity: 0.9596, Majority Complexity: 0.9993\n",
            "Generation 285, Best Fitness: 1.9589, Minority Complexity: 0.9596, Majority Complexity: 0.9993\n",
            "Generation 286, Best Fitness: 1.9589, Minority Complexity: 0.9596, Majority Complexity: 0.9993\n",
            "Generation 287, Best Fitness: 1.9589, Minority Complexity: 0.9596, Majority Complexity: 0.9993\n",
            "Generation 288, Best Fitness: 1.9589, Minority Complexity: 0.9596, Majority Complexity: 0.9993\n",
            "Generation 289, Best Fitness: 1.9589, Minority Complexity: 0.9596, Majority Complexity: 0.9993\n",
            "Generation 290, Best Fitness: 1.9589, Minority Complexity: 0.9596, Majority Complexity: 0.9993\n",
            "Generation 291, Best Fitness: 1.9589, Minority Complexity: 0.9596, Majority Complexity: 0.9993\n",
            "Generation 292, Best Fitness: 1.9589, Minority Complexity: 0.9596, Majority Complexity: 0.9993\n",
            "Generation 293, Best Fitness: 1.9589, Minority Complexity: 0.9596, Majority Complexity: 0.9993\n",
            "Generation 294, Best Fitness: 1.9589, Minority Complexity: 0.9596, Majority Complexity: 0.9993\n",
            "Generation 295, Best Fitness: 1.9589, Minority Complexity: 0.9596, Majority Complexity: 0.9993\n",
            "Generation 296, Best Fitness: 1.9589, Minority Complexity: 0.9596, Majority Complexity: 0.9993\n",
            "Generation 297, Best Fitness: 1.9589, Minority Complexity: 0.9596, Majority Complexity: 0.9993\n",
            "Generation 298, Best Fitness: 1.9589, Minority Complexity: 0.9596, Majority Complexity: 0.9993\n",
            "Generation 299, Best Fitness: 1.9589, Minority Complexity: 0.9596, Majority Complexity: 0.9993\n",
            "Generation 300, Best Fitness: 1.9589, Minority Complexity: 0.9596, Majority Complexity: 0.9993\n",
            "Generation 301, Best Fitness: 1.9589, Minority Complexity: 0.9596, Majority Complexity: 0.9993\n",
            "Generation 302, Best Fitness: 1.9589, Minority Complexity: 0.9596, Majority Complexity: 0.9993\n",
            "Generation 303, Best Fitness: 1.9589, Minority Complexity: 0.9596, Majority Complexity: 0.9993\n",
            "Generation 304, Best Fitness: 1.9589, Minority Complexity: 0.9596, Majority Complexity: 0.9993\n",
            "Generation 305, Best Fitness: 1.9589, Minority Complexity: 0.9596, Majority Complexity: 0.9993\n",
            "Generation 306, Best Fitness: 1.9589, Minority Complexity: 0.9596, Majority Complexity: 0.9993\n",
            "Generation 307, Best Fitness: 1.9589, Minority Complexity: 0.9594, Majority Complexity: 0.9996\n",
            "Generation 308, Best Fitness: 1.9589, Minority Complexity: 0.9594, Majority Complexity: 0.9996\n",
            "Generation 309, Best Fitness: 1.9612, Minority Complexity: 0.9616, Majority Complexity: 0.9996\n",
            "Generation 310, Best Fitness: 1.9612, Minority Complexity: 0.9616, Majority Complexity: 0.9996\n",
            "Generation 311, Best Fitness: 1.9612, Minority Complexity: 0.9616, Majority Complexity: 0.9996\n",
            "Generation 312, Best Fitness: 1.9612, Minority Complexity: 0.9616, Majority Complexity: 0.9996\n",
            "Generation 313, Best Fitness: 1.9612, Minority Complexity: 0.9616, Majority Complexity: 0.9996\n",
            "Generation 314, Best Fitness: 1.9612, Minority Complexity: 0.9616, Majority Complexity: 0.9996\n",
            "Generation 315, Best Fitness: 1.9612, Minority Complexity: 0.9616, Majority Complexity: 0.9996\n",
            "Generation 316, Best Fitness: 1.9612, Minority Complexity: 0.9616, Majority Complexity: 0.9996\n",
            "Generation 317, Best Fitness: 1.9612, Minority Complexity: 0.9616, Majority Complexity: 0.9996\n",
            "Generation 318, Best Fitness: 1.9612, Minority Complexity: 0.9616, Majority Complexity: 0.9996\n",
            "Generation 319, Best Fitness: 1.9612, Minority Complexity: 0.9616, Majority Complexity: 0.9996\n",
            "Generation 320, Best Fitness: 1.9612, Minority Complexity: 0.9616, Majority Complexity: 0.9996\n",
            "Generation 321, Best Fitness: 1.9612, Minority Complexity: 0.9616, Majority Complexity: 0.9996\n",
            "Generation 322, Best Fitness: 1.9612, Minority Complexity: 0.9616, Majority Complexity: 0.9996\n",
            "Generation 323, Best Fitness: 1.9612, Minority Complexity: 0.9616, Majority Complexity: 0.9996\n",
            "Generation 324, Best Fitness: 1.9612, Minority Complexity: 0.9616, Majority Complexity: 0.9996\n",
            "Generation 325, Best Fitness: 1.9612, Minority Complexity: 0.9616, Majority Complexity: 0.9996\n",
            "Generation 326, Best Fitness: 1.9612, Minority Complexity: 0.9616, Majority Complexity: 0.9996\n",
            "Generation 327, Best Fitness: 1.9612, Minority Complexity: 0.9616, Majority Complexity: 0.9996\n",
            "Generation 328, Best Fitness: 1.9612, Minority Complexity: 0.9616, Majority Complexity: 0.9996\n",
            "Generation 329, Best Fitness: 1.9612, Minority Complexity: 0.9616, Majority Complexity: 0.9996\n",
            "Generation 330, Best Fitness: 1.9612, Minority Complexity: 0.9616, Majority Complexity: 0.9996\n",
            "Generation 331, Best Fitness: 1.9641, Minority Complexity: 0.9642, Majority Complexity: 0.9999\n",
            "Generation 332, Best Fitness: 1.9641, Minority Complexity: 0.9642, Majority Complexity: 0.9999\n",
            "Generation 333, Best Fitness: 1.9642, Minority Complexity: 0.9643, Majority Complexity: 0.9999\n",
            "Generation 334, Best Fitness: 1.9642, Minority Complexity: 0.9643, Majority Complexity: 0.9999\n",
            "Generation 335, Best Fitness: 1.9642, Minority Complexity: 0.9643, Majority Complexity: 0.9999\n",
            "Generation 336, Best Fitness: 1.9644, Minority Complexity: 0.9645, Majority Complexity: 0.9998\n",
            "Generation 337, Best Fitness: 1.9644, Minority Complexity: 0.9645, Majority Complexity: 0.9998\n",
            "Generation 338, Best Fitness: 1.9644, Minority Complexity: 0.9645, Majority Complexity: 0.9998\n",
            "Generation 339, Best Fitness: 1.9644, Minority Complexity: 0.9645, Majority Complexity: 0.9998\n",
            "Generation 340, Best Fitness: 1.9644, Minority Complexity: 0.9645, Majority Complexity: 0.9998\n",
            "Generation 341, Best Fitness: 1.9644, Minority Complexity: 0.9645, Majority Complexity: 0.9998\n",
            "Generation 342, Best Fitness: 1.9644, Minority Complexity: 0.9645, Majority Complexity: 0.9998\n",
            "Generation 343, Best Fitness: 1.9644, Minority Complexity: 0.9645, Majority Complexity: 0.9998\n",
            "Generation 344, Best Fitness: 1.9644, Minority Complexity: 0.9645, Majority Complexity: 0.9998\n",
            "Generation 345, Best Fitness: 1.9644, Minority Complexity: 0.9645, Majority Complexity: 0.9998\n",
            "Generation 346, Best Fitness: 1.9644, Minority Complexity: 0.9645, Majority Complexity: 0.9998\n",
            "Generation 347, Best Fitness: 1.9644, Minority Complexity: 0.9645, Majority Complexity: 0.9998\n",
            "Generation 348, Best Fitness: 1.9644, Minority Complexity: 0.9645, Majority Complexity: 0.9998\n",
            "Generation 349, Best Fitness: 1.9644, Minority Complexity: 0.9645, Majority Complexity: 0.9998\n",
            "Generation 350, Best Fitness: 1.9644, Minority Complexity: 0.9645, Majority Complexity: 0.9998\n",
            "Generation 351, Best Fitness: 1.9644, Minority Complexity: 0.9645, Majority Complexity: 0.9998\n",
            "Generation 352, Best Fitness: 1.9644, Minority Complexity: 0.9645, Majority Complexity: 0.9998\n",
            "Generation 353, Best Fitness: 1.9644, Minority Complexity: 0.9645, Majority Complexity: 0.9998\n",
            "Generation 354, Best Fitness: 1.9644, Minority Complexity: 0.9645, Majority Complexity: 0.9998\n",
            "Generation 355, Best Fitness: 1.9644, Minority Complexity: 0.9645, Majority Complexity: 0.9998\n",
            "Generation 356, Best Fitness: 1.9644, Minority Complexity: 0.9645, Majority Complexity: 0.9998\n",
            "Generation 357, Best Fitness: 1.9644, Minority Complexity: 0.9645, Majority Complexity: 0.9998\n",
            "Generation 358, Best Fitness: 1.9650, Minority Complexity: 0.9655, Majority Complexity: 0.9994\n",
            "Generation 359, Best Fitness: 1.9650, Minority Complexity: 0.9655, Majority Complexity: 0.9994\n",
            "Generation 360, Best Fitness: 1.9650, Minority Complexity: 0.9655, Majority Complexity: 0.9994\n",
            "Generation 361, Best Fitness: 1.9650, Minority Complexity: 0.9655, Majority Complexity: 0.9994\n",
            "Generation 362, Best Fitness: 1.9650, Minority Complexity: 0.9654, Majority Complexity: 0.9996\n",
            "Generation 363, Best Fitness: 1.9650, Minority Complexity: 0.9654, Majority Complexity: 0.9996\n",
            "Generation 364, Best Fitness: 1.9650, Minority Complexity: 0.9654, Majority Complexity: 0.9996\n",
            "Generation 365, Best Fitness: 1.9650, Minority Complexity: 0.9654, Majority Complexity: 0.9996\n",
            "Generation 366, Best Fitness: 1.9652, Minority Complexity: 0.9654, Majority Complexity: 0.9998\n",
            "Generation 367, Best Fitness: 1.9652, Minority Complexity: 0.9654, Majority Complexity: 0.9998\n",
            "Generation 368, Best Fitness: 1.9652, Minority Complexity: 0.9654, Majority Complexity: 0.9998\n",
            "Generation 369, Best Fitness: 1.9652, Minority Complexity: 0.9654, Majority Complexity: 0.9998\n",
            "Generation 370, Best Fitness: 1.9652, Minority Complexity: 0.9654, Majority Complexity: 0.9998\n",
            "Generation 371, Best Fitness: 1.9652, Minority Complexity: 0.9654, Majority Complexity: 0.9998\n",
            "Generation 372, Best Fitness: 1.9652, Minority Complexity: 0.9654, Majority Complexity: 0.9998\n",
            "Generation 373, Best Fitness: 1.9652, Minority Complexity: 0.9654, Majority Complexity: 0.9998\n",
            "Generation 374, Best Fitness: 1.9652, Minority Complexity: 0.9654, Majority Complexity: 0.9998\n",
            "Generation 375, Best Fitness: 1.9652, Minority Complexity: 0.9654, Majority Complexity: 0.9998\n",
            "Generation 376, Best Fitness: 1.9652, Minority Complexity: 0.9654, Majority Complexity: 0.9998\n",
            "Generation 377, Best Fitness: 1.9652, Minority Complexity: 0.9654, Majority Complexity: 0.9998\n",
            "Generation 378, Best Fitness: 1.9652, Minority Complexity: 0.9654, Majority Complexity: 0.9998\n",
            "Generation 379, Best Fitness: 1.9652, Minority Complexity: 0.9654, Majority Complexity: 0.9998\n",
            "Generation 380, Best Fitness: 1.9652, Minority Complexity: 0.9654, Majority Complexity: 0.9998\n",
            "Generation 381, Best Fitness: 1.9652, Minority Complexity: 0.9654, Majority Complexity: 0.9998\n",
            "Generation 382, Best Fitness: 1.9652, Minority Complexity: 0.9654, Majority Complexity: 0.9998\n",
            "Generation 383, Best Fitness: 1.9652, Minority Complexity: 0.9654, Majority Complexity: 0.9998\n",
            "Generation 384, Best Fitness: 1.9652, Minority Complexity: 0.9654, Majority Complexity: 0.9998\n",
            "Generation 385, Best Fitness: 1.9652, Minority Complexity: 0.9654, Majority Complexity: 0.9998\n",
            "Generation 386, Best Fitness: 1.9652, Minority Complexity: 0.9654, Majority Complexity: 0.9998\n",
            "Generation 387, Best Fitness: 1.9652, Minority Complexity: 0.9654, Majority Complexity: 0.9998\n",
            "Generation 388, Best Fitness: 1.9652, Minority Complexity: 0.9654, Majority Complexity: 0.9998\n",
            "Generation 389, Best Fitness: 1.9652, Minority Complexity: 0.9654, Majority Complexity: 0.9998\n",
            "Generation 390, Best Fitness: 1.9652, Minority Complexity: 0.9654, Majority Complexity: 0.9998\n",
            "Generation 391, Best Fitness: 1.9653, Minority Complexity: 0.9655, Majority Complexity: 0.9998\n",
            "Generation 392, Best Fitness: 1.9653, Minority Complexity: 0.9655, Majority Complexity: 0.9998\n",
            "Generation 393, Best Fitness: 1.9653, Minority Complexity: 0.9655, Majority Complexity: 0.9998\n",
            "Generation 394, Best Fitness: 1.9653, Minority Complexity: 0.9655, Majority Complexity: 0.9998\n",
            "Generation 395, Best Fitness: 1.9653, Minority Complexity: 0.9655, Majority Complexity: 0.9998\n",
            "Generation 396, Best Fitness: 1.9653, Minority Complexity: 0.9655, Majority Complexity: 0.9998\n",
            "Generation 397, Best Fitness: 1.9653, Minority Complexity: 0.9655, Majority Complexity: 0.9998\n",
            "Generation 398, Best Fitness: 1.9653, Minority Complexity: 0.9655, Majority Complexity: 0.9998\n",
            "Generation 399, Best Fitness: 1.9653, Minority Complexity: 0.9655, Majority Complexity: 0.9998\n",
            "Generation 400, Best Fitness: 1.9653, Minority Complexity: 0.9655, Majority Complexity: 0.9998\n",
            "Generation 401, Best Fitness: 1.9653, Minority Complexity: 0.9655, Majority Complexity: 0.9998\n",
            "Generation 402, Best Fitness: 1.9653, Minority Complexity: 0.9655, Majority Complexity: 0.9998\n",
            "Generation 403, Best Fitness: 1.9653, Minority Complexity: 0.9655, Majority Complexity: 0.9998\n",
            "Generation 404, Best Fitness: 1.9653, Minority Complexity: 0.9655, Majority Complexity: 0.9998\n",
            "Generation 405, Best Fitness: 1.9653, Minority Complexity: 0.9655, Majority Complexity: 0.9998\n",
            "Generation 406, Best Fitness: 1.9653, Minority Complexity: 0.9655, Majority Complexity: 0.9998\n",
            "Generation 407, Best Fitness: 1.9653, Minority Complexity: 0.9655, Majority Complexity: 0.9998\n",
            "Generation 408, Best Fitness: 1.9653, Minority Complexity: 0.9655, Majority Complexity: 0.9998\n",
            "Generation 409, Best Fitness: 1.9653, Minority Complexity: 0.9655, Majority Complexity: 0.9998\n",
            "Generation 410, Best Fitness: 1.9653, Minority Complexity: 0.9655, Majority Complexity: 0.9998\n",
            "Generation 411, Best Fitness: 1.9653, Minority Complexity: 0.9655, Majority Complexity: 0.9998\n",
            "Generation 412, Best Fitness: 1.9653, Minority Complexity: 0.9655, Majority Complexity: 0.9998\n",
            "Generation 413, Best Fitness: 1.9653, Minority Complexity: 0.9655, Majority Complexity: 0.9998\n",
            "Generation 414, Best Fitness: 1.9653, Minority Complexity: 0.9655, Majority Complexity: 0.9998\n",
            "Generation 415, Best Fitness: 1.9653, Minority Complexity: 0.9655, Majority Complexity: 0.9998\n",
            "Generation 416, Best Fitness: 1.9653, Minority Complexity: 0.9655, Majority Complexity: 0.9998\n",
            "Generation 417, Best Fitness: 1.9653, Minority Complexity: 0.9655, Majority Complexity: 0.9998\n",
            "Generation 418, Best Fitness: 1.9653, Minority Complexity: 0.9655, Majority Complexity: 0.9998\n",
            "Generation 419, Best Fitness: 1.9653, Minority Complexity: 0.9655, Majority Complexity: 0.9998\n",
            "Generation 420, Best Fitness: 1.9653, Minority Complexity: 0.9655, Majority Complexity: 0.9998\n",
            "Generation 421, Best Fitness: 1.9653, Minority Complexity: 0.9655, Majority Complexity: 0.9998\n",
            "Generation 422, Best Fitness: 1.9653, Minority Complexity: 0.9655, Majority Complexity: 0.9998\n",
            "Generation 423, Best Fitness: 1.9653, Minority Complexity: 0.9655, Majority Complexity: 0.9998\n",
            "Generation 424, Best Fitness: 1.9653, Minority Complexity: 0.9655, Majority Complexity: 0.9998\n",
            "Generation 425, Best Fitness: 1.9653, Minority Complexity: 0.9655, Majority Complexity: 0.9998\n",
            "Generation 426, Best Fitness: 1.9653, Minority Complexity: 0.9655, Majority Complexity: 0.9998\n",
            "Generation 427, Best Fitness: 1.9653, Minority Complexity: 0.9655, Majority Complexity: 0.9998\n",
            "Generation 428, Best Fitness: 1.9653, Minority Complexity: 0.9655, Majority Complexity: 0.9998\n",
            "Generation 429, Best Fitness: 1.9653, Minority Complexity: 0.9655, Majority Complexity: 0.9998\n",
            "Generation 430, Best Fitness: 1.9653, Minority Complexity: 0.9655, Majority Complexity: 0.9998\n",
            "Generation 431, Best Fitness: 1.9653, Minority Complexity: 0.9655, Majority Complexity: 0.9998\n",
            "Generation 432, Best Fitness: 1.9653, Minority Complexity: 0.9655, Majority Complexity: 0.9998\n",
            "Generation 433, Best Fitness: 1.9653, Minority Complexity: 0.9655, Majority Complexity: 0.9998\n",
            "Generation 434, Best Fitness: 1.9653, Minority Complexity: 0.9655, Majority Complexity: 0.9998\n",
            "Generation 435, Best Fitness: 1.9653, Minority Complexity: 0.9655, Majority Complexity: 0.9998\n",
            "Generation 436, Best Fitness: 1.9653, Minority Complexity: 0.9655, Majority Complexity: 0.9998\n",
            "Generation 437, Best Fitness: 1.9653, Minority Complexity: 0.9655, Majority Complexity: 0.9998\n",
            "Generation 438, Best Fitness: 1.9653, Minority Complexity: 0.9655, Majority Complexity: 0.9998\n",
            "Generation 439, Best Fitness: 1.9653, Minority Complexity: 0.9655, Majority Complexity: 0.9998\n",
            "Generation 440, Best Fitness: 1.9653, Minority Complexity: 0.9655, Majority Complexity: 0.9998\n",
            "Generation 441, Best Fitness: 1.9653, Minority Complexity: 0.9655, Majority Complexity: 0.9998\n",
            "Generation 442, Best Fitness: 1.9653, Minority Complexity: 0.9655, Majority Complexity: 0.9998\n",
            "Generation 443, Best Fitness: 1.9654, Minority Complexity: 0.9655, Majority Complexity: 0.9998\n",
            "Generation 444, Best Fitness: 1.9654, Minority Complexity: 0.9655, Majority Complexity: 0.9998\n",
            "Generation 445, Best Fitness: 1.9654, Minority Complexity: 0.9655, Majority Complexity: 0.9998\n",
            "Generation 446, Best Fitness: 1.9654, Minority Complexity: 0.9655, Majority Complexity: 0.9998\n",
            "Generation 447, Best Fitness: 1.9654, Minority Complexity: 0.9655, Majority Complexity: 0.9998\n",
            "Generation 448, Best Fitness: 1.9654, Minority Complexity: 0.9655, Majority Complexity: 0.9998\n",
            "Generation 449, Best Fitness: 1.9654, Minority Complexity: 0.9655, Majority Complexity: 0.9998\n",
            "Generation 450, Best Fitness: 1.9654, Minority Complexity: 0.9655, Majority Complexity: 0.9998\n",
            "Generation 451, Best Fitness: 1.9654, Minority Complexity: 0.9655, Majority Complexity: 0.9998\n",
            "Generation 452, Best Fitness: 1.9654, Minority Complexity: 0.9655, Majority Complexity: 0.9998\n",
            "Generation 453, Best Fitness: 1.9654, Minority Complexity: 0.9655, Majority Complexity: 0.9998\n",
            "Generation 454, Best Fitness: 1.9654, Minority Complexity: 0.9655, Majority Complexity: 0.9998\n",
            "Generation 455, Best Fitness: 1.9654, Minority Complexity: 0.9655, Majority Complexity: 0.9998\n",
            "Generation 456, Best Fitness: 1.9654, Minority Complexity: 0.9655, Majority Complexity: 0.9998\n",
            "Generation 457, Best Fitness: 1.9654, Minority Complexity: 0.9655, Majority Complexity: 0.9998\n",
            "Generation 458, Best Fitness: 1.9654, Minority Complexity: 0.9655, Majority Complexity: 0.9998\n",
            "Generation 459, Best Fitness: 1.9654, Minority Complexity: 0.9655, Majority Complexity: 0.9998\n",
            "Generation 460, Best Fitness: 1.9654, Minority Complexity: 0.9655, Majority Complexity: 0.9998\n",
            "Generation 461, Best Fitness: 1.9654, Minority Complexity: 0.9655, Majority Complexity: 0.9999\n",
            "Generation 462, Best Fitness: 1.9654, Minority Complexity: 0.9655, Majority Complexity: 0.9999\n",
            "Generation 463, Best Fitness: 1.9654, Minority Complexity: 0.9655, Majority Complexity: 0.9999\n",
            "Generation 464, Best Fitness: 1.9654, Minority Complexity: 0.9655, Majority Complexity: 0.9999\n",
            "Generation 465, Best Fitness: 1.9654, Minority Complexity: 0.9655, Majority Complexity: 0.9999\n",
            "Generation 466, Best Fitness: 1.9654, Minority Complexity: 0.9655, Majority Complexity: 0.9999\n",
            "Generation 467, Best Fitness: 1.9654, Minority Complexity: 0.9655, Majority Complexity: 0.9999\n",
            "Generation 468, Best Fitness: 1.9654, Minority Complexity: 0.9655, Majority Complexity: 0.9999\n",
            "Generation 469, Best Fitness: 1.9654, Minority Complexity: 0.9655, Majority Complexity: 0.9999\n",
            "Generation 470, Best Fitness: 1.9654, Minority Complexity: 0.9655, Majority Complexity: 0.9999\n",
            "Generation 471, Best Fitness: 1.9654, Minority Complexity: 0.9655, Majority Complexity: 0.9999\n",
            "Generation 472, Best Fitness: 1.9654, Minority Complexity: 0.9655, Majority Complexity: 0.9999\n",
            "Generation 473, Best Fitness: 1.9654, Minority Complexity: 0.9655, Majority Complexity: 0.9999\n",
            "Generation 474, Best Fitness: 1.9654, Minority Complexity: 0.9655, Majority Complexity: 0.9999\n",
            "Generation 475, Best Fitness: 1.9654, Minority Complexity: 0.9655, Majority Complexity: 0.9999\n",
            "Generation 476, Best Fitness: 1.9654, Minority Complexity: 0.9655, Majority Complexity: 0.9999\n",
            "Generation 477, Best Fitness: 1.9654, Minority Complexity: 0.9655, Majority Complexity: 0.9999\n",
            "Generation 478, Best Fitness: 1.9654, Minority Complexity: 0.9655, Majority Complexity: 0.9999\n",
            "Generation 479, Best Fitness: 1.9654, Minority Complexity: 0.9655, Majority Complexity: 0.9999\n",
            "Generation 480, Best Fitness: 1.9654, Minority Complexity: 0.9655, Majority Complexity: 0.9999\n",
            "Generation 481, Best Fitness: 1.9654, Minority Complexity: 0.9655, Majority Complexity: 0.9999\n",
            "Generation 482, Best Fitness: 1.9654, Minority Complexity: 0.9655, Majority Complexity: 0.9999\n",
            "Generation 483, Best Fitness: 1.9654, Minority Complexity: 0.9655, Majority Complexity: 0.9999\n",
            "Generation 484, Best Fitness: 1.9654, Minority Complexity: 0.9655, Majority Complexity: 0.9999\n",
            "Generation 485, Best Fitness: 1.9654, Minority Complexity: 0.9655, Majority Complexity: 0.9999\n",
            "Generation 486, Best Fitness: 1.9654, Minority Complexity: 0.9655, Majority Complexity: 0.9999\n",
            "Generation 487, Best Fitness: 1.9654, Minority Complexity: 0.9655, Majority Complexity: 0.9999\n",
            "Generation 488, Best Fitness: 1.9654, Minority Complexity: 0.9655, Majority Complexity: 0.9999\n",
            "Generation 489, Best Fitness: 1.9654, Minority Complexity: 0.9655, Majority Complexity: 0.9999\n",
            "Generation 490, Best Fitness: 1.9654, Minority Complexity: 0.9655, Majority Complexity: 0.9999\n",
            "Generation 491, Best Fitness: 1.9654, Minority Complexity: 0.9655, Majority Complexity: 0.9999\n",
            "Generation 492, Best Fitness: 1.9654, Minority Complexity: 0.9655, Majority Complexity: 0.9999\n",
            "Generation 493, Best Fitness: 1.9654, Minority Complexity: 0.9655, Majority Complexity: 0.9999\n",
            "Generation 494, Best Fitness: 1.9654, Minority Complexity: 0.9655, Majority Complexity: 0.9999\n",
            "Generation 495, Best Fitness: 1.9654, Minority Complexity: 0.9655, Majority Complexity: 0.9999\n",
            "Generation 496, Best Fitness: 1.9654, Minority Complexity: 0.9655, Majority Complexity: 0.9999\n",
            "Generation 497, Best Fitness: 1.9654, Minority Complexity: 0.9655, Majority Complexity: 0.9999\n",
            "Generation 498, Best Fitness: 1.9654, Minority Complexity: 0.9655, Majority Complexity: 0.9999\n",
            "Generation 499, Best Fitness: 1.9654, Minority Complexity: 0.9655, Majority Complexity: 0.9999\n",
            "Generation 500, Best Fitness: 1.9654, Minority Complexity: 0.9655, Majority Complexity: 0.9999\n",
            "X_train_selected shape: (5828, 6)\n",
            "y_train_selected shape: (5828,)\n",
            "X_test_concatenated shape: (1465, 6)\n",
            "y_test_concatenated shape: (1465,)\n",
            "Test Loss: 0.6430, Accuracy: 0.7860, Recall: 0.8463, F1 Score: 0.5374, G-Mean: 0.6682, ROC AUC: 0.7331\n",
            "AUC: 0.7331, Recall: 0.8463, G-mean: 0.6682, F1 Score: 0.5374\n"
          ]
        }
      ]
    }
  ],
  "metadata": {
    "accelerator": "GPU",
    "colab": {
      "gpuType": "T4",
      "provenance": []
    },
    "kernelspec": {
      "display_name": "Python 3",
      "name": "python3"
    },
    "language_info": {
      "name": "python"
    }
  },
  "nbformat": 4,
  "nbformat_minor": 0
}
